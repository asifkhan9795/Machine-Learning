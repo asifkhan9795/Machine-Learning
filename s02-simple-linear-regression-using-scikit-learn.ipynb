{
 "cells": [
  {
   "cell_type": "markdown",
   "id": "05f2fbd3",
   "metadata": {
    "papermill": {
     "duration": 0.019253,
     "end_time": "2024-08-15T20:50:36.127411",
     "exception": false,
     "start_time": "2024-08-15T20:50:36.108158",
     "status": "completed"
    },
    "tags": []
   },
   "source": [
    "### Linear Regression Implementation using Scikit learn"
   ]
  },
  {
   "cell_type": "markdown",
   "id": "2160e24d",
   "metadata": {
    "papermill": {
     "duration": 0.017209,
     "end_time": "2024-08-15T20:50:36.162329",
     "exception": false,
     "start_time": "2024-08-15T20:50:36.145120",
     "status": "completed"
    },
    "tags": []
   },
   "source": [
    "Regression analysis is the most widely used method of prediction. Linear regression is used when the dataset has a linear correlation and as the name suggests, simple linear regression has one independent variable (predictor) and one dependent variable(response).\n",
    "\n",
    "The simple linear regression equation is represented as y = a+bx where x is the explanatory variable, y is the dependent variable, b is coefficient and a is the intercept.\n",
    "\n",
    "For regression analysis, first we have to import libraries."
   ]
  },
  {
   "cell_type": "code",
   "execution_count": 1,
   "id": "dabee40f",
   "metadata": {
    "execution": {
     "iopub.execute_input": "2024-08-15T20:50:36.198840Z",
     "iopub.status.busy": "2024-08-15T20:50:36.198390Z",
     "iopub.status.idle": "2024-08-15T20:50:39.530258Z",
     "shell.execute_reply": "2024-08-15T20:50:39.529017Z"
    },
    "papermill": {
     "duration": 3.353489,
     "end_time": "2024-08-15T20:50:39.533173",
     "exception": false,
     "start_time": "2024-08-15T20:50:36.179684",
     "status": "completed"
    },
    "tags": []
   },
   "outputs": [],
   "source": [
    "#Importing libraries\n",
    "import numpy as np\n",
    "import pandas as pd\n",
    "import matplotlib.pyplot as plt\n",
    "import seaborn as sns\n",
    "%matplotlib inline\n",
    "\n",
    "import plotly.express as px\n",
    "import plotly.graph_objs as go\n",
    "from plotly.offline import iplot"
   ]
  },
  {
   "cell_type": "markdown",
   "id": "cddbe031",
   "metadata": {
    "papermill": {
     "duration": 0.017529,
     "end_time": "2024-08-15T20:50:39.569170",
     "exception": false,
     "start_time": "2024-08-15T20:50:39.551641",
     "status": "completed"
    },
    "tags": []
   },
   "source": [
    "After importing libraries, the dataset is to be imported. "
   ]
  },
  {
   "cell_type": "code",
   "execution_count": 2,
   "id": "bb0e3a5b",
   "metadata": {
    "execution": {
     "iopub.execute_input": "2024-08-15T20:50:39.606382Z",
     "iopub.status.busy": "2024-08-15T20:50:39.605782Z",
     "iopub.status.idle": "2024-08-15T20:50:39.626312Z",
     "shell.execute_reply": "2024-08-15T20:50:39.625120Z"
    },
    "papermill": {
     "duration": 0.042423,
     "end_time": "2024-08-15T20:50:39.629184",
     "exception": false,
     "start_time": "2024-08-15T20:50:39.586761",
     "status": "completed"
    },
    "tags": []
   },
   "outputs": [],
   "source": [
    "#Importing dataset\n",
    "dataset = pd.read_csv('/kaggle/input/employee-salary-dataset/Salary_Data.csv.xls')"
   ]
  },
  {
   "cell_type": "markdown",
   "id": "3229f667",
   "metadata": {
    "papermill": {
     "duration": 0.017305,
     "end_time": "2024-08-15T20:50:39.664120",
     "exception": false,
     "start_time": "2024-08-15T20:50:39.646815",
     "status": "completed"
    },
    "tags": []
   },
   "source": [
    "To see the first five rows of the dataset we can use dataset.head()."
   ]
  },
  {
   "cell_type": "markdown",
   "id": "dc8029fb",
   "metadata": {
    "papermill": {
     "duration": 0.017117,
     "end_time": "2024-08-15T20:50:39.698764",
     "exception": false,
     "start_time": "2024-08-15T20:50:39.681647",
     "status": "completed"
    },
    "tags": []
   },
   "source": [
    "# Data Analysis"
   ]
  },
  {
   "cell_type": "code",
   "execution_count": 3,
   "id": "77a50c9a",
   "metadata": {
    "execution": {
     "iopub.execute_input": "2024-08-15T20:50:39.735547Z",
     "iopub.status.busy": "2024-08-15T20:50:39.735153Z",
     "iopub.status.idle": "2024-08-15T20:50:39.856392Z",
     "shell.execute_reply": "2024-08-15T20:50:39.855257Z"
    },
    "papermill": {
     "duration": 0.142997,
     "end_time": "2024-08-15T20:50:39.859190",
     "exception": false,
     "start_time": "2024-08-15T20:50:39.716193",
     "status": "completed"
    },
    "tags": []
   },
   "outputs": [
    {
     "data": {
      "text/html": [
       "<style type=\"text/css\">\n",
       "#T_b63ec_row0_col0, #T_b63ec_row2_col1 {\n",
       "  background-color: #fff7fb;\n",
       "  color: #000000;\n",
       "}\n",
       "#T_b63ec_row0_col1 {\n",
       "  background-color: #dedcec;\n",
       "  color: #000000;\n",
       "}\n",
       "#T_b63ec_row1_col0 {\n",
       "  background-color: #e0dded;\n",
       "  color: #000000;\n",
       "}\n",
       "#T_b63ec_row1_col1, #T_b63ec_row4_col0 {\n",
       "  background-color: #023858;\n",
       "  color: #f1f1f1;\n",
       "}\n",
       "#T_b63ec_row2_col0 {\n",
       "  background-color: #a9bfdc;\n",
       "  color: #000000;\n",
       "}\n",
       "#T_b63ec_row3_col0 {\n",
       "  background-color: #04649d;\n",
       "  color: #f1f1f1;\n",
       "}\n",
       "#T_b63ec_row3_col1 {\n",
       "  background-color: #1e80b8;\n",
       "  color: #f1f1f1;\n",
       "}\n",
       "#T_b63ec_row4_col1 {\n",
       "  background-color: #ced0e6;\n",
       "  color: #000000;\n",
       "}\n",
       "</style>\n",
       "<table id=\"T_b63ec\">\n",
       "  <thead>\n",
       "    <tr>\n",
       "      <th class=\"blank level0\" >&nbsp;</th>\n",
       "      <th id=\"T_b63ec_level0_col0\" class=\"col_heading level0 col0\" >YearsExperience</th>\n",
       "      <th id=\"T_b63ec_level0_col1\" class=\"col_heading level0 col1\" >Salary</th>\n",
       "    </tr>\n",
       "  </thead>\n",
       "  <tbody>\n",
       "    <tr>\n",
       "      <th id=\"T_b63ec_level0_row0\" class=\"row_heading level0 row0\" >0</th>\n",
       "      <td id=\"T_b63ec_row0_col0\" class=\"data row0 col0\" >1.100000</td>\n",
       "      <td id=\"T_b63ec_row0_col1\" class=\"data row0 col1\" >39343.000000</td>\n",
       "    </tr>\n",
       "    <tr>\n",
       "      <th id=\"T_b63ec_level0_row1\" class=\"row_heading level0 row1\" >1</th>\n",
       "      <td id=\"T_b63ec_row1_col0\" class=\"data row1 col0\" >1.300000</td>\n",
       "      <td id=\"T_b63ec_row1_col1\" class=\"data row1 col1\" >46205.000000</td>\n",
       "    </tr>\n",
       "    <tr>\n",
       "      <th id=\"T_b63ec_level0_row2\" class=\"row_heading level0 row2\" >2</th>\n",
       "      <td id=\"T_b63ec_row2_col0\" class=\"data row2 col0\" >1.500000</td>\n",
       "      <td id=\"T_b63ec_row2_col1\" class=\"data row2 col1\" >37731.000000</td>\n",
       "    </tr>\n",
       "    <tr>\n",
       "      <th id=\"T_b63ec_level0_row3\" class=\"row_heading level0 row3\" >3</th>\n",
       "      <td id=\"T_b63ec_row3_col0\" class=\"data row3 col0\" >2.000000</td>\n",
       "      <td id=\"T_b63ec_row3_col1\" class=\"data row3 col1\" >43525.000000</td>\n",
       "    </tr>\n",
       "    <tr>\n",
       "      <th id=\"T_b63ec_level0_row4\" class=\"row_heading level0 row4\" >4</th>\n",
       "      <td id=\"T_b63ec_row4_col0\" class=\"data row4 col0\" >2.200000</td>\n",
       "      <td id=\"T_b63ec_row4_col1\" class=\"data row4 col1\" >39891.000000</td>\n",
       "    </tr>\n",
       "  </tbody>\n",
       "</table>\n"
      ],
      "text/plain": [
       "<pandas.io.formats.style.Styler at 0x790578599de0>"
      ]
     },
     "execution_count": 3,
     "metadata": {},
     "output_type": "execute_result"
    }
   ],
   "source": [
    "#To see first 5 rows of the dataset\n",
    "dataset.head().style.background_gradient()"
   ]
  },
  {
   "cell_type": "code",
   "execution_count": 4,
   "id": "421d7c2b",
   "metadata": {
    "execution": {
     "iopub.execute_input": "2024-08-15T20:50:39.896688Z",
     "iopub.status.busy": "2024-08-15T20:50:39.896043Z",
     "iopub.status.idle": "2024-08-15T20:50:39.917941Z",
     "shell.execute_reply": "2024-08-15T20:50:39.916664Z"
    },
    "papermill": {
     "duration": 0.043915,
     "end_time": "2024-08-15T20:50:39.920902",
     "exception": false,
     "start_time": "2024-08-15T20:50:39.876987",
     "status": "completed"
    },
    "tags": []
   },
   "outputs": [
    {
     "name": "stdout",
     "output_type": "stream",
     "text": [
      "<class 'pandas.core.frame.DataFrame'>\n",
      "RangeIndex: 30 entries, 0 to 29\n",
      "Data columns (total 2 columns):\n",
      " #   Column           Non-Null Count  Dtype  \n",
      "---  ------           --------------  -----  \n",
      " 0   YearsExperience  30 non-null     float64\n",
      " 1   Salary           30 non-null     float64\n",
      "dtypes: float64(2)\n",
      "memory usage: 608.0 bytes\n"
     ]
    }
   ],
   "source": [
    "# To see information of dataset\n",
    "dataset.info()"
   ]
  },
  {
   "cell_type": "markdown",
   "id": "bc5c6a4c",
   "metadata": {
    "papermill": {
     "duration": 0.018556,
     "end_time": "2024-08-15T20:50:39.957307",
     "exception": false,
     "start_time": "2024-08-15T20:50:39.938751",
     "status": "completed"
    },
    "tags": []
   },
   "source": [
    "Both are numerical column"
   ]
  },
  {
   "cell_type": "code",
   "execution_count": 5,
   "id": "c4b5e850",
   "metadata": {
    "execution": {
     "iopub.execute_input": "2024-08-15T20:50:39.994687Z",
     "iopub.status.busy": "2024-08-15T20:50:39.994303Z",
     "iopub.status.idle": "2024-08-15T20:50:40.002595Z",
     "shell.execute_reply": "2024-08-15T20:50:40.001498Z"
    },
    "papermill": {
     "duration": 0.030196,
     "end_time": "2024-08-15T20:50:40.005390",
     "exception": false,
     "start_time": "2024-08-15T20:50:39.975194",
     "status": "completed"
    },
    "tags": []
   },
   "outputs": [
    {
     "data": {
      "text/plain": [
       "0"
      ]
     },
     "execution_count": 5,
     "metadata": {},
     "output_type": "execute_result"
    }
   ],
   "source": [
    "dataset.isnull().sum().sum()"
   ]
  },
  {
   "cell_type": "markdown",
   "id": "505a3b25",
   "metadata": {
    "papermill": {
     "duration": 0.017826,
     "end_time": "2024-08-15T20:50:40.041145",
     "exception": false,
     "start_time": "2024-08-15T20:50:40.023319",
     "status": "completed"
    },
    "tags": []
   },
   "source": [
    "There is no null value in dataset"
   ]
  },
  {
   "cell_type": "markdown",
   "id": "21bbba3e",
   "metadata": {
    "papermill": {
     "duration": 0.018251,
     "end_time": "2024-08-15T20:50:40.078519",
     "exception": false,
     "start_time": "2024-08-15T20:50:40.060268",
     "status": "completed"
    },
    "tags": []
   },
   "source": [
    "Statistical analysis of the dataset like no: of observation, mean, standard deviation and interquartile value can be done using the dataset. describe()."
   ]
  },
  {
   "cell_type": "code",
   "execution_count": 6,
   "id": "7d2d5b72",
   "metadata": {
    "execution": {
     "iopub.execute_input": "2024-08-15T20:50:40.117346Z",
     "iopub.status.busy": "2024-08-15T20:50:40.116924Z",
     "iopub.status.idle": "2024-08-15T20:50:40.140111Z",
     "shell.execute_reply": "2024-08-15T20:50:40.138967Z"
    },
    "papermill": {
     "duration": 0.045646,
     "end_time": "2024-08-15T20:50:40.142774",
     "exception": false,
     "start_time": "2024-08-15T20:50:40.097128",
     "status": "completed"
    },
    "tags": []
   },
   "outputs": [
    {
     "data": {
      "text/html": [
       "<style type=\"text/css\">\n",
       "#T_1a219_row0_col0, #T_1a219_row7_col1 {\n",
       "  background-color: #023858;\n",
       "  color: #f1f1f1;\n",
       "}\n",
       "#T_1a219_row0_col1, #T_1a219_row3_col0 {\n",
       "  background-color: #fff7fb;\n",
       "  color: #000000;\n",
       "}\n",
       "#T_1a219_row1_col0 {\n",
       "  background-color: #e7e3f0;\n",
       "  color: #000000;\n",
       "}\n",
       "#T_1a219_row1_col1 {\n",
       "  background-color: #3991c1;\n",
       "  color: #f1f1f1;\n",
       "}\n",
       "#T_1a219_row2_col0 {\n",
       "  background-color: #f6eff7;\n",
       "  color: #000000;\n",
       "}\n",
       "#T_1a219_row2_col1 {\n",
       "  background-color: #d6d6e9;\n",
       "  color: #000000;\n",
       "}\n",
       "#T_1a219_row3_col1 {\n",
       "  background-color: #bdc8e1;\n",
       "  color: #000000;\n",
       "}\n",
       "#T_1a219_row4_col0 {\n",
       "  background-color: #f4eef6;\n",
       "  color: #000000;\n",
       "}\n",
       "#T_1a219_row4_col1 {\n",
       "  background-color: #83afd3;\n",
       "  color: #f1f1f1;\n",
       "}\n",
       "#T_1a219_row5_col0 {\n",
       "  background-color: #ede7f2;\n",
       "  color: #000000;\n",
       "}\n",
       "#T_1a219_row5_col1 {\n",
       "  background-color: #63a2cb;\n",
       "  color: #f1f1f1;\n",
       "}\n",
       "#T_1a219_row6_col0 {\n",
       "  background-color: #d5d5e8;\n",
       "  color: #000000;\n",
       "}\n",
       "#T_1a219_row6_col1 {\n",
       "  background-color: #04639b;\n",
       "  color: #f1f1f1;\n",
       "}\n",
       "#T_1a219_row7_col0 {\n",
       "  background-color: #b7c5df;\n",
       "  color: #000000;\n",
       "}\n",
       "</style>\n",
       "<table id=\"T_1a219\">\n",
       "  <thead>\n",
       "    <tr>\n",
       "      <th class=\"blank level0\" >&nbsp;</th>\n",
       "      <th id=\"T_1a219_level0_col0\" class=\"col_heading level0 col0\" >YearsExperience</th>\n",
       "      <th id=\"T_1a219_level0_col1\" class=\"col_heading level0 col1\" >Salary</th>\n",
       "    </tr>\n",
       "  </thead>\n",
       "  <tbody>\n",
       "    <tr>\n",
       "      <th id=\"T_1a219_level0_row0\" class=\"row_heading level0 row0\" >count</th>\n",
       "      <td id=\"T_1a219_row0_col0\" class=\"data row0 col0\" >30.000000</td>\n",
       "      <td id=\"T_1a219_row0_col1\" class=\"data row0 col1\" >30.000000</td>\n",
       "    </tr>\n",
       "    <tr>\n",
       "      <th id=\"T_1a219_level0_row1\" class=\"row_heading level0 row1\" >mean</th>\n",
       "      <td id=\"T_1a219_row1_col0\" class=\"data row1 col0\" >5.313333</td>\n",
       "      <td id=\"T_1a219_row1_col1\" class=\"data row1 col1\" >76003.000000</td>\n",
       "    </tr>\n",
       "    <tr>\n",
       "      <th id=\"T_1a219_level0_row2\" class=\"row_heading level0 row2\" >std</th>\n",
       "      <td id=\"T_1a219_row2_col0\" class=\"data row2 col0\" >2.837888</td>\n",
       "      <td id=\"T_1a219_row2_col1\" class=\"data row2 col1\" >27414.429785</td>\n",
       "    </tr>\n",
       "    <tr>\n",
       "      <th id=\"T_1a219_level0_row3\" class=\"row_heading level0 row3\" >min</th>\n",
       "      <td id=\"T_1a219_row3_col0\" class=\"data row3 col0\" >1.100000</td>\n",
       "      <td id=\"T_1a219_row3_col1\" class=\"data row3 col1\" >37731.000000</td>\n",
       "    </tr>\n",
       "    <tr>\n",
       "      <th id=\"T_1a219_level0_row4\" class=\"row_heading level0 row4\" >25%</th>\n",
       "      <td id=\"T_1a219_row4_col0\" class=\"data row4 col0\" >3.200000</td>\n",
       "      <td id=\"T_1a219_row4_col1\" class=\"data row4 col1\" >56720.750000</td>\n",
       "    </tr>\n",
       "    <tr>\n",
       "      <th id=\"T_1a219_level0_row5\" class=\"row_heading level0 row5\" >50%</th>\n",
       "      <td id=\"T_1a219_row5_col0\" class=\"data row5 col0\" >4.700000</td>\n",
       "      <td id=\"T_1a219_row5_col1\" class=\"data row5 col1\" >65237.000000</td>\n",
       "    </tr>\n",
       "    <tr>\n",
       "      <th id=\"T_1a219_level0_row6\" class=\"row_heading level0 row6\" >75%</th>\n",
       "      <td id=\"T_1a219_row6_col0\" class=\"data row6 col0\" >7.700000</td>\n",
       "      <td id=\"T_1a219_row6_col1\" class=\"data row6 col1\" >100544.750000</td>\n",
       "    </tr>\n",
       "    <tr>\n",
       "      <th id=\"T_1a219_level0_row7\" class=\"row_heading level0 row7\" >max</th>\n",
       "      <td id=\"T_1a219_row7_col0\" class=\"data row7 col0\" >10.500000</td>\n",
       "      <td id=\"T_1a219_row7_col1\" class=\"data row7 col1\" >122391.000000</td>\n",
       "    </tr>\n",
       "  </tbody>\n",
       "</table>\n"
      ],
      "text/plain": [
       "<pandas.io.formats.style.Styler at 0x7905592aeda0>"
      ]
     },
     "execution_count": 6,
     "metadata": {},
     "output_type": "execute_result"
    }
   ],
   "source": [
    "#Statistical Analysis\n",
    "dataset.describe().style.background_gradient()"
   ]
  },
  {
   "cell_type": "markdown",
   "id": "198278e0",
   "metadata": {
    "papermill": {
     "duration": 0.018084,
     "end_time": "2024-08-15T20:50:40.179748",
     "exception": false,
     "start_time": "2024-08-15T20:50:40.161664",
     "status": "completed"
    },
    "tags": []
   },
   "source": [
    "The relationship between variables can be seen by using sns.pairplot(). For multiple linear regression, it will be very useful, as it shows each feature's relationship with the response."
   ]
  },
  {
   "cell_type": "markdown",
   "id": "2bb10365",
   "metadata": {
    "papermill": {
     "duration": 0.019033,
     "end_time": "2024-08-15T20:50:40.218041",
     "exception": false,
     "start_time": "2024-08-15T20:50:40.199008",
     "status": "completed"
    },
    "tags": []
   },
   "source": [
    "# Heat Map"
   ]
  },
  {
   "cell_type": "code",
   "execution_count": 7,
   "id": "d087bd99",
   "metadata": {
    "execution": {
     "iopub.execute_input": "2024-08-15T20:50:40.257539Z",
     "iopub.status.busy": "2024-08-15T20:50:40.257108Z",
     "iopub.status.idle": "2024-08-15T20:50:42.366523Z",
     "shell.execute_reply": "2024-08-15T20:50:42.365199Z"
    },
    "papermill": {
     "duration": 2.132246,
     "end_time": "2024-08-15T20:50:42.369435",
     "exception": false,
     "start_time": "2024-08-15T20:50:40.237189",
     "status": "completed"
    },
    "tags": []
   },
   "outputs": [
    {
     "data": {
      "text/html": [
       "        <script type=\"text/javascript\">\n",
       "        window.PlotlyConfig = {MathJaxConfig: 'local'};\n",
       "        if (window.MathJax && window.MathJax.Hub && window.MathJax.Hub.Config) {window.MathJax.Hub.Config({SVG: {font: \"STIX-Web\"}});}\n",
       "        if (typeof require !== 'undefined') {\n",
       "        require.undef(\"plotly\");\n",
       "        requirejs.config({\n",
       "            paths: {\n",
       "                'plotly': ['https://cdn.plot.ly/plotly-2.27.0.min']\n",
       "            }\n",
       "        });\n",
       "        require(['plotly'], function(Plotly) {\n",
       "            window._Plotly = Plotly;\n",
       "        });\n",
       "        }\n",
       "        </script>\n",
       "        "
      ]
     },
     "metadata": {},
     "output_type": "display_data"
    },
    {
     "data": {
      "text/html": [
       "<div>                            <div id=\"9a271a15-dca8-4453-b470-679638eea27f\" class=\"plotly-graph-div\" style=\"height:525px; width:100%;\"></div>            <script type=\"text/javascript\">                require([\"plotly\"], function(Plotly) {                    window.PLOTLYENV=window.PLOTLYENV || {};                                    if (document.getElementById(\"9a271a15-dca8-4453-b470-679638eea27f\")) {                    Plotly.newPlot(                        \"9a271a15-dca8-4453-b470-679638eea27f\",                        [{\"coloraxis\":\"coloraxis\",\"name\":\"0\",\"x\":[\"YearsExperience\",\"Salary\"],\"y\":[\"YearsExperience\",\"Salary\"],\"z\":[[1.0,0.97824161848876],[0.97824161848876,1.0]],\"type\":\"heatmap\",\"xaxis\":\"x\",\"yaxis\":\"y\",\"hovertemplate\":\"x: %{x}\\u003cbr\\u003ey: %{y}\\u003cbr\\u003ecolor: %{z}\\u003cextra\\u003e\\u003c\\u002fextra\\u003e\"}],                        {\"template\":{\"data\":{\"histogram2dcontour\":[{\"type\":\"histogram2dcontour\",\"colorbar\":{\"outlinewidth\":0,\"ticks\":\"\"},\"colorscale\":[[0.0,\"#0d0887\"],[0.1111111111111111,\"#46039f\"],[0.2222222222222222,\"#7201a8\"],[0.3333333333333333,\"#9c179e\"],[0.4444444444444444,\"#bd3786\"],[0.5555555555555556,\"#d8576b\"],[0.6666666666666666,\"#ed7953\"],[0.7777777777777778,\"#fb9f3a\"],[0.8888888888888888,\"#fdca26\"],[1.0,\"#f0f921\"]]}],\"choropleth\":[{\"type\":\"choropleth\",\"colorbar\":{\"outlinewidth\":0,\"ticks\":\"\"}}],\"histogram2d\":[{\"type\":\"histogram2d\",\"colorbar\":{\"outlinewidth\":0,\"ticks\":\"\"},\"colorscale\":[[0.0,\"#0d0887\"],[0.1111111111111111,\"#46039f\"],[0.2222222222222222,\"#7201a8\"],[0.3333333333333333,\"#9c179e\"],[0.4444444444444444,\"#bd3786\"],[0.5555555555555556,\"#d8576b\"],[0.6666666666666666,\"#ed7953\"],[0.7777777777777778,\"#fb9f3a\"],[0.8888888888888888,\"#fdca26\"],[1.0,\"#f0f921\"]]}],\"heatmap\":[{\"type\":\"heatmap\",\"colorbar\":{\"outlinewidth\":0,\"ticks\":\"\"},\"colorscale\":[[0.0,\"#0d0887\"],[0.1111111111111111,\"#46039f\"],[0.2222222222222222,\"#7201a8\"],[0.3333333333333333,\"#9c179e\"],[0.4444444444444444,\"#bd3786\"],[0.5555555555555556,\"#d8576b\"],[0.6666666666666666,\"#ed7953\"],[0.7777777777777778,\"#fb9f3a\"],[0.8888888888888888,\"#fdca26\"],[1.0,\"#f0f921\"]]}],\"heatmapgl\":[{\"type\":\"heatmapgl\",\"colorbar\":{\"outlinewidth\":0,\"ticks\":\"\"},\"colorscale\":[[0.0,\"#0d0887\"],[0.1111111111111111,\"#46039f\"],[0.2222222222222222,\"#7201a8\"],[0.3333333333333333,\"#9c179e\"],[0.4444444444444444,\"#bd3786\"],[0.5555555555555556,\"#d8576b\"],[0.6666666666666666,\"#ed7953\"],[0.7777777777777778,\"#fb9f3a\"],[0.8888888888888888,\"#fdca26\"],[1.0,\"#f0f921\"]]}],\"contourcarpet\":[{\"type\":\"contourcarpet\",\"colorbar\":{\"outlinewidth\":0,\"ticks\":\"\"}}],\"contour\":[{\"type\":\"contour\",\"colorbar\":{\"outlinewidth\":0,\"ticks\":\"\"},\"colorscale\":[[0.0,\"#0d0887\"],[0.1111111111111111,\"#46039f\"],[0.2222222222222222,\"#7201a8\"],[0.3333333333333333,\"#9c179e\"],[0.4444444444444444,\"#bd3786\"],[0.5555555555555556,\"#d8576b\"],[0.6666666666666666,\"#ed7953\"],[0.7777777777777778,\"#fb9f3a\"],[0.8888888888888888,\"#fdca26\"],[1.0,\"#f0f921\"]]}],\"surface\":[{\"type\":\"surface\",\"colorbar\":{\"outlinewidth\":0,\"ticks\":\"\"},\"colorscale\":[[0.0,\"#0d0887\"],[0.1111111111111111,\"#46039f\"],[0.2222222222222222,\"#7201a8\"],[0.3333333333333333,\"#9c179e\"],[0.4444444444444444,\"#bd3786\"],[0.5555555555555556,\"#d8576b\"],[0.6666666666666666,\"#ed7953\"],[0.7777777777777778,\"#fb9f3a\"],[0.8888888888888888,\"#fdca26\"],[1.0,\"#f0f921\"]]}],\"mesh3d\":[{\"type\":\"mesh3d\",\"colorbar\":{\"outlinewidth\":0,\"ticks\":\"\"}}],\"scatter\":[{\"fillpattern\":{\"fillmode\":\"overlay\",\"size\":10,\"solidity\":0.2},\"type\":\"scatter\"}],\"parcoords\":[{\"type\":\"parcoords\",\"line\":{\"colorbar\":{\"outlinewidth\":0,\"ticks\":\"\"}}}],\"scatterpolargl\":[{\"type\":\"scatterpolargl\",\"marker\":{\"colorbar\":{\"outlinewidth\":0,\"ticks\":\"\"}}}],\"bar\":[{\"error_x\":{\"color\":\"#2a3f5f\"},\"error_y\":{\"color\":\"#2a3f5f\"},\"marker\":{\"line\":{\"color\":\"#E5ECF6\",\"width\":0.5},\"pattern\":{\"fillmode\":\"overlay\",\"size\":10,\"solidity\":0.2}},\"type\":\"bar\"}],\"scattergeo\":[{\"type\":\"scattergeo\",\"marker\":{\"colorbar\":{\"outlinewidth\":0,\"ticks\":\"\"}}}],\"scatterpolar\":[{\"type\":\"scatterpolar\",\"marker\":{\"colorbar\":{\"outlinewidth\":0,\"ticks\":\"\"}}}],\"histogram\":[{\"marker\":{\"pattern\":{\"fillmode\":\"overlay\",\"size\":10,\"solidity\":0.2}},\"type\":\"histogram\"}],\"scattergl\":[{\"type\":\"scattergl\",\"marker\":{\"colorbar\":{\"outlinewidth\":0,\"ticks\":\"\"}}}],\"scatter3d\":[{\"type\":\"scatter3d\",\"line\":{\"colorbar\":{\"outlinewidth\":0,\"ticks\":\"\"}},\"marker\":{\"colorbar\":{\"outlinewidth\":0,\"ticks\":\"\"}}}],\"scattermapbox\":[{\"type\":\"scattermapbox\",\"marker\":{\"colorbar\":{\"outlinewidth\":0,\"ticks\":\"\"}}}],\"scatterternary\":[{\"type\":\"scatterternary\",\"marker\":{\"colorbar\":{\"outlinewidth\":0,\"ticks\":\"\"}}}],\"scattercarpet\":[{\"type\":\"scattercarpet\",\"marker\":{\"colorbar\":{\"outlinewidth\":0,\"ticks\":\"\"}}}],\"carpet\":[{\"aaxis\":{\"endlinecolor\":\"#2a3f5f\",\"gridcolor\":\"white\",\"linecolor\":\"white\",\"minorgridcolor\":\"white\",\"startlinecolor\":\"#2a3f5f\"},\"baxis\":{\"endlinecolor\":\"#2a3f5f\",\"gridcolor\":\"white\",\"linecolor\":\"white\",\"minorgridcolor\":\"white\",\"startlinecolor\":\"#2a3f5f\"},\"type\":\"carpet\"}],\"table\":[{\"cells\":{\"fill\":{\"color\":\"#EBF0F8\"},\"line\":{\"color\":\"white\"}},\"header\":{\"fill\":{\"color\":\"#C8D4E3\"},\"line\":{\"color\":\"white\"}},\"type\":\"table\"}],\"barpolar\":[{\"marker\":{\"line\":{\"color\":\"#E5ECF6\",\"width\":0.5},\"pattern\":{\"fillmode\":\"overlay\",\"size\":10,\"solidity\":0.2}},\"type\":\"barpolar\"}],\"pie\":[{\"automargin\":true,\"type\":\"pie\"}]},\"layout\":{\"autotypenumbers\":\"strict\",\"colorway\":[\"#636efa\",\"#EF553B\",\"#00cc96\",\"#ab63fa\",\"#FFA15A\",\"#19d3f3\",\"#FF6692\",\"#B6E880\",\"#FF97FF\",\"#FECB52\"],\"font\":{\"color\":\"#2a3f5f\"},\"hovermode\":\"closest\",\"hoverlabel\":{\"align\":\"left\"},\"paper_bgcolor\":\"white\",\"plot_bgcolor\":\"#E5ECF6\",\"polar\":{\"bgcolor\":\"#E5ECF6\",\"angularaxis\":{\"gridcolor\":\"white\",\"linecolor\":\"white\",\"ticks\":\"\"},\"radialaxis\":{\"gridcolor\":\"white\",\"linecolor\":\"white\",\"ticks\":\"\"}},\"ternary\":{\"bgcolor\":\"#E5ECF6\",\"aaxis\":{\"gridcolor\":\"white\",\"linecolor\":\"white\",\"ticks\":\"\"},\"baxis\":{\"gridcolor\":\"white\",\"linecolor\":\"white\",\"ticks\":\"\"},\"caxis\":{\"gridcolor\":\"white\",\"linecolor\":\"white\",\"ticks\":\"\"}},\"coloraxis\":{\"colorbar\":{\"outlinewidth\":0,\"ticks\":\"\"}},\"colorscale\":{\"sequential\":[[0.0,\"#0d0887\"],[0.1111111111111111,\"#46039f\"],[0.2222222222222222,\"#7201a8\"],[0.3333333333333333,\"#9c179e\"],[0.4444444444444444,\"#bd3786\"],[0.5555555555555556,\"#d8576b\"],[0.6666666666666666,\"#ed7953\"],[0.7777777777777778,\"#fb9f3a\"],[0.8888888888888888,\"#fdca26\"],[1.0,\"#f0f921\"]],\"sequentialminus\":[[0.0,\"#0d0887\"],[0.1111111111111111,\"#46039f\"],[0.2222222222222222,\"#7201a8\"],[0.3333333333333333,\"#9c179e\"],[0.4444444444444444,\"#bd3786\"],[0.5555555555555556,\"#d8576b\"],[0.6666666666666666,\"#ed7953\"],[0.7777777777777778,\"#fb9f3a\"],[0.8888888888888888,\"#fdca26\"],[1.0,\"#f0f921\"]],\"diverging\":[[0,\"#8e0152\"],[0.1,\"#c51b7d\"],[0.2,\"#de77ae\"],[0.3,\"#f1b6da\"],[0.4,\"#fde0ef\"],[0.5,\"#f7f7f7\"],[0.6,\"#e6f5d0\"],[0.7,\"#b8e186\"],[0.8,\"#7fbc41\"],[0.9,\"#4d9221\"],[1,\"#276419\"]]},\"xaxis\":{\"gridcolor\":\"white\",\"linecolor\":\"white\",\"ticks\":\"\",\"title\":{\"standoff\":15},\"zerolinecolor\":\"white\",\"automargin\":true,\"zerolinewidth\":2},\"yaxis\":{\"gridcolor\":\"white\",\"linecolor\":\"white\",\"ticks\":\"\",\"title\":{\"standoff\":15},\"zerolinecolor\":\"white\",\"automargin\":true,\"zerolinewidth\":2},\"scene\":{\"xaxis\":{\"backgroundcolor\":\"#E5ECF6\",\"gridcolor\":\"white\",\"linecolor\":\"white\",\"showbackground\":true,\"ticks\":\"\",\"zerolinecolor\":\"white\",\"gridwidth\":2},\"yaxis\":{\"backgroundcolor\":\"#E5ECF6\",\"gridcolor\":\"white\",\"linecolor\":\"white\",\"showbackground\":true,\"ticks\":\"\",\"zerolinecolor\":\"white\",\"gridwidth\":2},\"zaxis\":{\"backgroundcolor\":\"#E5ECF6\",\"gridcolor\":\"white\",\"linecolor\":\"white\",\"showbackground\":true,\"ticks\":\"\",\"zerolinecolor\":\"white\",\"gridwidth\":2}},\"shapedefaults\":{\"line\":{\"color\":\"#2a3f5f\"}},\"annotationdefaults\":{\"arrowcolor\":\"#2a3f5f\",\"arrowhead\":0,\"arrowwidth\":1},\"geo\":{\"bgcolor\":\"white\",\"landcolor\":\"#E5ECF6\",\"subunitcolor\":\"white\",\"showland\":true,\"showlakes\":true,\"lakecolor\":\"white\"},\"title\":{\"x\":0.05},\"mapbox\":{\"style\":\"light\"}}},\"xaxis\":{\"anchor\":\"y\",\"domain\":[0.0,1.0],\"scaleanchor\":\"y\",\"constrain\":\"domain\"},\"yaxis\":{\"anchor\":\"x\",\"domain\":[0.0,1.0],\"autorange\":\"reversed\",\"constrain\":\"domain\"},\"coloraxis\":{\"colorscale\":[[0.0,\"#0d0887\"],[0.1111111111111111,\"#46039f\"],[0.2222222222222222,\"#7201a8\"],[0.3333333333333333,\"#9c179e\"],[0.4444444444444444,\"#bd3786\"],[0.5555555555555556,\"#d8576b\"],[0.6666666666666666,\"#ed7953\"],[0.7777777777777778,\"#fb9f3a\"],[0.8888888888888888,\"#fdca26\"],[1.0,\"#f0f921\"]]},\"margin\":{\"t\":60}},                        {\"responsive\": true}                    ).then(function(){\n",
       "                            \n",
       "var gd = document.getElementById('9a271a15-dca8-4453-b470-679638eea27f');\n",
       "var x = new MutationObserver(function (mutations, observer) {{\n",
       "        var display = window.getComputedStyle(gd).display;\n",
       "        if (!display || display === 'none') {{\n",
       "            console.log([gd, 'removed!']);\n",
       "            Plotly.purge(gd);\n",
       "            observer.disconnect();\n",
       "        }}\n",
       "}});\n",
       "\n",
       "// Listen for the removal of the full notebook cells\n",
       "var notebookContainer = gd.closest('#notebook-container');\n",
       "if (notebookContainer) {{\n",
       "    x.observe(notebookContainer, {childList: true});\n",
       "}}\n",
       "\n",
       "// Listen for the clearing of the current output cell\n",
       "var outputEl = gd.closest('.output');\n",
       "if (outputEl) {{\n",
       "    x.observe(outputEl, {childList: true});\n",
       "}}\n",
       "\n",
       "                        })                };                });            </script>        </div>"
      ]
     },
     "metadata": {},
     "output_type": "display_data"
    }
   ],
   "source": [
    "fig = px.imshow(dataset.corr())\n",
    "fig.show()"
   ]
  },
  {
   "cell_type": "markdown",
   "id": "eba9a459",
   "metadata": {
    "papermill": {
     "duration": 0.019015,
     "end_time": "2024-08-15T20:50:42.409618",
     "exception": false,
     "start_time": "2024-08-15T20:50:42.390603",
     "status": "completed"
    },
    "tags": []
   },
   "source": [
    "# Visualization"
   ]
  },
  {
   "cell_type": "markdown",
   "id": "738437b1",
   "metadata": {
    "papermill": {
     "duration": 0.019321,
     "end_time": "2024-08-15T20:50:42.449056",
     "exception": false,
     "start_time": "2024-08-15T20:50:42.429735",
     "status": "completed"
    },
    "tags": []
   },
   "source": [
    "## Scatter Plot"
   ]
  },
  {
   "cell_type": "code",
   "execution_count": 8,
   "id": "c74ce3c1",
   "metadata": {
    "execution": {
     "iopub.execute_input": "2024-08-15T20:50:42.497482Z",
     "iopub.status.busy": "2024-08-15T20:50:42.497108Z",
     "iopub.status.idle": "2024-08-15T20:50:42.542252Z",
     "shell.execute_reply": "2024-08-15T20:50:42.541104Z"
    },
    "papermill": {
     "duration": 0.069981,
     "end_time": "2024-08-15T20:50:42.545478",
     "exception": false,
     "start_time": "2024-08-15T20:50:42.475497",
     "status": "completed"
    },
    "tags": []
   },
   "outputs": [
    {
     "data": {
      "text/html": [
       "<div>                            <div id=\"43e4e495-7beb-4980-9741-979351911025\" class=\"plotly-graph-div\" style=\"height:525px; width:100%;\"></div>            <script type=\"text/javascript\">                require([\"plotly\"], function(Plotly) {                    window.PLOTLYENV=window.PLOTLYENV || {};                                    if (document.getElementById(\"43e4e495-7beb-4980-9741-979351911025\")) {                    Plotly.newPlot(                        \"43e4e495-7beb-4980-9741-979351911025\",                        [{\"mode\":\"markers\",\"x\":[1.1,1.3,1.5,2.0,2.2,2.9,3.0,3.2,3.2,3.7,3.9,4.0,4.0,4.1,4.5,4.9,5.1,5.3,5.9,6.0,6.8,7.1,7.9,8.2,8.7,9.0,9.5,9.6,10.3,10.5],\"y\":[39343.0,46205.0,37731.0,43525.0,39891.0,56642.0,60150.0,54445.0,64445.0,57189.0,63218.0,55794.0,56957.0,57081.0,61111.0,67938.0,66029.0,83088.0,81363.0,93940.0,91738.0,98273.0,101302.0,113812.0,109431.0,105582.0,116969.0,112635.0,122391.0,121872.0],\"type\":\"scatter\"}],                        {\"template\":{\"data\":{\"barpolar\":[{\"marker\":{\"line\":{\"color\":\"#E5ECF6\",\"width\":0.5},\"pattern\":{\"fillmode\":\"overlay\",\"size\":10,\"solidity\":0.2}},\"type\":\"barpolar\"}],\"bar\":[{\"error_x\":{\"color\":\"#2a3f5f\"},\"error_y\":{\"color\":\"#2a3f5f\"},\"marker\":{\"line\":{\"color\":\"#E5ECF6\",\"width\":0.5},\"pattern\":{\"fillmode\":\"overlay\",\"size\":10,\"solidity\":0.2}},\"type\":\"bar\"}],\"carpet\":[{\"aaxis\":{\"endlinecolor\":\"#2a3f5f\",\"gridcolor\":\"white\",\"linecolor\":\"white\",\"minorgridcolor\":\"white\",\"startlinecolor\":\"#2a3f5f\"},\"baxis\":{\"endlinecolor\":\"#2a3f5f\",\"gridcolor\":\"white\",\"linecolor\":\"white\",\"minorgridcolor\":\"white\",\"startlinecolor\":\"#2a3f5f\"},\"type\":\"carpet\"}],\"choropleth\":[{\"colorbar\":{\"outlinewidth\":0,\"ticks\":\"\"},\"type\":\"choropleth\"}],\"contourcarpet\":[{\"colorbar\":{\"outlinewidth\":0,\"ticks\":\"\"},\"type\":\"contourcarpet\"}],\"contour\":[{\"colorbar\":{\"outlinewidth\":0,\"ticks\":\"\"},\"colorscale\":[[0.0,\"#0d0887\"],[0.1111111111111111,\"#46039f\"],[0.2222222222222222,\"#7201a8\"],[0.3333333333333333,\"#9c179e\"],[0.4444444444444444,\"#bd3786\"],[0.5555555555555556,\"#d8576b\"],[0.6666666666666666,\"#ed7953\"],[0.7777777777777778,\"#fb9f3a\"],[0.8888888888888888,\"#fdca26\"],[1.0,\"#f0f921\"]],\"type\":\"contour\"}],\"heatmapgl\":[{\"colorbar\":{\"outlinewidth\":0,\"ticks\":\"\"},\"colorscale\":[[0.0,\"#0d0887\"],[0.1111111111111111,\"#46039f\"],[0.2222222222222222,\"#7201a8\"],[0.3333333333333333,\"#9c179e\"],[0.4444444444444444,\"#bd3786\"],[0.5555555555555556,\"#d8576b\"],[0.6666666666666666,\"#ed7953\"],[0.7777777777777778,\"#fb9f3a\"],[0.8888888888888888,\"#fdca26\"],[1.0,\"#f0f921\"]],\"type\":\"heatmapgl\"}],\"heatmap\":[{\"colorbar\":{\"outlinewidth\":0,\"ticks\":\"\"},\"colorscale\":[[0.0,\"#0d0887\"],[0.1111111111111111,\"#46039f\"],[0.2222222222222222,\"#7201a8\"],[0.3333333333333333,\"#9c179e\"],[0.4444444444444444,\"#bd3786\"],[0.5555555555555556,\"#d8576b\"],[0.6666666666666666,\"#ed7953\"],[0.7777777777777778,\"#fb9f3a\"],[0.8888888888888888,\"#fdca26\"],[1.0,\"#f0f921\"]],\"type\":\"heatmap\"}],\"histogram2dcontour\":[{\"colorbar\":{\"outlinewidth\":0,\"ticks\":\"\"},\"colorscale\":[[0.0,\"#0d0887\"],[0.1111111111111111,\"#46039f\"],[0.2222222222222222,\"#7201a8\"],[0.3333333333333333,\"#9c179e\"],[0.4444444444444444,\"#bd3786\"],[0.5555555555555556,\"#d8576b\"],[0.6666666666666666,\"#ed7953\"],[0.7777777777777778,\"#fb9f3a\"],[0.8888888888888888,\"#fdca26\"],[1.0,\"#f0f921\"]],\"type\":\"histogram2dcontour\"}],\"histogram2d\":[{\"colorbar\":{\"outlinewidth\":0,\"ticks\":\"\"},\"colorscale\":[[0.0,\"#0d0887\"],[0.1111111111111111,\"#46039f\"],[0.2222222222222222,\"#7201a8\"],[0.3333333333333333,\"#9c179e\"],[0.4444444444444444,\"#bd3786\"],[0.5555555555555556,\"#d8576b\"],[0.6666666666666666,\"#ed7953\"],[0.7777777777777778,\"#fb9f3a\"],[0.8888888888888888,\"#fdca26\"],[1.0,\"#f0f921\"]],\"type\":\"histogram2d\"}],\"histogram\":[{\"marker\":{\"pattern\":{\"fillmode\":\"overlay\",\"size\":10,\"solidity\":0.2}},\"type\":\"histogram\"}],\"mesh3d\":[{\"colorbar\":{\"outlinewidth\":0,\"ticks\":\"\"},\"type\":\"mesh3d\"}],\"parcoords\":[{\"line\":{\"colorbar\":{\"outlinewidth\":0,\"ticks\":\"\"}},\"type\":\"parcoords\"}],\"pie\":[{\"automargin\":true,\"type\":\"pie\"}],\"scatter3d\":[{\"line\":{\"colorbar\":{\"outlinewidth\":0,\"ticks\":\"\"}},\"marker\":{\"colorbar\":{\"outlinewidth\":0,\"ticks\":\"\"}},\"type\":\"scatter3d\"}],\"scattercarpet\":[{\"marker\":{\"colorbar\":{\"outlinewidth\":0,\"ticks\":\"\"}},\"type\":\"scattercarpet\"}],\"scattergeo\":[{\"marker\":{\"colorbar\":{\"outlinewidth\":0,\"ticks\":\"\"}},\"type\":\"scattergeo\"}],\"scattergl\":[{\"marker\":{\"colorbar\":{\"outlinewidth\":0,\"ticks\":\"\"}},\"type\":\"scattergl\"}],\"scattermapbox\":[{\"marker\":{\"colorbar\":{\"outlinewidth\":0,\"ticks\":\"\"}},\"type\":\"scattermapbox\"}],\"scatterpolargl\":[{\"marker\":{\"colorbar\":{\"outlinewidth\":0,\"ticks\":\"\"}},\"type\":\"scatterpolargl\"}],\"scatterpolar\":[{\"marker\":{\"colorbar\":{\"outlinewidth\":0,\"ticks\":\"\"}},\"type\":\"scatterpolar\"}],\"scatter\":[{\"fillpattern\":{\"fillmode\":\"overlay\",\"size\":10,\"solidity\":0.2},\"type\":\"scatter\"}],\"scatterternary\":[{\"marker\":{\"colorbar\":{\"outlinewidth\":0,\"ticks\":\"\"}},\"type\":\"scatterternary\"}],\"surface\":[{\"colorbar\":{\"outlinewidth\":0,\"ticks\":\"\"},\"colorscale\":[[0.0,\"#0d0887\"],[0.1111111111111111,\"#46039f\"],[0.2222222222222222,\"#7201a8\"],[0.3333333333333333,\"#9c179e\"],[0.4444444444444444,\"#bd3786\"],[0.5555555555555556,\"#d8576b\"],[0.6666666666666666,\"#ed7953\"],[0.7777777777777778,\"#fb9f3a\"],[0.8888888888888888,\"#fdca26\"],[1.0,\"#f0f921\"]],\"type\":\"surface\"}],\"table\":[{\"cells\":{\"fill\":{\"color\":\"#EBF0F8\"},\"line\":{\"color\":\"white\"}},\"header\":{\"fill\":{\"color\":\"#C8D4E3\"},\"line\":{\"color\":\"white\"}},\"type\":\"table\"}]},\"layout\":{\"annotationdefaults\":{\"arrowcolor\":\"#2a3f5f\",\"arrowhead\":0,\"arrowwidth\":1},\"autotypenumbers\":\"strict\",\"coloraxis\":{\"colorbar\":{\"outlinewidth\":0,\"ticks\":\"\"}},\"colorscale\":{\"diverging\":[[0,\"#8e0152\"],[0.1,\"#c51b7d\"],[0.2,\"#de77ae\"],[0.3,\"#f1b6da\"],[0.4,\"#fde0ef\"],[0.5,\"#f7f7f7\"],[0.6,\"#e6f5d0\"],[0.7,\"#b8e186\"],[0.8,\"#7fbc41\"],[0.9,\"#4d9221\"],[1,\"#276419\"]],\"sequential\":[[0.0,\"#0d0887\"],[0.1111111111111111,\"#46039f\"],[0.2222222222222222,\"#7201a8\"],[0.3333333333333333,\"#9c179e\"],[0.4444444444444444,\"#bd3786\"],[0.5555555555555556,\"#d8576b\"],[0.6666666666666666,\"#ed7953\"],[0.7777777777777778,\"#fb9f3a\"],[0.8888888888888888,\"#fdca26\"],[1.0,\"#f0f921\"]],\"sequentialminus\":[[0.0,\"#0d0887\"],[0.1111111111111111,\"#46039f\"],[0.2222222222222222,\"#7201a8\"],[0.3333333333333333,\"#9c179e\"],[0.4444444444444444,\"#bd3786\"],[0.5555555555555556,\"#d8576b\"],[0.6666666666666666,\"#ed7953\"],[0.7777777777777778,\"#fb9f3a\"],[0.8888888888888888,\"#fdca26\"],[1.0,\"#f0f921\"]]},\"colorway\":[\"#636efa\",\"#EF553B\",\"#00cc96\",\"#ab63fa\",\"#FFA15A\",\"#19d3f3\",\"#FF6692\",\"#B6E880\",\"#FF97FF\",\"#FECB52\"],\"font\":{\"color\":\"#2a3f5f\"},\"geo\":{\"bgcolor\":\"white\",\"lakecolor\":\"white\",\"landcolor\":\"#E5ECF6\",\"showlakes\":true,\"showland\":true,\"subunitcolor\":\"white\"},\"hoverlabel\":{\"align\":\"left\"},\"hovermode\":\"closest\",\"mapbox\":{\"style\":\"light\"},\"paper_bgcolor\":\"white\",\"plot_bgcolor\":\"#E5ECF6\",\"polar\":{\"angularaxis\":{\"gridcolor\":\"white\",\"linecolor\":\"white\",\"ticks\":\"\"},\"bgcolor\":\"#E5ECF6\",\"radialaxis\":{\"gridcolor\":\"white\",\"linecolor\":\"white\",\"ticks\":\"\"}},\"scene\":{\"xaxis\":{\"backgroundcolor\":\"#E5ECF6\",\"gridcolor\":\"white\",\"gridwidth\":2,\"linecolor\":\"white\",\"showbackground\":true,\"ticks\":\"\",\"zerolinecolor\":\"white\"},\"yaxis\":{\"backgroundcolor\":\"#E5ECF6\",\"gridcolor\":\"white\",\"gridwidth\":2,\"linecolor\":\"white\",\"showbackground\":true,\"ticks\":\"\",\"zerolinecolor\":\"white\"},\"zaxis\":{\"backgroundcolor\":\"#E5ECF6\",\"gridcolor\":\"white\",\"gridwidth\":2,\"linecolor\":\"white\",\"showbackground\":true,\"ticks\":\"\",\"zerolinecolor\":\"white\"}},\"shapedefaults\":{\"line\":{\"color\":\"#2a3f5f\"}},\"ternary\":{\"aaxis\":{\"gridcolor\":\"white\",\"linecolor\":\"white\",\"ticks\":\"\"},\"baxis\":{\"gridcolor\":\"white\",\"linecolor\":\"white\",\"ticks\":\"\"},\"bgcolor\":\"#E5ECF6\",\"caxis\":{\"gridcolor\":\"white\",\"linecolor\":\"white\",\"ticks\":\"\"}},\"title\":{\"x\":0.05},\"xaxis\":{\"automargin\":true,\"gridcolor\":\"white\",\"linecolor\":\"white\",\"ticks\":\"\",\"title\":{\"standoff\":15},\"zerolinecolor\":\"white\",\"zerolinewidth\":2},\"yaxis\":{\"automargin\":true,\"gridcolor\":\"white\",\"linecolor\":\"white\",\"ticks\":\"\",\"title\":{\"standoff\":15},\"zerolinecolor\":\"white\",\"zerolinewidth\":2}}}},                        {\"responsive\": true}                    ).then(function(){\n",
       "                            \n",
       "var gd = document.getElementById('43e4e495-7beb-4980-9741-979351911025');\n",
       "var x = new MutationObserver(function (mutations, observer) {{\n",
       "        var display = window.getComputedStyle(gd).display;\n",
       "        if (!display || display === 'none') {{\n",
       "            console.log([gd, 'removed!']);\n",
       "            Plotly.purge(gd);\n",
       "            observer.disconnect();\n",
       "        }}\n",
       "}});\n",
       "\n",
       "// Listen for the removal of the full notebook cells\n",
       "var notebookContainer = gd.closest('#notebook-container');\n",
       "if (notebookContainer) {{\n",
       "    x.observe(notebookContainer, {childList: true});\n",
       "}}\n",
       "\n",
       "// Listen for the clearing of the current output cell\n",
       "var outputEl = gd.closest('.output');\n",
       "if (outputEl) {{\n",
       "    x.observe(outputEl, {childList: true});\n",
       "}}\n",
       "\n",
       "                        })                };                });            </script>        </div>"
      ]
     },
     "metadata": {},
     "output_type": "display_data"
    }
   ],
   "source": [
    "scatter = [go.Scatter(x = dataset['YearsExperience'],\n",
    "                      y = dataset['Salary'],\n",
    "                      mode ='markers')] \n",
    "\n",
    "fig = go.Figure(scatter)\n",
    "\n",
    "iplot(fig)"
   ]
  },
  {
   "cell_type": "markdown",
   "id": "9486c34e",
   "metadata": {
    "papermill": {
     "duration": 0.01938,
     "end_time": "2024-08-15T20:50:42.584428",
     "exception": false,
     "start_time": "2024-08-15T20:50:42.565048",
     "status": "completed"
    },
    "tags": []
   },
   "source": [
    "## histogram"
   ]
  },
  {
   "cell_type": "code",
   "execution_count": 9,
   "id": "bf826b29",
   "metadata": {
    "execution": {
     "iopub.execute_input": "2024-08-15T20:50:42.694483Z",
     "iopub.status.busy": "2024-08-15T20:50:42.694079Z",
     "iopub.status.idle": "2024-08-15T20:50:42.746528Z",
     "shell.execute_reply": "2024-08-15T20:50:42.745316Z"
    },
    "papermill": {
     "duration": 0.145169,
     "end_time": "2024-08-15T20:50:42.749305",
     "exception": false,
     "start_time": "2024-08-15T20:50:42.604136",
     "status": "completed"
    },
    "tags": []
   },
   "outputs": [
    {
     "data": {
      "text/html": [
       "<div>                            <div id=\"29b925af-9e1e-4fe6-a6b0-84f6dac13280\" class=\"plotly-graph-div\" style=\"height:525px; width:100%;\"></div>            <script type=\"text/javascript\">                require([\"plotly\"], function(Plotly) {                    window.PLOTLYENV=window.PLOTLYENV || {};                                    if (document.getElementById(\"29b925af-9e1e-4fe6-a6b0-84f6dac13280\")) {                    Plotly.newPlot(                        \"29b925af-9e1e-4fe6-a6b0-84f6dac13280\",                        [{\"marker\":{\"color\":\"#AFE400\",\"line\":{\"color\":\"black\",\"width\":2}},\"x\":[1.1,1.3,1.5,2.0,2.2,2.9,3.0,3.2,3.2,3.7,3.9,4.0,4.0,4.1,4.5,4.9,5.1,5.3,5.9,6.0,6.8,7.1,7.9,8.2,8.7,9.0,9.5,9.6,10.3,10.5],\"type\":\"histogram\"}],                        {\"template\":{\"data\":{\"barpolar\":[{\"marker\":{\"line\":{\"color\":\"#E5ECF6\",\"width\":0.5},\"pattern\":{\"fillmode\":\"overlay\",\"size\":10,\"solidity\":0.2}},\"type\":\"barpolar\"}],\"bar\":[{\"error_x\":{\"color\":\"#2a3f5f\"},\"error_y\":{\"color\":\"#2a3f5f\"},\"marker\":{\"line\":{\"color\":\"#E5ECF6\",\"width\":0.5},\"pattern\":{\"fillmode\":\"overlay\",\"size\":10,\"solidity\":0.2}},\"type\":\"bar\"}],\"carpet\":[{\"aaxis\":{\"endlinecolor\":\"#2a3f5f\",\"gridcolor\":\"white\",\"linecolor\":\"white\",\"minorgridcolor\":\"white\",\"startlinecolor\":\"#2a3f5f\"},\"baxis\":{\"endlinecolor\":\"#2a3f5f\",\"gridcolor\":\"white\",\"linecolor\":\"white\",\"minorgridcolor\":\"white\",\"startlinecolor\":\"#2a3f5f\"},\"type\":\"carpet\"}],\"choropleth\":[{\"colorbar\":{\"outlinewidth\":0,\"ticks\":\"\"},\"type\":\"choropleth\"}],\"contourcarpet\":[{\"colorbar\":{\"outlinewidth\":0,\"ticks\":\"\"},\"type\":\"contourcarpet\"}],\"contour\":[{\"colorbar\":{\"outlinewidth\":0,\"ticks\":\"\"},\"colorscale\":[[0.0,\"#0d0887\"],[0.1111111111111111,\"#46039f\"],[0.2222222222222222,\"#7201a8\"],[0.3333333333333333,\"#9c179e\"],[0.4444444444444444,\"#bd3786\"],[0.5555555555555556,\"#d8576b\"],[0.6666666666666666,\"#ed7953\"],[0.7777777777777778,\"#fb9f3a\"],[0.8888888888888888,\"#fdca26\"],[1.0,\"#f0f921\"]],\"type\":\"contour\"}],\"heatmapgl\":[{\"colorbar\":{\"outlinewidth\":0,\"ticks\":\"\"},\"colorscale\":[[0.0,\"#0d0887\"],[0.1111111111111111,\"#46039f\"],[0.2222222222222222,\"#7201a8\"],[0.3333333333333333,\"#9c179e\"],[0.4444444444444444,\"#bd3786\"],[0.5555555555555556,\"#d8576b\"],[0.6666666666666666,\"#ed7953\"],[0.7777777777777778,\"#fb9f3a\"],[0.8888888888888888,\"#fdca26\"],[1.0,\"#f0f921\"]],\"type\":\"heatmapgl\"}],\"heatmap\":[{\"colorbar\":{\"outlinewidth\":0,\"ticks\":\"\"},\"colorscale\":[[0.0,\"#0d0887\"],[0.1111111111111111,\"#46039f\"],[0.2222222222222222,\"#7201a8\"],[0.3333333333333333,\"#9c179e\"],[0.4444444444444444,\"#bd3786\"],[0.5555555555555556,\"#d8576b\"],[0.6666666666666666,\"#ed7953\"],[0.7777777777777778,\"#fb9f3a\"],[0.8888888888888888,\"#fdca26\"],[1.0,\"#f0f921\"]],\"type\":\"heatmap\"}],\"histogram2dcontour\":[{\"colorbar\":{\"outlinewidth\":0,\"ticks\":\"\"},\"colorscale\":[[0.0,\"#0d0887\"],[0.1111111111111111,\"#46039f\"],[0.2222222222222222,\"#7201a8\"],[0.3333333333333333,\"#9c179e\"],[0.4444444444444444,\"#bd3786\"],[0.5555555555555556,\"#d8576b\"],[0.6666666666666666,\"#ed7953\"],[0.7777777777777778,\"#fb9f3a\"],[0.8888888888888888,\"#fdca26\"],[1.0,\"#f0f921\"]],\"type\":\"histogram2dcontour\"}],\"histogram2d\":[{\"colorbar\":{\"outlinewidth\":0,\"ticks\":\"\"},\"colorscale\":[[0.0,\"#0d0887\"],[0.1111111111111111,\"#46039f\"],[0.2222222222222222,\"#7201a8\"],[0.3333333333333333,\"#9c179e\"],[0.4444444444444444,\"#bd3786\"],[0.5555555555555556,\"#d8576b\"],[0.6666666666666666,\"#ed7953\"],[0.7777777777777778,\"#fb9f3a\"],[0.8888888888888888,\"#fdca26\"],[1.0,\"#f0f921\"]],\"type\":\"histogram2d\"}],\"histogram\":[{\"marker\":{\"pattern\":{\"fillmode\":\"overlay\",\"size\":10,\"solidity\":0.2}},\"type\":\"histogram\"}],\"mesh3d\":[{\"colorbar\":{\"outlinewidth\":0,\"ticks\":\"\"},\"type\":\"mesh3d\"}],\"parcoords\":[{\"line\":{\"colorbar\":{\"outlinewidth\":0,\"ticks\":\"\"}},\"type\":\"parcoords\"}],\"pie\":[{\"automargin\":true,\"type\":\"pie\"}],\"scatter3d\":[{\"line\":{\"colorbar\":{\"outlinewidth\":0,\"ticks\":\"\"}},\"marker\":{\"colorbar\":{\"outlinewidth\":0,\"ticks\":\"\"}},\"type\":\"scatter3d\"}],\"scattercarpet\":[{\"marker\":{\"colorbar\":{\"outlinewidth\":0,\"ticks\":\"\"}},\"type\":\"scattercarpet\"}],\"scattergeo\":[{\"marker\":{\"colorbar\":{\"outlinewidth\":0,\"ticks\":\"\"}},\"type\":\"scattergeo\"}],\"scattergl\":[{\"marker\":{\"colorbar\":{\"outlinewidth\":0,\"ticks\":\"\"}},\"type\":\"scattergl\"}],\"scattermapbox\":[{\"marker\":{\"colorbar\":{\"outlinewidth\":0,\"ticks\":\"\"}},\"type\":\"scattermapbox\"}],\"scatterpolargl\":[{\"marker\":{\"colorbar\":{\"outlinewidth\":0,\"ticks\":\"\"}},\"type\":\"scatterpolargl\"}],\"scatterpolar\":[{\"marker\":{\"colorbar\":{\"outlinewidth\":0,\"ticks\":\"\"}},\"type\":\"scatterpolar\"}],\"scatter\":[{\"fillpattern\":{\"fillmode\":\"overlay\",\"size\":10,\"solidity\":0.2},\"type\":\"scatter\"}],\"scatterternary\":[{\"marker\":{\"colorbar\":{\"outlinewidth\":0,\"ticks\":\"\"}},\"type\":\"scatterternary\"}],\"surface\":[{\"colorbar\":{\"outlinewidth\":0,\"ticks\":\"\"},\"colorscale\":[[0.0,\"#0d0887\"],[0.1111111111111111,\"#46039f\"],[0.2222222222222222,\"#7201a8\"],[0.3333333333333333,\"#9c179e\"],[0.4444444444444444,\"#bd3786\"],[0.5555555555555556,\"#d8576b\"],[0.6666666666666666,\"#ed7953\"],[0.7777777777777778,\"#fb9f3a\"],[0.8888888888888888,\"#fdca26\"],[1.0,\"#f0f921\"]],\"type\":\"surface\"}],\"table\":[{\"cells\":{\"fill\":{\"color\":\"#EBF0F8\"},\"line\":{\"color\":\"white\"}},\"header\":{\"fill\":{\"color\":\"#C8D4E3\"},\"line\":{\"color\":\"white\"}},\"type\":\"table\"}]},\"layout\":{\"annotationdefaults\":{\"arrowcolor\":\"#2a3f5f\",\"arrowhead\":0,\"arrowwidth\":1},\"autotypenumbers\":\"strict\",\"coloraxis\":{\"colorbar\":{\"outlinewidth\":0,\"ticks\":\"\"}},\"colorscale\":{\"diverging\":[[0,\"#8e0152\"],[0.1,\"#c51b7d\"],[0.2,\"#de77ae\"],[0.3,\"#f1b6da\"],[0.4,\"#fde0ef\"],[0.5,\"#f7f7f7\"],[0.6,\"#e6f5d0\"],[0.7,\"#b8e186\"],[0.8,\"#7fbc41\"],[0.9,\"#4d9221\"],[1,\"#276419\"]],\"sequential\":[[0.0,\"#0d0887\"],[0.1111111111111111,\"#46039f\"],[0.2222222222222222,\"#7201a8\"],[0.3333333333333333,\"#9c179e\"],[0.4444444444444444,\"#bd3786\"],[0.5555555555555556,\"#d8576b\"],[0.6666666666666666,\"#ed7953\"],[0.7777777777777778,\"#fb9f3a\"],[0.8888888888888888,\"#fdca26\"],[1.0,\"#f0f921\"]],\"sequentialminus\":[[0.0,\"#0d0887\"],[0.1111111111111111,\"#46039f\"],[0.2222222222222222,\"#7201a8\"],[0.3333333333333333,\"#9c179e\"],[0.4444444444444444,\"#bd3786\"],[0.5555555555555556,\"#d8576b\"],[0.6666666666666666,\"#ed7953\"],[0.7777777777777778,\"#fb9f3a\"],[0.8888888888888888,\"#fdca26\"],[1.0,\"#f0f921\"]]},\"colorway\":[\"#636efa\",\"#EF553B\",\"#00cc96\",\"#ab63fa\",\"#FFA15A\",\"#19d3f3\",\"#FF6692\",\"#B6E880\",\"#FF97FF\",\"#FECB52\"],\"font\":{\"color\":\"#2a3f5f\"},\"geo\":{\"bgcolor\":\"white\",\"lakecolor\":\"white\",\"landcolor\":\"#E5ECF6\",\"showlakes\":true,\"showland\":true,\"subunitcolor\":\"white\"},\"hoverlabel\":{\"align\":\"left\"},\"hovermode\":\"closest\",\"mapbox\":{\"style\":\"light\"},\"paper_bgcolor\":\"white\",\"plot_bgcolor\":\"#E5ECF6\",\"polar\":{\"angularaxis\":{\"gridcolor\":\"white\",\"linecolor\":\"white\",\"ticks\":\"\"},\"bgcolor\":\"#E5ECF6\",\"radialaxis\":{\"gridcolor\":\"white\",\"linecolor\":\"white\",\"ticks\":\"\"}},\"scene\":{\"xaxis\":{\"backgroundcolor\":\"#E5ECF6\",\"gridcolor\":\"white\",\"gridwidth\":2,\"linecolor\":\"white\",\"showbackground\":true,\"ticks\":\"\",\"zerolinecolor\":\"white\"},\"yaxis\":{\"backgroundcolor\":\"#E5ECF6\",\"gridcolor\":\"white\",\"gridwidth\":2,\"linecolor\":\"white\",\"showbackground\":true,\"ticks\":\"\",\"zerolinecolor\":\"white\"},\"zaxis\":{\"backgroundcolor\":\"#E5ECF6\",\"gridcolor\":\"white\",\"gridwidth\":2,\"linecolor\":\"white\",\"showbackground\":true,\"ticks\":\"\",\"zerolinecolor\":\"white\"}},\"shapedefaults\":{\"line\":{\"color\":\"#2a3f5f\"}},\"ternary\":{\"aaxis\":{\"gridcolor\":\"white\",\"linecolor\":\"white\",\"ticks\":\"\"},\"baxis\":{\"gridcolor\":\"white\",\"linecolor\":\"white\",\"ticks\":\"\"},\"bgcolor\":\"#E5ECF6\",\"caxis\":{\"gridcolor\":\"white\",\"linecolor\":\"white\",\"ticks\":\"\"}},\"title\":{\"x\":0.05},\"xaxis\":{\"automargin\":true,\"gridcolor\":\"white\",\"linecolor\":\"white\",\"ticks\":\"\",\"title\":{\"standoff\":15},\"zerolinecolor\":\"white\",\"zerolinewidth\":2},\"yaxis\":{\"automargin\":true,\"gridcolor\":\"white\",\"linecolor\":\"white\",\"ticks\":\"\",\"title\":{\"standoff\":15},\"zerolinecolor\":\"white\",\"zerolinewidth\":2}}}},                        {\"responsive\": true}                    ).then(function(){\n",
       "                            \n",
       "var gd = document.getElementById('29b925af-9e1e-4fe6-a6b0-84f6dac13280');\n",
       "var x = new MutationObserver(function (mutations, observer) {{\n",
       "        var display = window.getComputedStyle(gd).display;\n",
       "        if (!display || display === 'none') {{\n",
       "            console.log([gd, 'removed!']);\n",
       "            Plotly.purge(gd);\n",
       "            observer.disconnect();\n",
       "        }}\n",
       "}});\n",
       "\n",
       "// Listen for the removal of the full notebook cells\n",
       "var notebookContainer = gd.closest('#notebook-container');\n",
       "if (notebookContainer) {{\n",
       "    x.observe(notebookContainer, {childList: true});\n",
       "}}\n",
       "\n",
       "// Listen for the clearing of the current output cell\n",
       "var outputEl = gd.closest('.output');\n",
       "if (outputEl) {{\n",
       "    x.observe(outputEl, {childList: true});\n",
       "}}\n",
       "\n",
       "                        })                };                });            </script>        </div>"
      ]
     },
     "metadata": {},
     "output_type": "display_data"
    }
   ],
   "source": [
    "hist = [go.Histogram(x = dataset['YearsExperience'],\\\n",
    "                     marker=dict(color ='#AFE400',line = dict(color='black',width=2)))]\n",
    "\n",
    "\n",
    "fig = go.Figure(data = hist)\n",
    "\n",
    "iplot(fig)"
   ]
  },
  {
   "cell_type": "code",
   "execution_count": 10,
   "id": "829e1ef8",
   "metadata": {
    "execution": {
     "iopub.execute_input": "2024-08-15T20:50:42.796431Z",
     "iopub.status.busy": "2024-08-15T20:50:42.795483Z",
     "iopub.status.idle": "2024-08-15T20:50:42.835453Z",
     "shell.execute_reply": "2024-08-15T20:50:42.834354Z"
    },
    "papermill": {
     "duration": 0.066652,
     "end_time": "2024-08-15T20:50:42.838339",
     "exception": false,
     "start_time": "2024-08-15T20:50:42.771687",
     "status": "completed"
    },
    "tags": []
   },
   "outputs": [
    {
     "data": {
      "text/html": [
       "<div>                            <div id=\"6955844a-71a0-4e0d-9be8-e332661b9a32\" class=\"plotly-graph-div\" style=\"height:525px; width:100%;\"></div>            <script type=\"text/javascript\">                require([\"plotly\"], function(Plotly) {                    window.PLOTLYENV=window.PLOTLYENV || {};                                    if (document.getElementById(\"6955844a-71a0-4e0d-9be8-e332661b9a32\")) {                    Plotly.newPlot(                        \"6955844a-71a0-4e0d-9be8-e332661b9a32\",                        [{\"marker\":{\"color\":\"#0FE400\",\"line\":{\"color\":\"black\",\"width\":2}},\"x\":[39343.0,46205.0,37731.0,43525.0,39891.0,56642.0,60150.0,54445.0,64445.0,57189.0,63218.0,55794.0,56957.0,57081.0,61111.0,67938.0,66029.0,83088.0,81363.0,93940.0,91738.0,98273.0,101302.0,113812.0,109431.0,105582.0,116969.0,112635.0,122391.0,121872.0],\"type\":\"histogram\"}],                        {\"template\":{\"data\":{\"barpolar\":[{\"marker\":{\"line\":{\"color\":\"#E5ECF6\",\"width\":0.5},\"pattern\":{\"fillmode\":\"overlay\",\"size\":10,\"solidity\":0.2}},\"type\":\"barpolar\"}],\"bar\":[{\"error_x\":{\"color\":\"#2a3f5f\"},\"error_y\":{\"color\":\"#2a3f5f\"},\"marker\":{\"line\":{\"color\":\"#E5ECF6\",\"width\":0.5},\"pattern\":{\"fillmode\":\"overlay\",\"size\":10,\"solidity\":0.2}},\"type\":\"bar\"}],\"carpet\":[{\"aaxis\":{\"endlinecolor\":\"#2a3f5f\",\"gridcolor\":\"white\",\"linecolor\":\"white\",\"minorgridcolor\":\"white\",\"startlinecolor\":\"#2a3f5f\"},\"baxis\":{\"endlinecolor\":\"#2a3f5f\",\"gridcolor\":\"white\",\"linecolor\":\"white\",\"minorgridcolor\":\"white\",\"startlinecolor\":\"#2a3f5f\"},\"type\":\"carpet\"}],\"choropleth\":[{\"colorbar\":{\"outlinewidth\":0,\"ticks\":\"\"},\"type\":\"choropleth\"}],\"contourcarpet\":[{\"colorbar\":{\"outlinewidth\":0,\"ticks\":\"\"},\"type\":\"contourcarpet\"}],\"contour\":[{\"colorbar\":{\"outlinewidth\":0,\"ticks\":\"\"},\"colorscale\":[[0.0,\"#0d0887\"],[0.1111111111111111,\"#46039f\"],[0.2222222222222222,\"#7201a8\"],[0.3333333333333333,\"#9c179e\"],[0.4444444444444444,\"#bd3786\"],[0.5555555555555556,\"#d8576b\"],[0.6666666666666666,\"#ed7953\"],[0.7777777777777778,\"#fb9f3a\"],[0.8888888888888888,\"#fdca26\"],[1.0,\"#f0f921\"]],\"type\":\"contour\"}],\"heatmapgl\":[{\"colorbar\":{\"outlinewidth\":0,\"ticks\":\"\"},\"colorscale\":[[0.0,\"#0d0887\"],[0.1111111111111111,\"#46039f\"],[0.2222222222222222,\"#7201a8\"],[0.3333333333333333,\"#9c179e\"],[0.4444444444444444,\"#bd3786\"],[0.5555555555555556,\"#d8576b\"],[0.6666666666666666,\"#ed7953\"],[0.7777777777777778,\"#fb9f3a\"],[0.8888888888888888,\"#fdca26\"],[1.0,\"#f0f921\"]],\"type\":\"heatmapgl\"}],\"heatmap\":[{\"colorbar\":{\"outlinewidth\":0,\"ticks\":\"\"},\"colorscale\":[[0.0,\"#0d0887\"],[0.1111111111111111,\"#46039f\"],[0.2222222222222222,\"#7201a8\"],[0.3333333333333333,\"#9c179e\"],[0.4444444444444444,\"#bd3786\"],[0.5555555555555556,\"#d8576b\"],[0.6666666666666666,\"#ed7953\"],[0.7777777777777778,\"#fb9f3a\"],[0.8888888888888888,\"#fdca26\"],[1.0,\"#f0f921\"]],\"type\":\"heatmap\"}],\"histogram2dcontour\":[{\"colorbar\":{\"outlinewidth\":0,\"ticks\":\"\"},\"colorscale\":[[0.0,\"#0d0887\"],[0.1111111111111111,\"#46039f\"],[0.2222222222222222,\"#7201a8\"],[0.3333333333333333,\"#9c179e\"],[0.4444444444444444,\"#bd3786\"],[0.5555555555555556,\"#d8576b\"],[0.6666666666666666,\"#ed7953\"],[0.7777777777777778,\"#fb9f3a\"],[0.8888888888888888,\"#fdca26\"],[1.0,\"#f0f921\"]],\"type\":\"histogram2dcontour\"}],\"histogram2d\":[{\"colorbar\":{\"outlinewidth\":0,\"ticks\":\"\"},\"colorscale\":[[0.0,\"#0d0887\"],[0.1111111111111111,\"#46039f\"],[0.2222222222222222,\"#7201a8\"],[0.3333333333333333,\"#9c179e\"],[0.4444444444444444,\"#bd3786\"],[0.5555555555555556,\"#d8576b\"],[0.6666666666666666,\"#ed7953\"],[0.7777777777777778,\"#fb9f3a\"],[0.8888888888888888,\"#fdca26\"],[1.0,\"#f0f921\"]],\"type\":\"histogram2d\"}],\"histogram\":[{\"marker\":{\"pattern\":{\"fillmode\":\"overlay\",\"size\":10,\"solidity\":0.2}},\"type\":\"histogram\"}],\"mesh3d\":[{\"colorbar\":{\"outlinewidth\":0,\"ticks\":\"\"},\"type\":\"mesh3d\"}],\"parcoords\":[{\"line\":{\"colorbar\":{\"outlinewidth\":0,\"ticks\":\"\"}},\"type\":\"parcoords\"}],\"pie\":[{\"automargin\":true,\"type\":\"pie\"}],\"scatter3d\":[{\"line\":{\"colorbar\":{\"outlinewidth\":0,\"ticks\":\"\"}},\"marker\":{\"colorbar\":{\"outlinewidth\":0,\"ticks\":\"\"}},\"type\":\"scatter3d\"}],\"scattercarpet\":[{\"marker\":{\"colorbar\":{\"outlinewidth\":0,\"ticks\":\"\"}},\"type\":\"scattercarpet\"}],\"scattergeo\":[{\"marker\":{\"colorbar\":{\"outlinewidth\":0,\"ticks\":\"\"}},\"type\":\"scattergeo\"}],\"scattergl\":[{\"marker\":{\"colorbar\":{\"outlinewidth\":0,\"ticks\":\"\"}},\"type\":\"scattergl\"}],\"scattermapbox\":[{\"marker\":{\"colorbar\":{\"outlinewidth\":0,\"ticks\":\"\"}},\"type\":\"scattermapbox\"}],\"scatterpolargl\":[{\"marker\":{\"colorbar\":{\"outlinewidth\":0,\"ticks\":\"\"}},\"type\":\"scatterpolargl\"}],\"scatterpolar\":[{\"marker\":{\"colorbar\":{\"outlinewidth\":0,\"ticks\":\"\"}},\"type\":\"scatterpolar\"}],\"scatter\":[{\"fillpattern\":{\"fillmode\":\"overlay\",\"size\":10,\"solidity\":0.2},\"type\":\"scatter\"}],\"scatterternary\":[{\"marker\":{\"colorbar\":{\"outlinewidth\":0,\"ticks\":\"\"}},\"type\":\"scatterternary\"}],\"surface\":[{\"colorbar\":{\"outlinewidth\":0,\"ticks\":\"\"},\"colorscale\":[[0.0,\"#0d0887\"],[0.1111111111111111,\"#46039f\"],[0.2222222222222222,\"#7201a8\"],[0.3333333333333333,\"#9c179e\"],[0.4444444444444444,\"#bd3786\"],[0.5555555555555556,\"#d8576b\"],[0.6666666666666666,\"#ed7953\"],[0.7777777777777778,\"#fb9f3a\"],[0.8888888888888888,\"#fdca26\"],[1.0,\"#f0f921\"]],\"type\":\"surface\"}],\"table\":[{\"cells\":{\"fill\":{\"color\":\"#EBF0F8\"},\"line\":{\"color\":\"white\"}},\"header\":{\"fill\":{\"color\":\"#C8D4E3\"},\"line\":{\"color\":\"white\"}},\"type\":\"table\"}]},\"layout\":{\"annotationdefaults\":{\"arrowcolor\":\"#2a3f5f\",\"arrowhead\":0,\"arrowwidth\":1},\"autotypenumbers\":\"strict\",\"coloraxis\":{\"colorbar\":{\"outlinewidth\":0,\"ticks\":\"\"}},\"colorscale\":{\"diverging\":[[0,\"#8e0152\"],[0.1,\"#c51b7d\"],[0.2,\"#de77ae\"],[0.3,\"#f1b6da\"],[0.4,\"#fde0ef\"],[0.5,\"#f7f7f7\"],[0.6,\"#e6f5d0\"],[0.7,\"#b8e186\"],[0.8,\"#7fbc41\"],[0.9,\"#4d9221\"],[1,\"#276419\"]],\"sequential\":[[0.0,\"#0d0887\"],[0.1111111111111111,\"#46039f\"],[0.2222222222222222,\"#7201a8\"],[0.3333333333333333,\"#9c179e\"],[0.4444444444444444,\"#bd3786\"],[0.5555555555555556,\"#d8576b\"],[0.6666666666666666,\"#ed7953\"],[0.7777777777777778,\"#fb9f3a\"],[0.8888888888888888,\"#fdca26\"],[1.0,\"#f0f921\"]],\"sequentialminus\":[[0.0,\"#0d0887\"],[0.1111111111111111,\"#46039f\"],[0.2222222222222222,\"#7201a8\"],[0.3333333333333333,\"#9c179e\"],[0.4444444444444444,\"#bd3786\"],[0.5555555555555556,\"#d8576b\"],[0.6666666666666666,\"#ed7953\"],[0.7777777777777778,\"#fb9f3a\"],[0.8888888888888888,\"#fdca26\"],[1.0,\"#f0f921\"]]},\"colorway\":[\"#636efa\",\"#EF553B\",\"#00cc96\",\"#ab63fa\",\"#FFA15A\",\"#19d3f3\",\"#FF6692\",\"#B6E880\",\"#FF97FF\",\"#FECB52\"],\"font\":{\"color\":\"#2a3f5f\"},\"geo\":{\"bgcolor\":\"white\",\"lakecolor\":\"white\",\"landcolor\":\"#E5ECF6\",\"showlakes\":true,\"showland\":true,\"subunitcolor\":\"white\"},\"hoverlabel\":{\"align\":\"left\"},\"hovermode\":\"closest\",\"mapbox\":{\"style\":\"light\"},\"paper_bgcolor\":\"white\",\"plot_bgcolor\":\"#E5ECF6\",\"polar\":{\"angularaxis\":{\"gridcolor\":\"white\",\"linecolor\":\"white\",\"ticks\":\"\"},\"bgcolor\":\"#E5ECF6\",\"radialaxis\":{\"gridcolor\":\"white\",\"linecolor\":\"white\",\"ticks\":\"\"}},\"scene\":{\"xaxis\":{\"backgroundcolor\":\"#E5ECF6\",\"gridcolor\":\"white\",\"gridwidth\":2,\"linecolor\":\"white\",\"showbackground\":true,\"ticks\":\"\",\"zerolinecolor\":\"white\"},\"yaxis\":{\"backgroundcolor\":\"#E5ECF6\",\"gridcolor\":\"white\",\"gridwidth\":2,\"linecolor\":\"white\",\"showbackground\":true,\"ticks\":\"\",\"zerolinecolor\":\"white\"},\"zaxis\":{\"backgroundcolor\":\"#E5ECF6\",\"gridcolor\":\"white\",\"gridwidth\":2,\"linecolor\":\"white\",\"showbackground\":true,\"ticks\":\"\",\"zerolinecolor\":\"white\"}},\"shapedefaults\":{\"line\":{\"color\":\"#2a3f5f\"}},\"ternary\":{\"aaxis\":{\"gridcolor\":\"white\",\"linecolor\":\"white\",\"ticks\":\"\"},\"baxis\":{\"gridcolor\":\"white\",\"linecolor\":\"white\",\"ticks\":\"\"},\"bgcolor\":\"#E5ECF6\",\"caxis\":{\"gridcolor\":\"white\",\"linecolor\":\"white\",\"ticks\":\"\"}},\"title\":{\"x\":0.05},\"xaxis\":{\"automargin\":true,\"gridcolor\":\"white\",\"linecolor\":\"white\",\"ticks\":\"\",\"title\":{\"standoff\":15},\"zerolinecolor\":\"white\",\"zerolinewidth\":2},\"yaxis\":{\"automargin\":true,\"gridcolor\":\"white\",\"linecolor\":\"white\",\"ticks\":\"\",\"title\":{\"standoff\":15},\"zerolinecolor\":\"white\",\"zerolinewidth\":2}}}},                        {\"responsive\": true}                    ).then(function(){\n",
       "                            \n",
       "var gd = document.getElementById('6955844a-71a0-4e0d-9be8-e332661b9a32');\n",
       "var x = new MutationObserver(function (mutations, observer) {{\n",
       "        var display = window.getComputedStyle(gd).display;\n",
       "        if (!display || display === 'none') {{\n",
       "            console.log([gd, 'removed!']);\n",
       "            Plotly.purge(gd);\n",
       "            observer.disconnect();\n",
       "        }}\n",
       "}});\n",
       "\n",
       "// Listen for the removal of the full notebook cells\n",
       "var notebookContainer = gd.closest('#notebook-container');\n",
       "if (notebookContainer) {{\n",
       "    x.observe(notebookContainer, {childList: true});\n",
       "}}\n",
       "\n",
       "// Listen for the clearing of the current output cell\n",
       "var outputEl = gd.closest('.output');\n",
       "if (outputEl) {{\n",
       "    x.observe(outputEl, {childList: true});\n",
       "}}\n",
       "\n",
       "                        })                };                });            </script>        </div>"
      ]
     },
     "metadata": {},
     "output_type": "display_data"
    }
   ],
   "source": [
    "hist = [go.Histogram(x = dataset['Salary'],\\\n",
    "                     marker=dict(color ='#0FE400',line = dict(color='black',width=2)))]\n",
    "\n",
    "fig = go.Figure(data = hist)\n",
    "\n",
    "iplot(fig)"
   ]
  },
  {
   "cell_type": "markdown",
   "id": "3f300d5e",
   "metadata": {
    "papermill": {
     "duration": 0.019908,
     "end_time": "2024-08-15T20:50:42.880263",
     "exception": false,
     "start_time": "2024-08-15T20:50:42.860355",
     "status": "completed"
    },
    "tags": []
   },
   "source": [
    "# Assigning dependent variable to y and independent variable to X."
   ]
  },
  {
   "cell_type": "code",
   "execution_count": 11,
   "id": "0b3a3782",
   "metadata": {
    "execution": {
     "iopub.execute_input": "2024-08-15T20:50:42.923100Z",
     "iopub.status.busy": "2024-08-15T20:50:42.921841Z",
     "iopub.status.idle": "2024-08-15T20:50:42.929222Z",
     "shell.execute_reply": "2024-08-15T20:50:42.928005Z"
    },
    "papermill": {
     "duration": 0.031523,
     "end_time": "2024-08-15T20:50:42.931790",
     "exception": false,
     "start_time": "2024-08-15T20:50:42.900267",
     "status": "completed"
    },
    "tags": []
   },
   "outputs": [],
   "source": [
    "#Assiging values in X & Y\n",
    "X = dataset.iloc[:, :-1].values\n",
    "y = dataset.iloc[:, -1].values"
   ]
  },
  {
   "cell_type": "code",
   "execution_count": 12,
   "id": "b99fe63e",
   "metadata": {
    "execution": {
     "iopub.execute_input": "2024-08-15T20:50:42.973755Z",
     "iopub.status.busy": "2024-08-15T20:50:42.972607Z",
     "iopub.status.idle": "2024-08-15T20:50:42.980537Z",
     "shell.execute_reply": "2024-08-15T20:50:42.978966Z"
    },
    "papermill": {
     "duration": 0.031564,
     "end_time": "2024-08-15T20:50:42.983089",
     "exception": false,
     "start_time": "2024-08-15T20:50:42.951525",
     "status": "completed"
    },
    "tags": []
   },
   "outputs": [
    {
     "name": "stdout",
     "output_type": "stream",
     "text": [
      "[[ 1.1]\n",
      " [ 1.3]\n",
      " [ 1.5]\n",
      " [ 2. ]\n",
      " [ 2.2]\n",
      " [ 2.9]\n",
      " [ 3. ]\n",
      " [ 3.2]\n",
      " [ 3.2]\n",
      " [ 3.7]\n",
      " [ 3.9]\n",
      " [ 4. ]\n",
      " [ 4. ]\n",
      " [ 4.1]\n",
      " [ 4.5]\n",
      " [ 4.9]\n",
      " [ 5.1]\n",
      " [ 5.3]\n",
      " [ 5.9]\n",
      " [ 6. ]\n",
      " [ 6.8]\n",
      " [ 7.1]\n",
      " [ 7.9]\n",
      " [ 8.2]\n",
      " [ 8.7]\n",
      " [ 9. ]\n",
      " [ 9.5]\n",
      " [ 9.6]\n",
      " [10.3]\n",
      " [10.5]]\n"
     ]
    }
   ],
   "source": [
    "print(X)"
   ]
  },
  {
   "cell_type": "code",
   "execution_count": 13,
   "id": "d75413d6",
   "metadata": {
    "execution": {
     "iopub.execute_input": "2024-08-15T20:50:43.025883Z",
     "iopub.status.busy": "2024-08-15T20:50:43.024733Z",
     "iopub.status.idle": "2024-08-15T20:50:43.032062Z",
     "shell.execute_reply": "2024-08-15T20:50:43.030813Z"
    },
    "papermill": {
     "duration": 0.031705,
     "end_time": "2024-08-15T20:50:43.034959",
     "exception": false,
     "start_time": "2024-08-15T20:50:43.003254",
     "status": "completed"
    },
    "tags": []
   },
   "outputs": [
    {
     "name": "stdout",
     "output_type": "stream",
     "text": [
      "[ 39343.  46205.  37731.  43525.  39891.  56642.  60150.  54445.  64445.\n",
      "  57189.  63218.  55794.  56957.  57081.  61111.  67938.  66029.  83088.\n",
      "  81363.  93940.  91738.  98273. 101302. 113812. 109431. 105582. 116969.\n",
      " 112635. 122391. 121872.]\n"
     ]
    }
   ],
   "source": [
    "print(y)"
   ]
  },
  {
   "cell_type": "markdown",
   "id": "add56ff5",
   "metadata": {
    "papermill": {
     "duration": 0.021649,
     "end_time": "2024-08-15T20:50:43.076625",
     "exception": false,
     "start_time": "2024-08-15T20:50:43.054976",
     "status": "completed"
    },
    "tags": []
   },
   "source": [
    "The dataset has to be split into a training set and a test set analysis. This can be done by the function train_test_split function from the Model_selection module of the Scikit-learn library.\n"
   ]
  },
  {
   "cell_type": "markdown",
   "id": "7b78f3b6",
   "metadata": {
    "papermill": {
     "duration": 0.020643,
     "end_time": "2024-08-15T20:50:43.117342",
     "exception": false,
     "start_time": "2024-08-15T20:50:43.096699",
     "status": "completed"
    },
    "tags": []
   },
   "source": [
    "# Spliting Dataset"
   ]
  },
  {
   "cell_type": "code",
   "execution_count": 14,
   "id": "5d4dc391",
   "metadata": {
    "execution": {
     "iopub.execute_input": "2024-08-15T20:50:43.160076Z",
     "iopub.status.busy": "2024-08-15T20:50:43.159580Z",
     "iopub.status.idle": "2024-08-15T20:50:43.447981Z",
     "shell.execute_reply": "2024-08-15T20:50:43.446742Z"
    },
    "papermill": {
     "duration": 0.313892,
     "end_time": "2024-08-15T20:50:43.451405",
     "exception": false,
     "start_time": "2024-08-15T20:50:43.137513",
     "status": "completed"
    },
    "tags": []
   },
   "outputs": [],
   "source": [
    "#Splitting testdata into X_train,X_test,y_train,y_test\n",
    "from sklearn.model_selection import train_test_split\n",
    "X_train,X_test,y_train,y_test = train_test_split(X,y,test_size=.33,random_state=2)"
   ]
  },
  {
   "cell_type": "markdown",
   "id": "38a8acdd",
   "metadata": {
    "papermill": {
     "duration": 0.020722,
     "end_time": "2024-08-15T20:50:43.497968",
     "exception": false,
     "start_time": "2024-08-15T20:50:43.477246",
     "status": "completed"
    },
    "tags": []
   },
   "source": [
    "Now the data set will be divided into X_train,X_test,y_train,y_test based on the test_size we have provided as input.\n",
    "\n",
    "Here dataset has 30 observations and test_size is taken as 33% of the total observation. This indicates the test set should have 33% * 30 =9.9 ~10 observations and the training set should have 20 observations. Random_state is assigned to some value so that the dataset is split randomly."
   ]
  },
  {
   "cell_type": "code",
   "execution_count": 15,
   "id": "19c55e72",
   "metadata": {
    "execution": {
     "iopub.execute_input": "2024-08-15T20:50:43.544218Z",
     "iopub.status.busy": "2024-08-15T20:50:43.543782Z",
     "iopub.status.idle": "2024-08-15T20:50:43.549951Z",
     "shell.execute_reply": "2024-08-15T20:50:43.548726Z"
    },
    "papermill": {
     "duration": 0.031463,
     "end_time": "2024-08-15T20:50:43.553113",
     "exception": false,
     "start_time": "2024-08-15T20:50:43.521650",
     "status": "completed"
    },
    "tags": []
   },
   "outputs": [
    {
     "name": "stdout",
     "output_type": "stream",
     "text": [
      "[[ 2.9]\n",
      " [ 9.6]\n",
      " [ 4. ]\n",
      " [ 2.2]\n",
      " [ 3.9]\n",
      " [ 5.1]\n",
      " [10.3]\n",
      " [ 9. ]\n",
      " [ 5.3]\n",
      " [ 1.5]\n",
      " [ 3.2]\n",
      " [ 9.5]\n",
      " [ 8.7]\n",
      " [ 5.9]\n",
      " [ 4. ]\n",
      " [ 7.9]\n",
      " [10.5]\n",
      " [ 4.1]\n",
      " [ 4.9]\n",
      " [ 3.2]]\n"
     ]
    }
   ],
   "source": [
    "print(X_train)"
   ]
  },
  {
   "cell_type": "code",
   "execution_count": 16,
   "id": "4bc6115a",
   "metadata": {
    "execution": {
     "iopub.execute_input": "2024-08-15T20:50:43.595153Z",
     "iopub.status.busy": "2024-08-15T20:50:43.594592Z",
     "iopub.status.idle": "2024-08-15T20:50:43.601174Z",
     "shell.execute_reply": "2024-08-15T20:50:43.599876Z"
    },
    "papermill": {
     "duration": 0.030871,
     "end_time": "2024-08-15T20:50:43.604034",
     "exception": false,
     "start_time": "2024-08-15T20:50:43.573163",
     "status": "completed"
    },
    "tags": []
   },
   "outputs": [
    {
     "name": "stdout",
     "output_type": "stream",
     "text": [
      "[[1.3]\n",
      " [1.1]\n",
      " [4.5]\n",
      " [3.7]\n",
      " [7.1]\n",
      " [6. ]\n",
      " [8.2]\n",
      " [3. ]\n",
      " [2. ]\n",
      " [6.8]]\n"
     ]
    }
   ],
   "source": [
    "print(X_test)"
   ]
  },
  {
   "cell_type": "code",
   "execution_count": 17,
   "id": "6c39d398",
   "metadata": {
    "execution": {
     "iopub.execute_input": "2024-08-15T20:50:43.647123Z",
     "iopub.status.busy": "2024-08-15T20:50:43.646705Z",
     "iopub.status.idle": "2024-08-15T20:50:43.652911Z",
     "shell.execute_reply": "2024-08-15T20:50:43.651887Z"
    },
    "papermill": {
     "duration": 0.031381,
     "end_time": "2024-08-15T20:50:43.655722",
     "exception": false,
     "start_time": "2024-08-15T20:50:43.624341",
     "status": "completed"
    },
    "tags": []
   },
   "outputs": [
    {
     "name": "stdout",
     "output_type": "stream",
     "text": [
      "[ 56642. 112635.  56957.  39891.  63218.  66029. 122391. 105582.  83088.\n",
      "  37731.  54445. 116969. 109431.  81363.  55794. 101302. 121872.  57081.\n",
      "  67938.  64445.]\n"
     ]
    }
   ],
   "source": [
    "print(y_train)"
   ]
  },
  {
   "cell_type": "code",
   "execution_count": 18,
   "id": "362d8658",
   "metadata": {
    "execution": {
     "iopub.execute_input": "2024-08-15T20:50:43.698049Z",
     "iopub.status.busy": "2024-08-15T20:50:43.697567Z",
     "iopub.status.idle": "2024-08-15T20:50:43.703950Z",
     "shell.execute_reply": "2024-08-15T20:50:43.702812Z"
    },
    "papermill": {
     "duration": 0.031096,
     "end_time": "2024-08-15T20:50:43.707109",
     "exception": false,
     "start_time": "2024-08-15T20:50:43.676013",
     "status": "completed"
    },
    "tags": []
   },
   "outputs": [
    {
     "name": "stdout",
     "output_type": "stream",
     "text": [
      "[ 46205.  39343.  61111.  57189.  98273.  93940. 113812.  60150.  43525.\n",
      "  91738.]\n"
     ]
    }
   ],
   "source": [
    "print (y_test)"
   ]
  },
  {
   "cell_type": "markdown",
   "id": "8c1eb08b",
   "metadata": {
    "papermill": {
     "duration": 0.020294,
     "end_time": "2024-08-15T20:50:43.748344",
     "exception": false,
     "start_time": "2024-08-15T20:50:43.728050",
     "status": "completed"
    },
    "tags": []
   },
   "source": [
    "random_state is provided as input to divide the test set and the training set randomly. If we use random_state as 47, then the dataset will be divided in a different random way."
   ]
  },
  {
   "cell_type": "markdown",
   "id": "78cecbe0",
   "metadata": {
    "papermill": {
     "duration": 0.021954,
     "end_time": "2024-08-15T20:50:43.790544",
     "exception": false,
     "start_time": "2024-08-15T20:50:43.768590",
     "status": "completed"
    },
    "tags": []
   },
   "source": [
    "# Linear Regression"
   ]
  },
  {
   "cell_type": "markdown",
   "id": "f5e617cd",
   "metadata": {
    "papermill": {
     "duration": 0.020747,
     "end_time": "2024-08-15T20:50:43.833346",
     "exception": false,
     "start_time": "2024-08-15T20:50:43.812599",
     "status": "completed"
    },
    "tags": []
   },
   "source": [
    "To perform linear regression, LinearRegression class is imported from the module linear_model of the Scikit-learn library. The simple regression model built will be an instance of class LinearRegression."
   ]
  },
  {
   "cell_type": "code",
   "execution_count": 19,
   "id": "88c6f738",
   "metadata": {
    "execution": {
     "iopub.execute_input": "2024-08-15T20:50:43.875983Z",
     "iopub.status.busy": "2024-08-15T20:50:43.875536Z",
     "iopub.status.idle": "2024-08-15T20:50:43.999469Z",
     "shell.execute_reply": "2024-08-15T20:50:43.998360Z"
    },
    "papermill": {
     "duration": 0.148143,
     "end_time": "2024-08-15T20:50:44.002079",
     "exception": false,
     "start_time": "2024-08-15T20:50:43.853936",
     "status": "completed"
    },
    "tags": []
   },
   "outputs": [
    {
     "data": {
      "text/html": [
       "<style>#sk-container-id-1 {color: black;background-color: white;}#sk-container-id-1 pre{padding: 0;}#sk-container-id-1 div.sk-toggleable {background-color: white;}#sk-container-id-1 label.sk-toggleable__label {cursor: pointer;display: block;width: 100%;margin-bottom: 0;padding: 0.3em;box-sizing: border-box;text-align: center;}#sk-container-id-1 label.sk-toggleable__label-arrow:before {content: \"▸\";float: left;margin-right: 0.25em;color: #696969;}#sk-container-id-1 label.sk-toggleable__label-arrow:hover:before {color: black;}#sk-container-id-1 div.sk-estimator:hover label.sk-toggleable__label-arrow:before {color: black;}#sk-container-id-1 div.sk-toggleable__content {max-height: 0;max-width: 0;overflow: hidden;text-align: left;background-color: #f0f8ff;}#sk-container-id-1 div.sk-toggleable__content pre {margin: 0.2em;color: black;border-radius: 0.25em;background-color: #f0f8ff;}#sk-container-id-1 input.sk-toggleable__control:checked~div.sk-toggleable__content {max-height: 200px;max-width: 100%;overflow: auto;}#sk-container-id-1 input.sk-toggleable__control:checked~label.sk-toggleable__label-arrow:before {content: \"▾\";}#sk-container-id-1 div.sk-estimator input.sk-toggleable__control:checked~label.sk-toggleable__label {background-color: #d4ebff;}#sk-container-id-1 div.sk-label input.sk-toggleable__control:checked~label.sk-toggleable__label {background-color: #d4ebff;}#sk-container-id-1 input.sk-hidden--visually {border: 0;clip: rect(1px 1px 1px 1px);clip: rect(1px, 1px, 1px, 1px);height: 1px;margin: -1px;overflow: hidden;padding: 0;position: absolute;width: 1px;}#sk-container-id-1 div.sk-estimator {font-family: monospace;background-color: #f0f8ff;border: 1px dotted black;border-radius: 0.25em;box-sizing: border-box;margin-bottom: 0.5em;}#sk-container-id-1 div.sk-estimator:hover {background-color: #d4ebff;}#sk-container-id-1 div.sk-parallel-item::after {content: \"\";width: 100%;border-bottom: 1px solid gray;flex-grow: 1;}#sk-container-id-1 div.sk-label:hover label.sk-toggleable__label {background-color: #d4ebff;}#sk-container-id-1 div.sk-serial::before {content: \"\";position: absolute;border-left: 1px solid gray;box-sizing: border-box;top: 0;bottom: 0;left: 50%;z-index: 0;}#sk-container-id-1 div.sk-serial {display: flex;flex-direction: column;align-items: center;background-color: white;padding-right: 0.2em;padding-left: 0.2em;position: relative;}#sk-container-id-1 div.sk-item {position: relative;z-index: 1;}#sk-container-id-1 div.sk-parallel {display: flex;align-items: stretch;justify-content: center;background-color: white;position: relative;}#sk-container-id-1 div.sk-item::before, #sk-container-id-1 div.sk-parallel-item::before {content: \"\";position: absolute;border-left: 1px solid gray;box-sizing: border-box;top: 0;bottom: 0;left: 50%;z-index: -1;}#sk-container-id-1 div.sk-parallel-item {display: flex;flex-direction: column;z-index: 1;position: relative;background-color: white;}#sk-container-id-1 div.sk-parallel-item:first-child::after {align-self: flex-end;width: 50%;}#sk-container-id-1 div.sk-parallel-item:last-child::after {align-self: flex-start;width: 50%;}#sk-container-id-1 div.sk-parallel-item:only-child::after {width: 0;}#sk-container-id-1 div.sk-dashed-wrapped {border: 1px dashed gray;margin: 0 0.4em 0.5em 0.4em;box-sizing: border-box;padding-bottom: 0.4em;background-color: white;}#sk-container-id-1 div.sk-label label {font-family: monospace;font-weight: bold;display: inline-block;line-height: 1.2em;}#sk-container-id-1 div.sk-label-container {text-align: center;}#sk-container-id-1 div.sk-container {/* jupyter's `normalize.less` sets `[hidden] { display: none; }` but bootstrap.min.css set `[hidden] { display: none !important; }` so we also need the `!important` here to be able to override the default hidden behavior on the sphinx rendered scikit-learn.org. See: https://github.com/scikit-learn/scikit-learn/issues/21755 */display: inline-block !important;position: relative;}#sk-container-id-1 div.sk-text-repr-fallback {display: none;}</style><div id=\"sk-container-id-1\" class=\"sk-top-container\"><div class=\"sk-text-repr-fallback\"><pre>LinearRegression()</pre><b>In a Jupyter environment, please rerun this cell to show the HTML representation or trust the notebook. <br />On GitHub, the HTML representation is unable to render, please try loading this page with nbviewer.org.</b></div><div class=\"sk-container\" hidden><div class=\"sk-item\"><div class=\"sk-estimator sk-toggleable\"><input class=\"sk-toggleable__control sk-hidden--visually\" id=\"sk-estimator-id-1\" type=\"checkbox\" checked><label for=\"sk-estimator-id-1\" class=\"sk-toggleable__label sk-toggleable__label-arrow\">LinearRegression</label><div class=\"sk-toggleable__content\"><pre>LinearRegression()</pre></div></div></div></div></div>"
      ],
      "text/plain": [
       "LinearRegression()"
      ]
     },
     "execution_count": 19,
     "metadata": {},
     "output_type": "execute_result"
    }
   ],
   "source": [
    "from sklearn.linear_model import LinearRegression\n",
    "lr = LinearRegression()\n",
    "lr.fit(X_train, y_train)"
   ]
  },
  {
   "cell_type": "raw",
   "id": "b209db1c",
   "metadata": {
    "papermill": {
     "duration": 0.020353,
     "end_time": "2024-08-15T20:50:44.043980",
     "exception": false,
     "start_time": "2024-08-15T20:50:44.023627",
     "status": "completed"
    },
    "tags": []
   },
   "source": [
    "There is no need to assign lr.fit(X_train, y_train) to a variable as the fitting is done on the instance itself. Also here we will be only fitting the training set because the test set we will be used to validate the model.\n",
    "Our test set has 10 observations and for each observation, we have to predict the salary. So the input for predict method will be the year of experience of the test set and we have to compare the predicted salary with its real salary."
   ]
  },
  {
   "cell_type": "markdown",
   "id": "700a9204",
   "metadata": {
    "papermill": {
     "duration": 0.021041,
     "end_time": "2024-08-15T20:50:44.086156",
     "exception": false,
     "start_time": "2024-08-15T20:50:44.065115",
     "status": "completed"
    },
    "tags": []
   },
   "source": [
    "# Predict"
   ]
  },
  {
   "cell_type": "code",
   "execution_count": 20,
   "id": "2208194b",
   "metadata": {
    "execution": {
     "iopub.execute_input": "2024-08-15T20:50:44.130499Z",
     "iopub.status.busy": "2024-08-15T20:50:44.130128Z",
     "iopub.status.idle": "2024-08-15T20:50:44.135624Z",
     "shell.execute_reply": "2024-08-15T20:50:44.134449Z"
    },
    "papermill": {
     "duration": 0.030581,
     "end_time": "2024-08-15T20:50:44.138164",
     "exception": false,
     "start_time": "2024-08-15T20:50:44.107583",
     "status": "completed"
    },
    "tags": []
   },
   "outputs": [],
   "source": [
    "#Prediciting Y from Linear regression Model\n",
    "y_pred = lr.predict(X_test)"
   ]
  },
  {
   "cell_type": "markdown",
   "id": "71ce3909",
   "metadata": {
    "papermill": {
     "duration": 0.020473,
     "end_time": "2024-08-15T20:50:44.179409",
     "exception": false,
     "start_time": "2024-08-15T20:50:44.158936",
     "status": "completed"
    },
    "tags": []
   },
   "source": [
    "Traning data is visualized with X_train and y_train, the red mark indicates the data point and the blue line indicates the regression line or best fit line."
   ]
  },
  {
   "cell_type": "markdown",
   "id": "9f610322",
   "metadata": {
    "papermill": {
     "duration": 0.020235,
     "end_time": "2024-08-15T20:50:44.220350",
     "exception": false,
     "start_time": "2024-08-15T20:50:44.200115",
     "status": "completed"
    },
    "tags": []
   },
   "source": [
    "# ScatterPlot"
   ]
  },
  {
   "cell_type": "code",
   "execution_count": 21,
   "id": "b96c63fd",
   "metadata": {
    "execution": {
     "iopub.execute_input": "2024-08-15T20:50:44.264329Z",
     "iopub.status.busy": "2024-08-15T20:50:44.263318Z",
     "iopub.status.idle": "2024-08-15T20:50:44.280400Z",
     "shell.execute_reply": "2024-08-15T20:50:44.279312Z"
    },
    "papermill": {
     "duration": 0.041768,
     "end_time": "2024-08-15T20:50:44.283110",
     "exception": false,
     "start_time": "2024-08-15T20:50:44.241342",
     "status": "completed"
    },
    "tags": []
   },
   "outputs": [
    {
     "data": {
      "text/html": [
       "<div>                            <div id=\"cb38bb86-5b2d-4c8c-abe8-c2d73cbfb67f\" class=\"plotly-graph-div\" style=\"height:525px; width:100%;\"></div>            <script type=\"text/javascript\">                require([\"plotly\"], function(Plotly) {                    window.PLOTLYENV=window.PLOTLYENV || {};                                    if (document.getElementById(\"cb38bb86-5b2d-4c8c-abe8-c2d73cbfb67f\")) {                    Plotly.newPlot(                        \"cb38bb86-5b2d-4c8c-abe8-c2d73cbfb67f\",                        [{\"mode\":\"markers\",\"name\":\"train\",\"x\":[2.9,9.6,4.0,2.2,3.9,5.1,10.3,9.0,5.3,1.5,3.2,9.5,8.7,5.9,4.0,7.9,10.5,4.1,4.9,3.2],\"y\":[56642.0,112635.0,56957.0,39891.0,63218.0,66029.0,122391.0,105582.0,83088.0,37731.0,54445.0,116969.0,109431.0,81363.0,55794.0,101302.0,121872.0,57081.0,67938.0,64445.0],\"type\":\"scatter\"},{\"mode\":\"markers\",\"name\":\"test\",\"x\":[1.3,1.1,4.5,3.7,7.1,6.0,8.2,3.0,2.0,6.8],\"y\":[46205.0,39343.0,61111.0,57189.0,98273.0,93940.0,113812.0,60150.0,43525.0,91738.0],\"type\":\"scatter\"},{\"name\":\"prediction\",\"x\":[1.1,1.194949494949495,1.2898989898989899,1.384848484848485,1.47979797979798,1.5747474747474748,1.66969696969697,1.7646464646464648,1.8595959595959597,1.9545454545454546,2.0494949494949495,2.144444444444445,2.2393939393939393,2.3343434343434346,2.4292929292929295,2.5242424242424244,2.6191919191919193,2.714141414141414,2.809090909090909,2.904040404040404,2.9989898989898993,3.0939393939393938,3.188888888888889,3.283838383838384,3.378787878787879,3.473737373737374,3.5686868686868687,3.6636363636363636,3.758585858585859,3.853535353535354,3.9484848484848487,4.043434343434344,4.138383838383838,4.233333333333333,4.328282828282829,4.423232323232323,4.518181818181818,4.613131313131314,4.708080808080808,4.803030303030303,4.897979797979798,4.992929292929293,5.087878787878788,5.182828282828282,5.277777777777779,5.372727272727273,5.4676767676767675,5.562626262626262,5.657575757575758,5.752525252525253,5.847474747474747,5.942424242424243,6.037373737373738,6.132323232323232,6.227272727272727,6.322222222222223,6.417171717171717,6.512121212121212,6.607070707070708,6.702020202020202,6.796969696969697,6.891919191919191,6.986868686868688,7.081818181818182,7.1767676767676765,7.271717171717173,7.366666666666667,7.461616161616162,7.556565656565656,7.651515151515152,7.746464646464647,7.841414141414141,7.936363636363636,8.031313131313132,8.126262626262626,8.22121212121212,8.316161616161617,8.411111111111111,8.506060606060606,8.6010101010101,8.695959595959597,8.790909090909091,8.885858585858585,8.980808080808082,9.075757575757576,9.17070707070707,9.265656565656565,9.36060606060606,9.455555555555556,9.55050505050505,9.645454545454545,9.74040404040404,9.835353535353535,9.93030303030303,10.025252525252524,10.12020202020202,10.215151515151515,10.31010101010101,10.405050505050506,10.5],\"y\":[34172.05273296563,35075.30205502318,35978.55137708073,36881.800699138286,37785.050021195835,38688.299343253384,39591.54866531094,40494.79798736849,41398.04730942604,42301.296631483594,43204.545953541136,44107.79527559869,45011.04459765624,45914.2939197138,46817.543241771345,47720.7925638289,48624.04188588644,49527.291207944,50430.54053000155,51333.7898520591,52237.03917411665,53140.288496174195,54043.53781823175,54946.78714028931,55850.036462346856,56753.285784404405,57656.53510646195,58559.78442851951,59463.03375057706,60366.283072634615,61269.53239469216,62172.78171674971,63076.03103880726,63979.28036086482,64882.529682922366,65785.77900497991,66689.02832703746,67592.27764909502,68495.52697115258,69398.77629321012,70302.02561526767,71205.27493732523,72108.52425938277,73011.77358144033,73915.02290349788,74818.27222555543,75721.52154761297,76624.77086967052,77528.02019172808,78431.26951378564,79334.51883584318,80237.76815790075,81141.01747995829,82044.26680201583,82947.51612407339,83850.76544613094,84754.0147681885,85657.26409024603,86560.5134123036,87463.76273436114,88367.0120564187,89270.26137847624,90173.5107005338,91076.76002259135,91980.00934464889,92883.25866670646,93786.507988764,94689.75731082154,95593.0066328791,96496.25595493666,97399.5052769942,98302.75459905175,99206.0039211093,100109.25324316687,101012.50256522441,101915.75188728195,102819.00120933952,103722.25053139706,104625.4998534546,105528.74917551216,106431.99849756972,107335.24781962727,108238.49714168481,109141.74646374237,110044.99578579993,110948.24510785747,111851.49442991501,112754.74375197256,113657.99307403012,114561.24239608766,115464.49171814522,116367.74104020277,117270.99036226033,118174.23968431787,119077.48900637541,119980.73832843298,120883.98765049053,121787.23697254807,122690.48629460564,123593.73561666318],\"type\":\"scatter\"}],                        {\"template\":{\"data\":{\"histogram2dcontour\":[{\"type\":\"histogram2dcontour\",\"colorbar\":{\"outlinewidth\":0,\"ticks\":\"\"},\"colorscale\":[[0.0,\"#0d0887\"],[0.1111111111111111,\"#46039f\"],[0.2222222222222222,\"#7201a8\"],[0.3333333333333333,\"#9c179e\"],[0.4444444444444444,\"#bd3786\"],[0.5555555555555556,\"#d8576b\"],[0.6666666666666666,\"#ed7953\"],[0.7777777777777778,\"#fb9f3a\"],[0.8888888888888888,\"#fdca26\"],[1.0,\"#f0f921\"]]}],\"choropleth\":[{\"type\":\"choropleth\",\"colorbar\":{\"outlinewidth\":0,\"ticks\":\"\"}}],\"histogram2d\":[{\"type\":\"histogram2d\",\"colorbar\":{\"outlinewidth\":0,\"ticks\":\"\"},\"colorscale\":[[0.0,\"#0d0887\"],[0.1111111111111111,\"#46039f\"],[0.2222222222222222,\"#7201a8\"],[0.3333333333333333,\"#9c179e\"],[0.4444444444444444,\"#bd3786\"],[0.5555555555555556,\"#d8576b\"],[0.6666666666666666,\"#ed7953\"],[0.7777777777777778,\"#fb9f3a\"],[0.8888888888888888,\"#fdca26\"],[1.0,\"#f0f921\"]]}],\"heatmap\":[{\"type\":\"heatmap\",\"colorbar\":{\"outlinewidth\":0,\"ticks\":\"\"},\"colorscale\":[[0.0,\"#0d0887\"],[0.1111111111111111,\"#46039f\"],[0.2222222222222222,\"#7201a8\"],[0.3333333333333333,\"#9c179e\"],[0.4444444444444444,\"#bd3786\"],[0.5555555555555556,\"#d8576b\"],[0.6666666666666666,\"#ed7953\"],[0.7777777777777778,\"#fb9f3a\"],[0.8888888888888888,\"#fdca26\"],[1.0,\"#f0f921\"]]}],\"heatmapgl\":[{\"type\":\"heatmapgl\",\"colorbar\":{\"outlinewidth\":0,\"ticks\":\"\"},\"colorscale\":[[0.0,\"#0d0887\"],[0.1111111111111111,\"#46039f\"],[0.2222222222222222,\"#7201a8\"],[0.3333333333333333,\"#9c179e\"],[0.4444444444444444,\"#bd3786\"],[0.5555555555555556,\"#d8576b\"],[0.6666666666666666,\"#ed7953\"],[0.7777777777777778,\"#fb9f3a\"],[0.8888888888888888,\"#fdca26\"],[1.0,\"#f0f921\"]]}],\"contourcarpet\":[{\"type\":\"contourcarpet\",\"colorbar\":{\"outlinewidth\":0,\"ticks\":\"\"}}],\"contour\":[{\"type\":\"contour\",\"colorbar\":{\"outlinewidth\":0,\"ticks\":\"\"},\"colorscale\":[[0.0,\"#0d0887\"],[0.1111111111111111,\"#46039f\"],[0.2222222222222222,\"#7201a8\"],[0.3333333333333333,\"#9c179e\"],[0.4444444444444444,\"#bd3786\"],[0.5555555555555556,\"#d8576b\"],[0.6666666666666666,\"#ed7953\"],[0.7777777777777778,\"#fb9f3a\"],[0.8888888888888888,\"#fdca26\"],[1.0,\"#f0f921\"]]}],\"surface\":[{\"type\":\"surface\",\"colorbar\":{\"outlinewidth\":0,\"ticks\":\"\"},\"colorscale\":[[0.0,\"#0d0887\"],[0.1111111111111111,\"#46039f\"],[0.2222222222222222,\"#7201a8\"],[0.3333333333333333,\"#9c179e\"],[0.4444444444444444,\"#bd3786\"],[0.5555555555555556,\"#d8576b\"],[0.6666666666666666,\"#ed7953\"],[0.7777777777777778,\"#fb9f3a\"],[0.8888888888888888,\"#fdca26\"],[1.0,\"#f0f921\"]]}],\"mesh3d\":[{\"type\":\"mesh3d\",\"colorbar\":{\"outlinewidth\":0,\"ticks\":\"\"}}],\"scatter\":[{\"fillpattern\":{\"fillmode\":\"overlay\",\"size\":10,\"solidity\":0.2},\"type\":\"scatter\"}],\"parcoords\":[{\"type\":\"parcoords\",\"line\":{\"colorbar\":{\"outlinewidth\":0,\"ticks\":\"\"}}}],\"scatterpolargl\":[{\"type\":\"scatterpolargl\",\"marker\":{\"colorbar\":{\"outlinewidth\":0,\"ticks\":\"\"}}}],\"bar\":[{\"error_x\":{\"color\":\"#2a3f5f\"},\"error_y\":{\"color\":\"#2a3f5f\"},\"marker\":{\"line\":{\"color\":\"#E5ECF6\",\"width\":0.5},\"pattern\":{\"fillmode\":\"overlay\",\"size\":10,\"solidity\":0.2}},\"type\":\"bar\"}],\"scattergeo\":[{\"type\":\"scattergeo\",\"marker\":{\"colorbar\":{\"outlinewidth\":0,\"ticks\":\"\"}}}],\"scatterpolar\":[{\"type\":\"scatterpolar\",\"marker\":{\"colorbar\":{\"outlinewidth\":0,\"ticks\":\"\"}}}],\"histogram\":[{\"marker\":{\"pattern\":{\"fillmode\":\"overlay\",\"size\":10,\"solidity\":0.2}},\"type\":\"histogram\"}],\"scattergl\":[{\"type\":\"scattergl\",\"marker\":{\"colorbar\":{\"outlinewidth\":0,\"ticks\":\"\"}}}],\"scatter3d\":[{\"type\":\"scatter3d\",\"line\":{\"colorbar\":{\"outlinewidth\":0,\"ticks\":\"\"}},\"marker\":{\"colorbar\":{\"outlinewidth\":0,\"ticks\":\"\"}}}],\"scattermapbox\":[{\"type\":\"scattermapbox\",\"marker\":{\"colorbar\":{\"outlinewidth\":0,\"ticks\":\"\"}}}],\"scatterternary\":[{\"type\":\"scatterternary\",\"marker\":{\"colorbar\":{\"outlinewidth\":0,\"ticks\":\"\"}}}],\"scattercarpet\":[{\"type\":\"scattercarpet\",\"marker\":{\"colorbar\":{\"outlinewidth\":0,\"ticks\":\"\"}}}],\"carpet\":[{\"aaxis\":{\"endlinecolor\":\"#2a3f5f\",\"gridcolor\":\"white\",\"linecolor\":\"white\",\"minorgridcolor\":\"white\",\"startlinecolor\":\"#2a3f5f\"},\"baxis\":{\"endlinecolor\":\"#2a3f5f\",\"gridcolor\":\"white\",\"linecolor\":\"white\",\"minorgridcolor\":\"white\",\"startlinecolor\":\"#2a3f5f\"},\"type\":\"carpet\"}],\"table\":[{\"cells\":{\"fill\":{\"color\":\"#EBF0F8\"},\"line\":{\"color\":\"white\"}},\"header\":{\"fill\":{\"color\":\"#C8D4E3\"},\"line\":{\"color\":\"white\"}},\"type\":\"table\"}],\"barpolar\":[{\"marker\":{\"line\":{\"color\":\"#E5ECF6\",\"width\":0.5},\"pattern\":{\"fillmode\":\"overlay\",\"size\":10,\"solidity\":0.2}},\"type\":\"barpolar\"}],\"pie\":[{\"automargin\":true,\"type\":\"pie\"}]},\"layout\":{\"autotypenumbers\":\"strict\",\"colorway\":[\"#636efa\",\"#EF553B\",\"#00cc96\",\"#ab63fa\",\"#FFA15A\",\"#19d3f3\",\"#FF6692\",\"#B6E880\",\"#FF97FF\",\"#FECB52\"],\"font\":{\"color\":\"#2a3f5f\"},\"hovermode\":\"closest\",\"hoverlabel\":{\"align\":\"left\"},\"paper_bgcolor\":\"white\",\"plot_bgcolor\":\"#E5ECF6\",\"polar\":{\"bgcolor\":\"#E5ECF6\",\"angularaxis\":{\"gridcolor\":\"white\",\"linecolor\":\"white\",\"ticks\":\"\"},\"radialaxis\":{\"gridcolor\":\"white\",\"linecolor\":\"white\",\"ticks\":\"\"}},\"ternary\":{\"bgcolor\":\"#E5ECF6\",\"aaxis\":{\"gridcolor\":\"white\",\"linecolor\":\"white\",\"ticks\":\"\"},\"baxis\":{\"gridcolor\":\"white\",\"linecolor\":\"white\",\"ticks\":\"\"},\"caxis\":{\"gridcolor\":\"white\",\"linecolor\":\"white\",\"ticks\":\"\"}},\"coloraxis\":{\"colorbar\":{\"outlinewidth\":0,\"ticks\":\"\"}},\"colorscale\":{\"sequential\":[[0.0,\"#0d0887\"],[0.1111111111111111,\"#46039f\"],[0.2222222222222222,\"#7201a8\"],[0.3333333333333333,\"#9c179e\"],[0.4444444444444444,\"#bd3786\"],[0.5555555555555556,\"#d8576b\"],[0.6666666666666666,\"#ed7953\"],[0.7777777777777778,\"#fb9f3a\"],[0.8888888888888888,\"#fdca26\"],[1.0,\"#f0f921\"]],\"sequentialminus\":[[0.0,\"#0d0887\"],[0.1111111111111111,\"#46039f\"],[0.2222222222222222,\"#7201a8\"],[0.3333333333333333,\"#9c179e\"],[0.4444444444444444,\"#bd3786\"],[0.5555555555555556,\"#d8576b\"],[0.6666666666666666,\"#ed7953\"],[0.7777777777777778,\"#fb9f3a\"],[0.8888888888888888,\"#fdca26\"],[1.0,\"#f0f921\"]],\"diverging\":[[0,\"#8e0152\"],[0.1,\"#c51b7d\"],[0.2,\"#de77ae\"],[0.3,\"#f1b6da\"],[0.4,\"#fde0ef\"],[0.5,\"#f7f7f7\"],[0.6,\"#e6f5d0\"],[0.7,\"#b8e186\"],[0.8,\"#7fbc41\"],[0.9,\"#4d9221\"],[1,\"#276419\"]]},\"xaxis\":{\"gridcolor\":\"white\",\"linecolor\":\"white\",\"ticks\":\"\",\"title\":{\"standoff\":15},\"zerolinecolor\":\"white\",\"automargin\":true,\"zerolinewidth\":2},\"yaxis\":{\"gridcolor\":\"white\",\"linecolor\":\"white\",\"ticks\":\"\",\"title\":{\"standoff\":15},\"zerolinecolor\":\"white\",\"automargin\":true,\"zerolinewidth\":2},\"scene\":{\"xaxis\":{\"backgroundcolor\":\"#E5ECF6\",\"gridcolor\":\"white\",\"linecolor\":\"white\",\"showbackground\":true,\"ticks\":\"\",\"zerolinecolor\":\"white\",\"gridwidth\":2},\"yaxis\":{\"backgroundcolor\":\"#E5ECF6\",\"gridcolor\":\"white\",\"linecolor\":\"white\",\"showbackground\":true,\"ticks\":\"\",\"zerolinecolor\":\"white\",\"gridwidth\":2},\"zaxis\":{\"backgroundcolor\":\"#E5ECF6\",\"gridcolor\":\"white\",\"linecolor\":\"white\",\"showbackground\":true,\"ticks\":\"\",\"zerolinecolor\":\"white\",\"gridwidth\":2}},\"shapedefaults\":{\"line\":{\"color\":\"#2a3f5f\"}},\"annotationdefaults\":{\"arrowcolor\":\"#2a3f5f\",\"arrowhead\":0,\"arrowwidth\":1},\"geo\":{\"bgcolor\":\"white\",\"landcolor\":\"#E5ECF6\",\"subunitcolor\":\"white\",\"showland\":true,\"showlakes\":true,\"lakecolor\":\"white\"},\"title\":{\"x\":0.05},\"mapbox\":{\"style\":\"light\"}}}},                        {\"responsive\": true}                    ).then(function(){\n",
       "                            \n",
       "var gd = document.getElementById('cb38bb86-5b2d-4c8c-abe8-c2d73cbfb67f');\n",
       "var x = new MutationObserver(function (mutations, observer) {{\n",
       "        var display = window.getComputedStyle(gd).display;\n",
       "        if (!display || display === 'none') {{\n",
       "            console.log([gd, 'removed!']);\n",
       "            Plotly.purge(gd);\n",
       "            observer.disconnect();\n",
       "        }}\n",
       "}});\n",
       "\n",
       "// Listen for the removal of the full notebook cells\n",
       "var notebookContainer = gd.closest('#notebook-container');\n",
       "if (notebookContainer) {{\n",
       "    x.observe(notebookContainer, {childList: true});\n",
       "}}\n",
       "\n",
       "// Listen for the clearing of the current output cell\n",
       "var outputEl = gd.closest('.output');\n",
       "if (outputEl) {{\n",
       "    x.observe(outputEl, {childList: true});\n",
       "}}\n",
       "\n",
       "                        })                };                });            </script>        </div>"
      ]
     },
     "metadata": {},
     "output_type": "display_data"
    }
   ],
   "source": [
    "x_range = np.linspace(X.min(), X.max(), 100)\n",
    "y_range = lr.predict(x_range.reshape(-1, 1))\n",
    "\n",
    "fig = go.Figure([\n",
    "        go.Scatter(x=X_train.squeeze(), y=y_train, \n",
    "                   name='train', mode='markers'),\n",
    "        go.Scatter(x=X_test.squeeze(), y=y_test, \n",
    "                   name='test', mode='markers'),\n",
    "        go.Scatter(x=x_range, y=y_range, \n",
    "                   name='prediction')\n",
    "    ])\n",
    "\n",
    "fig.show()"
   ]
  },
  {
   "cell_type": "markdown",
   "id": "b1f9fa3e",
   "metadata": {
    "papermill": {
     "duration": 0.020777,
     "end_time": "2024-08-15T20:50:44.325112",
     "exception": false,
     "start_time": "2024-08-15T20:50:44.304335",
     "status": "completed"
    },
    "tags": []
   },
   "source": [
    "# Coefficient and Intercept "
   ]
  },
  {
   "cell_type": "markdown",
   "id": "e3418145",
   "metadata": {
    "papermill": {
     "duration": 0.020847,
     "end_time": "2024-08-15T20:50:44.366996",
     "exception": false,
     "start_time": "2024-08-15T20:50:44.346149",
     "status": "completed"
    },
    "tags": []
   },
   "source": [
    "To find the linear regression equation, coefficient and intercept are to be calculated which can be done with the below equation."
   ]
  },
  {
   "cell_type": "code",
   "execution_count": 22,
   "id": "9749e796",
   "metadata": {
    "execution": {
     "iopub.execute_input": "2024-08-15T20:50:44.411310Z",
     "iopub.status.busy": "2024-08-15T20:50:44.410911Z",
     "iopub.status.idle": "2024-08-15T20:50:44.415982Z",
     "shell.execute_reply": "2024-08-15T20:50:44.414769Z"
    },
    "papermill": {
     "duration": 0.03038,
     "end_time": "2024-08-15T20:50:44.418871",
     "exception": false,
     "start_time": "2024-08-15T20:50:44.388491",
     "status": "completed"
    },
    "tags": []
   },
   "outputs": [],
   "source": [
    "#Assigning Coefficient (slope) to b\n",
    "b = lr.coef_"
   ]
  },
  {
   "cell_type": "code",
   "execution_count": 23,
   "id": "0a98b707",
   "metadata": {
    "execution": {
     "iopub.execute_input": "2024-08-15T20:50:44.463429Z",
     "iopub.status.busy": "2024-08-15T20:50:44.463053Z",
     "iopub.status.idle": "2024-08-15T20:50:44.468987Z",
     "shell.execute_reply": "2024-08-15T20:50:44.467877Z"
    },
    "papermill": {
     "duration": 0.031,
     "end_time": "2024-08-15T20:50:44.471576",
     "exception": false,
     "start_time": "2024-08-15T20:50:44.440576",
     "status": "completed"
    },
    "tags": []
   },
   "outputs": [
    {
     "name": "stdout",
     "output_type": "stream",
     "text": [
      "Coefficient  : [9512.94498763]\n"
     ]
    }
   ],
   "source": [
    "print(\"Coefficient  :\" , b)"
   ]
  },
  {
   "cell_type": "code",
   "execution_count": 24,
   "id": "c6c6a33c",
   "metadata": {
    "execution": {
     "iopub.execute_input": "2024-08-15T20:50:44.515472Z",
     "iopub.status.busy": "2024-08-15T20:50:44.515039Z",
     "iopub.status.idle": "2024-08-15T20:50:44.520059Z",
     "shell.execute_reply": "2024-08-15T20:50:44.519000Z"
    },
    "papermill": {
     "duration": 0.030097,
     "end_time": "2024-08-15T20:50:44.522631",
     "exception": false,
     "start_time": "2024-08-15T20:50:44.492534",
     "status": "completed"
    },
    "tags": []
   },
   "outputs": [],
   "source": [
    "#Assigning Y-intercept to a\n",
    "a = lr.intercept_"
   ]
  },
  {
   "cell_type": "code",
   "execution_count": 25,
   "id": "284ccf9e",
   "metadata": {
    "execution": {
     "iopub.execute_input": "2024-08-15T20:50:44.567306Z",
     "iopub.status.busy": "2024-08-15T20:50:44.566899Z",
     "iopub.status.idle": "2024-08-15T20:50:44.573028Z",
     "shell.execute_reply": "2024-08-15T20:50:44.571892Z"
    },
    "papermill": {
     "duration": 0.032177,
     "end_time": "2024-08-15T20:50:44.575989",
     "exception": false,
     "start_time": "2024-08-15T20:50:44.543812",
     "status": "completed"
    },
    "tags": []
   },
   "outputs": [
    {
     "name": "stdout",
     "output_type": "stream",
     "text": [
      "Intercept :  23707.81324657549\n"
     ]
    }
   ],
   "source": [
    "print(\"Intercept : \", a)"
   ]
  },
  {
   "cell_type": "markdown",
   "id": "1cf3581d",
   "metadata": {
    "papermill": {
     "duration": 0.021054,
     "end_time": "2024-08-15T20:50:44.620594",
     "exception": false,
     "start_time": "2024-08-15T20:50:44.599540",
     "status": "completed"
    },
    "tags": []
   },
   "source": [
    "# Predicting Unknown Values"
   ]
  },
  {
   "cell_type": "markdown",
   "id": "c798a6a7",
   "metadata": {
    "papermill": {
     "duration": 0.020985,
     "end_time": "2024-08-15T20:50:44.662682",
     "exception": false,
     "start_time": "2024-08-15T20:50:44.641697",
     "status": "completed"
    },
    "tags": []
   },
   "source": [
    "For this model, the linear regression equation will be:\n",
    "\n",
    "Predicted Salary=Coefficient × (years of experience) + Intercept \n",
    "\n",
    "For Years of Experience 11, predicted salary can be calculated as:\n",
    "\n",
    "_ × (11) + _ = _\n",
    "\n",
    "y(11) can be predicted with the model as below.\n"
   ]
  },
  {
   "cell_type": "code",
   "execution_count": 26,
   "id": "aed60c5e",
   "metadata": {
    "execution": {
     "iopub.execute_input": "2024-08-15T20:50:44.707480Z",
     "iopub.status.busy": "2024-08-15T20:50:44.707094Z",
     "iopub.status.idle": "2024-08-15T20:50:44.713208Z",
     "shell.execute_reply": "2024-08-15T20:50:44.712082Z"
    },
    "papermill": {
     "duration": 0.031709,
     "end_time": "2024-08-15T20:50:44.716168",
     "exception": false,
     "start_time": "2024-08-15T20:50:44.684459",
     "status": "completed"
    },
    "tags": []
   },
   "outputs": [
    {
     "name": "stdout",
     "output_type": "stream",
     "text": [
      "[128350.20811048]\n"
     ]
    }
   ],
   "source": [
    "# y_pred=9426.03876907×(years of experience)+25324.33537924433\n",
    "#y_predict(11)\n",
    "print(lr.predict([[11]]))"
   ]
  },
  {
   "attachments": {
    "image.png": {
     "image/png": "[encoded data removed]"
    }
   },
   "cell_type": "markdown",
   "id": "500f07f9",
   "metadata": {
    "papermill": {
     "duration": 0.021051,
     "end_time": "2024-08-15T20:50:44.758655",
     "exception": false,
     "start_time": "2024-08-15T20:50:44.737604",
     "status": "completed"
    },
    "tags": []
   },
   "source": [
    "Mean Squared Error (MSE) is one of the regression evaluation metrics. It is calculated as the average squared difference between the predicted values and the real value. The mathematical equation for MSE is as:\n",
    "![image.png](attachment:image.png)"
   ]
  },
  {
   "cell_type": "markdown",
   "id": "99107ba4",
   "metadata": {
    "papermill": {
     "duration": 0.020948,
     "end_time": "2024-08-15T20:50:44.800937",
     "exception": false,
     "start_time": "2024-08-15T20:50:44.779989",
     "status": "completed"
    },
    "tags": []
   },
   "source": [
    "MSE can be calculated from the metrics module of Scikit-learn library."
   ]
  },
  {
   "cell_type": "markdown",
   "id": "a7bcbf96",
   "metadata": {
    "papermill": {
     "duration": 0.021838,
     "end_time": "2024-08-15T20:50:44.844366",
     "exception": false,
     "start_time": "2024-08-15T20:50:44.822528",
     "status": "completed"
    },
    "tags": []
   },
   "source": [
    "# Evaluation"
   ]
  },
  {
   "cell_type": "code",
   "execution_count": 27,
   "id": "e77cdc0f",
   "metadata": {
    "execution": {
     "iopub.execute_input": "2024-08-15T20:50:44.889437Z",
     "iopub.status.busy": "2024-08-15T20:50:44.888987Z",
     "iopub.status.idle": "2024-08-15T20:50:44.894022Z",
     "shell.execute_reply": "2024-08-15T20:50:44.892892Z"
    },
    "papermill": {
     "duration": 0.030973,
     "end_time": "2024-08-15T20:50:44.896644",
     "exception": false,
     "start_time": "2024-08-15T20:50:44.865671",
     "status": "completed"
    },
    "tags": []
   },
   "outputs": [],
   "source": [
    "#Mean Squared Error (MSE)\n",
    "from sklearn import metrics"
   ]
  },
  {
   "cell_type": "code",
   "execution_count": 28,
   "id": "c330ae9e",
   "metadata": {
    "execution": {
     "iopub.execute_input": "2024-08-15T20:50:44.941984Z",
     "iopub.status.busy": "2024-08-15T20:50:44.941115Z",
     "iopub.status.idle": "2024-08-15T20:50:44.947720Z",
     "shell.execute_reply": "2024-08-15T20:50:44.946558Z"
    },
    "papermill": {
     "duration": 0.031796,
     "end_time": "2024-08-15T20:50:44.950391",
     "exception": false,
     "start_time": "2024-08-15T20:50:44.918595",
     "status": "completed"
    },
    "tags": []
   },
   "outputs": [
    {
     "name": "stdout",
     "output_type": "stream",
     "text": [
      "Mean Squared Error (MSE)  :  60451409.832681164\n"
     ]
    }
   ],
   "source": [
    "print('Mean Squared Error (MSE)  : ', metrics.mean_squared_error(y_test, y_pred))"
   ]
  },
  {
   "cell_type": "code",
   "execution_count": 29,
   "id": "ae12656c",
   "metadata": {
    "execution": {
     "iopub.execute_input": "2024-08-15T20:50:44.994796Z",
     "iopub.status.busy": "2024-08-15T20:50:44.994412Z",
     "iopub.status.idle": "2024-08-15T20:50:46.661559Z",
     "shell.execute_reply": "2024-08-15T20:50:46.660362Z"
    },
    "papermill": {
     "duration": 1.69293,
     "end_time": "2024-08-15T20:50:46.664641",
     "exception": false,
     "start_time": "2024-08-15T20:50:44.971711",
     "status": "completed"
    },
    "tags": []
   },
   "outputs": [],
   "source": [
    "import statsmodels.api as sm"
   ]
  },
  {
   "cell_type": "markdown",
   "id": "e1e3209c",
   "metadata": {
    "papermill": {
     "duration": 0.021555,
     "end_time": "2024-08-15T20:50:46.708114",
     "exception": false,
     "start_time": "2024-08-15T20:50:46.686559",
     "status": "completed"
    },
    "tags": []
   },
   "source": [
    "Ordinary Least-Squares (OLS) estimator module can be called from statsmodels.api to get regression summary."
   ]
  },
  {
   "cell_type": "code",
   "execution_count": 30,
   "id": "4f7dc052",
   "metadata": {
    "execution": {
     "iopub.execute_input": "2024-08-15T20:50:46.754999Z",
     "iopub.status.busy": "2024-08-15T20:50:46.753680Z",
     "iopub.status.idle": "2024-08-15T20:50:46.806071Z",
     "shell.execute_reply": "2024-08-15T20:50:46.804861Z"
    },
    "papermill": {
     "duration": 0.07814,
     "end_time": "2024-08-15T20:50:46.808947",
     "exception": false,
     "start_time": "2024-08-15T20:50:46.730807",
     "status": "completed"
    },
    "tags": []
   },
   "outputs": [
    {
     "data": {
      "text/html": [
       "<table class=\"simpletable\">\n",
       "<caption>OLS Regression Results</caption>\n",
       "<tr>\n",
       "  <th>Dep. Variable:</th>            <td>y</td>        <th>  R-squared:         </th> <td>   0.972</td>\n",
       "</tr>\n",
       "<tr>\n",
       "  <th>Model:</th>                   <td>OLS</td>       <th>  Adj. R-squared:    </th> <td>   0.970</td>\n",
       "</tr>\n",
       "<tr>\n",
       "  <th>Method:</th>             <td>Least Squares</td>  <th>  F-statistic:       </th> <td>   616.8</td>\n",
       "</tr>\n",
       "<tr>\n",
       "  <th>Date:</th>             <td>Thu, 15 Aug 2024</td> <th>  Prob (F-statistic):</th> <td>2.23e-15</td>\n",
       "</tr>\n",
       "<tr>\n",
       "  <th>Time:</th>                 <td>20:50:46</td>     <th>  Log-Likelihood:    </th> <td> -197.13</td>\n",
       "</tr>\n",
       "<tr>\n",
       "  <th>No. Observations:</th>      <td>    20</td>      <th>  AIC:               </th> <td>   398.3</td>\n",
       "</tr>\n",
       "<tr>\n",
       "  <th>Df Residuals:</th>          <td>    18</td>      <th>  BIC:               </th> <td>   400.3</td>\n",
       "</tr>\n",
       "<tr>\n",
       "  <th>Df Model:</th>              <td>     1</td>      <th>                     </th>     <td> </td>   \n",
       "</tr>\n",
       "<tr>\n",
       "  <th>Covariance Type:</th>      <td>nonrobust</td>    <th>                     </th>     <td> </td>   \n",
       "</tr>\n",
       "</table>\n",
       "<table class=\"simpletable\">\n",
       "<tr>\n",
       "    <td></td>       <th>coef</th>     <th>std err</th>      <th>t</th>      <th>P>|t|</th>  <th>[0.025</th>    <th>0.975]</th>  \n",
       "</tr>\n",
       "<tr>\n",
       "  <th>const</th> <td> 2.371e+04</td> <td> 2468.760</td> <td>    9.603</td> <td> 0.000</td> <td> 1.85e+04</td> <td> 2.89e+04</td>\n",
       "</tr>\n",
       "<tr>\n",
       "  <th>x1</th>    <td> 9512.9450</td> <td>  383.048</td> <td>   24.835</td> <td> 0.000</td> <td> 8708.190</td> <td> 1.03e+04</td>\n",
       "</tr>\n",
       "</table>\n",
       "<table class=\"simpletable\">\n",
       "<tr>\n",
       "  <th>Omnibus:</th>       <td> 1.535</td> <th>  Durbin-Watson:     </th> <td>   1.980</td>\n",
       "</tr>\n",
       "<tr>\n",
       "  <th>Prob(Omnibus):</th> <td> 0.464</td> <th>  Jarque-Bera (JB):  </th> <td>   1.193</td>\n",
       "</tr>\n",
       "<tr>\n",
       "  <th>Skew:</th>          <td> 0.567</td> <th>  Prob(JB):          </th> <td>   0.551</td>\n",
       "</tr>\n",
       "<tr>\n",
       "  <th>Kurtosis:</th>      <td> 2.616</td> <th>  Cond. No.          </th> <td>    14.9</td>\n",
       "</tr>\n",
       "</table><br/><br/>Notes:<br/>[1] Standard Errors assume that the covariance matrix of the errors is correctly specified."
      ],
      "text/latex": [
       "\\begin{center}\n",
       "\\begin{tabular}{lclc}\n",
       "\\toprule\n",
       "\\textbf{Dep. Variable:}    &        y         & \\textbf{  R-squared:         } &     0.972   \\\\\n",
       "\\textbf{Model:}            &       OLS        & \\textbf{  Adj. R-squared:    } &     0.970   \\\\\n",
       "\\textbf{Method:}           &  Least Squares   & \\textbf{  F-statistic:       } &     616.8   \\\\\n",
       "\\textbf{Date:}             & Thu, 15 Aug 2024 & \\textbf{  Prob (F-statistic):} &  2.23e-15   \\\\\n",
       "\\textbf{Time:}             &     20:50:46     & \\textbf{  Log-Likelihood:    } &   -197.13   \\\\\n",
       "\\textbf{No. Observations:} &          20      & \\textbf{  AIC:               } &     398.3   \\\\\n",
       "\\textbf{Df Residuals:}     &          18      & \\textbf{  BIC:               } &     400.3   \\\\\n",
       "\\textbf{Df Model:}         &           1      & \\textbf{                     } &             \\\\\n",
       "\\textbf{Covariance Type:}  &    nonrobust     & \\textbf{                     } &             \\\\\n",
       "\\bottomrule\n",
       "\\end{tabular}\n",
       "\\begin{tabular}{lcccccc}\n",
       "               & \\textbf{coef} & \\textbf{std err} & \\textbf{t} & \\textbf{P$> |$t$|$} & \\textbf{[0.025} & \\textbf{0.975]}  \\\\\n",
       "\\midrule\n",
       "\\textbf{const} &    2.371e+04  &     2468.760     &     9.603  &         0.000        &     1.85e+04    &     2.89e+04     \\\\\n",
       "\\textbf{x1}    &    9512.9450  &      383.048     &    24.835  &         0.000        &     8708.190    &     1.03e+04     \\\\\n",
       "\\bottomrule\n",
       "\\end{tabular}\n",
       "\\begin{tabular}{lclc}\n",
       "\\textbf{Omnibus:}       &  1.535 & \\textbf{  Durbin-Watson:     } &    1.980  \\\\\n",
       "\\textbf{Prob(Omnibus):} &  0.464 & \\textbf{  Jarque-Bera (JB):  } &    1.193  \\\\\n",
       "\\textbf{Skew:}          &  0.567 & \\textbf{  Prob(JB):          } &    0.551  \\\\\n",
       "\\textbf{Kurtosis:}      &  2.616 & \\textbf{  Cond. No.          } &     14.9  \\\\\n",
       "\\bottomrule\n",
       "\\end{tabular}\n",
       "%\\caption{OLS Regression Results}\n",
       "\\end{center}\n",
       "\n",
       "Notes: \\newline\n",
       " [1] Standard Errors assume that the covariance matrix of the errors is correctly specified."
      ],
      "text/plain": [
       "<class 'statsmodels.iolib.summary.Summary'>\n",
       "\"\"\"\n",
       "                            OLS Regression Results                            \n",
       "==============================================================================\n",
       "Dep. Variable:                      y   R-squared:                       0.972\n",
       "Model:                            OLS   Adj. R-squared:                  0.970\n",
       "Method:                 Least Squares   F-statistic:                     616.8\n",
       "Date:                Thu, 15 Aug 2024   Prob (F-statistic):           2.23e-15\n",
       "Time:                        20:50:46   Log-Likelihood:                -197.13\n",
       "No. Observations:                  20   AIC:                             398.3\n",
       "Df Residuals:                      18   BIC:                             400.3\n",
       "Df Model:                           1                                         \n",
       "Covariance Type:            nonrobust                                         \n",
       "==============================================================================\n",
       "                 coef    std err          t      P>|t|      [0.025      0.975]\n",
       "------------------------------------------------------------------------------\n",
       "const       2.371e+04   2468.760      9.603      0.000    1.85e+04    2.89e+04\n",
       "x1          9512.9450    383.048     24.835      0.000    8708.190    1.03e+04\n",
       "==============================================================================\n",
       "Omnibus:                        1.535   Durbin-Watson:                   1.980\n",
       "Prob(Omnibus):                  0.464   Jarque-Bera (JB):                1.193\n",
       "Skew:                           0.567   Prob(JB):                        0.551\n",
       "Kurtosis:                       2.616   Cond. No.                         14.9\n",
       "==============================================================================\n",
       "\n",
       "Notes:\n",
       "[1] Standard Errors assume that the covariance matrix of the errors is correctly specified.\n",
       "\"\"\""
      ]
     },
     "execution_count": 30,
     "metadata": {},
     "output_type": "execute_result"
    }
   ],
   "source": [
    "X_stat = sm.add_constant(X_train)\n",
    "regsummary = sm.OLS(y_train, X_stat).fit()\n",
    "regsummary.summary()"
   ]
  },
  {
   "cell_type": "markdown",
   "id": "c60ee41b",
   "metadata": {
    "papermill": {
     "duration": 0.022955,
     "end_time": "2024-08-15T20:50:46.854721",
     "exception": false,
     "start_time": "2024-08-15T20:50:46.831766",
     "status": "completed"
    },
    "tags": []
   },
   "source": [
    "R-Square or Adj-R-Square value can be obtained as below."
   ]
  },
  {
   "cell_type": "code",
   "execution_count": 31,
   "id": "ce422de4",
   "metadata": {
    "execution": {
     "iopub.execute_input": "2024-08-15T20:50:46.903229Z",
     "iopub.status.busy": "2024-08-15T20:50:46.902777Z",
     "iopub.status.idle": "2024-08-15T20:50:46.909610Z",
     "shell.execute_reply": "2024-08-15T20:50:46.908171Z"
    },
    "papermill": {
     "duration": 0.034829,
     "end_time": "2024-08-15T20:50:46.912429",
     "exception": false,
     "start_time": "2024-08-15T20:50:46.877600",
     "status": "completed"
    },
    "tags": []
   },
   "outputs": [
    {
     "name": "stdout",
     "output_type": "stream",
     "text": [
      "Adjusted R-Square :  0.9700678765774073\n",
      "R-Square :  0.9716432514943859\n"
     ]
    }
   ],
   "source": [
    "print(\"Adjusted R-Square : \",regsummary.rsquared_adj)\n",
    "print(\"R-Square : \",regsummary.rsquared)"
   ]
  },
  {
   "cell_type": "markdown",
   "id": "64aa5192",
   "metadata": {
    "papermill": {
     "duration": 0.02265,
     "end_time": "2024-08-15T20:50:46.958357",
     "exception": false,
     "start_time": "2024-08-15T20:50:46.935707",
     "status": "completed"
    },
    "tags": []
   },
   "source": [
    "If only interested to find the R-Square value, r2_score can be imported from the metrics module of the Scikit-learn library."
   ]
  },
  {
   "cell_type": "code",
   "execution_count": 32,
   "id": "88e52cf2",
   "metadata": {
    "execution": {
     "iopub.execute_input": "2024-08-15T20:50:47.004741Z",
     "iopub.status.busy": "2024-08-15T20:50:47.004302Z",
     "iopub.status.idle": "2024-08-15T20:50:47.009447Z",
     "shell.execute_reply": "2024-08-15T20:50:47.008398Z"
    },
    "papermill": {
     "duration": 0.031678,
     "end_time": "2024-08-15T20:50:47.012013",
     "exception": false,
     "start_time": "2024-08-15T20:50:46.980335",
     "status": "completed"
    },
    "tags": []
   },
   "outputs": [],
   "source": [
    "from sklearn.metrics import r2_score"
   ]
  },
  {
   "cell_type": "code",
   "execution_count": 33,
   "id": "ad88d7dc",
   "metadata": {
    "execution": {
     "iopub.execute_input": "2024-08-15T20:50:47.058338Z",
     "iopub.status.busy": "2024-08-15T20:50:47.057969Z",
     "iopub.status.idle": "2024-08-15T20:50:47.066469Z",
     "shell.execute_reply": "2024-08-15T20:50:47.065232Z"
    },
    "papermill": {
     "duration": 0.034525,
     "end_time": "2024-08-15T20:50:47.068977",
     "exception": false,
     "start_time": "2024-08-15T20:50:47.034452",
     "status": "completed"
    },
    "tags": []
   },
   "outputs": [
    {
     "data": {
      "text/plain": [
       "0.9716432514943859"
      ]
     },
     "execution_count": 33,
     "metadata": {},
     "output_type": "execute_result"
    }
   ],
   "source": [
    "r2_score(y_train, lr.predict(X_train))"
   ]
  }
 ],
 "metadata": {
  "kaggle": {
   "accelerator": "none",
   "dataSources": [
    {
     "datasetId": 5549628,
     "sourceId": 9181678,
     "sourceType": "datasetVersion"
    }
   ],
   "dockerImageVersionId": 30746,
   "isGpuEnabled": false,
   "isInternetEnabled": true,
   "language": "python",
   "sourceType": "notebook"
  },
  "kernelspec": {
   "display_name": "Python 3",
   "language": "python",
   "name": "python3"
  },
  "language_info": {
   "codemirror_mode": {
    "name": "ipython",
    "version": 3
   },
   "file_extension": ".py",
   "mimetype": "text/x-python",
   "name": "python",
   "nbconvert_exporter": "python",
   "pygments_lexer": "ipython3",
   "version": "3.10.13"
  },
  "papermill": {
   "default_parameters": {},
   "duration": 15.065034,
   "end_time": "2024-08-15T20:50:47.915689",
   "environment_variables": {},
   "exception": null,
   "input_path": "__notebook__.ipynb",
   "output_path": "__notebook__.ipynb",
   "parameters": {},
   "start_time": "2024-08-15T20:50:32.850655",
   "version": "2.2.2"
  }
 },
 "nbformat": 4,
 "nbformat_minor": 5
}
