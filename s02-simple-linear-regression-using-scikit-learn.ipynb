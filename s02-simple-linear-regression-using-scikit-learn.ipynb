{
 "cells": [
  {
   "cell_type": "markdown",
   "id": "72087c11",
   "metadata": {
    "papermill": {
     "duration": 0.012911,
     "end_time": "2024-08-29T18:41:22.482100",
     "exception": false,
     "start_time": "2024-08-29T18:41:22.469189",
     "status": "completed"
    },
    "tags": []
   },
   "source": [
    "### Linear Regression Implementation using Scikit learn"
   ]
  },
  {
   "cell_type": "markdown",
   "id": "25420ff2",
   "metadata": {
    "papermill": {
     "duration": 0.012658,
     "end_time": "2024-08-29T18:41:22.507231",
     "exception": false,
     "start_time": "2024-08-29T18:41:22.494573",
     "status": "completed"
    },
    "tags": []
   },
   "source": [
    "Regression analysis is the most widely used method of prediction. Linear regression is used when the dataset has a linear correlation and as the name suggests, simple linear regression has one independent variable (predictor) and one dependent variable(response).\n",
    "\n",
    "The simple linear regression equation is represented as y = a+bx where x is the explanatory variable, y is the dependent variable, b is coefficient and a is the intercept.\n",
    "\n",
    "For regression analysis, first we have to import libraries."
   ]
  },
  {
   "cell_type": "code",
   "execution_count": 1,
   "id": "502334c6",
   "metadata": {
    "execution": {
     "iopub.execute_input": "2024-08-29T18:41:22.536001Z",
     "iopub.status.busy": "2024-08-29T18:41:22.535502Z",
     "iopub.status.idle": "2024-08-29T18:41:25.978082Z",
     "shell.execute_reply": "2024-08-29T18:41:25.976885Z"
    },
    "papermill": {
     "duration": 3.460552,
     "end_time": "2024-08-29T18:41:25.980759",
     "exception": false,
     "start_time": "2024-08-29T18:41:22.520207",
     "status": "completed"
    },
    "tags": []
   },
   "outputs": [],
   "source": [
    "#Importing libraries\n",
    "import numpy as np\n",
    "import pandas as pd\n",
    "import matplotlib.pyplot as plt\n",
    "import seaborn as sns\n",
    "%matplotlib inline\n",
    "\n",
    "import plotly.express as px\n",
    "import plotly.graph_objs as go\n",
    "from plotly.offline import iplot"
   ]
  },
  {
   "cell_type": "markdown",
   "id": "129a2498",
   "metadata": {
    "papermill": {
     "duration": 0.012393,
     "end_time": "2024-08-29T18:41:26.006843",
     "exception": false,
     "start_time": "2024-08-29T18:41:25.994450",
     "status": "completed"
    },
    "tags": []
   },
   "source": [
    "After importing libraries, the dataset is to be imported. "
   ]
  },
  {
   "cell_type": "code",
   "execution_count": 2,
   "id": "3ecebd4b",
   "metadata": {
    "execution": {
     "iopub.execute_input": "2024-08-29T18:41:26.034038Z",
     "iopub.status.busy": "2024-08-29T18:41:26.033470Z",
     "iopub.status.idle": "2024-08-29T18:41:26.059690Z",
     "shell.execute_reply": "2024-08-29T18:41:26.058575Z"
    },
    "papermill": {
     "duration": 0.042455,
     "end_time": "2024-08-29T18:41:26.062301",
     "exception": false,
     "start_time": "2024-08-29T18:41:26.019846",
     "status": "completed"
    },
    "tags": []
   },
   "outputs": [],
   "source": [
    "#Importing dataset\n",
    "dataset = pd.read_csv('/kaggle/input/employee-salary-dataset/Salary_Data.csv.xls')"
   ]
  },
  {
   "cell_type": "markdown",
   "id": "7918e167",
   "metadata": {
    "papermill": {
     "duration": 0.012191,
     "end_time": "2024-08-29T18:41:26.087536",
     "exception": false,
     "start_time": "2024-08-29T18:41:26.075345",
     "status": "completed"
    },
    "tags": []
   },
   "source": [
    "To see the first five rows of the dataset we can use dataset.head()."
   ]
  },
  {
   "cell_type": "markdown",
   "id": "7f8a86a3",
   "metadata": {
    "papermill": {
     "duration": 0.011982,
     "end_time": "2024-08-29T18:41:26.112526",
     "exception": false,
     "start_time": "2024-08-29T18:41:26.100544",
     "status": "completed"
    },
    "tags": []
   },
   "source": [
    "# Data Analysis"
   ]
  },
  {
   "cell_type": "code",
   "execution_count": 3,
   "id": "2ea8d73d",
   "metadata": {
    "execution": {
     "iopub.execute_input": "2024-08-29T18:41:26.139429Z",
     "iopub.status.busy": "2024-08-29T18:41:26.139054Z",
     "iopub.status.idle": "2024-08-29T18:41:26.277924Z",
     "shell.execute_reply": "2024-08-29T18:41:26.276647Z"
    },
    "papermill": {
     "duration": 0.156646,
     "end_time": "2024-08-29T18:41:26.281978",
     "exception": false,
     "start_time": "2024-08-29T18:41:26.125332",
     "status": "completed"
    },
    "tags": []
   },
   "outputs": [
    {
     "data": {
      "text/html": [
       "<style type=\"text/css\">\n",
       "#T_ffad1_row0_col0, #T_ffad1_row2_col1 {\n",
       "  background-color: #fff7fb;\n",
       "  color: #000000;\n",
       "}\n",
       "#T_ffad1_row0_col1 {\n",
       "  background-color: #dedcec;\n",
       "  color: #000000;\n",
       "}\n",
       "#T_ffad1_row1_col0 {\n",
       "  background-color: #e0dded;\n",
       "  color: #000000;\n",
       "}\n",
       "#T_ffad1_row1_col1, #T_ffad1_row4_col0 {\n",
       "  background-color: #023858;\n",
       "  color: #f1f1f1;\n",
       "}\n",
       "#T_ffad1_row2_col0 {\n",
       "  background-color: #a9bfdc;\n",
       "  color: #000000;\n",
       "}\n",
       "#T_ffad1_row3_col0 {\n",
       "  background-color: #04649d;\n",
       "  color: #f1f1f1;\n",
       "}\n",
       "#T_ffad1_row3_col1 {\n",
       "  background-color: #1e80b8;\n",
       "  color: #f1f1f1;\n",
       "}\n",
       "#T_ffad1_row4_col1 {\n",
       "  background-color: #ced0e6;\n",
       "  color: #000000;\n",
       "}\n",
       "</style>\n",
       "<table id=\"T_ffad1\">\n",
       "  <thead>\n",
       "    <tr>\n",
       "      <th class=\"blank level0\" >&nbsp;</th>\n",
       "      <th id=\"T_ffad1_level0_col0\" class=\"col_heading level0 col0\" >YearsExperience</th>\n",
       "      <th id=\"T_ffad1_level0_col1\" class=\"col_heading level0 col1\" >Salary</th>\n",
       "    </tr>\n",
       "  </thead>\n",
       "  <tbody>\n",
       "    <tr>\n",
       "      <th id=\"T_ffad1_level0_row0\" class=\"row_heading level0 row0\" >0</th>\n",
       "      <td id=\"T_ffad1_row0_col0\" class=\"data row0 col0\" >1.100000</td>\n",
       "      <td id=\"T_ffad1_row0_col1\" class=\"data row0 col1\" >39343.000000</td>\n",
       "    </tr>\n",
       "    <tr>\n",
       "      <th id=\"T_ffad1_level0_row1\" class=\"row_heading level0 row1\" >1</th>\n",
       "      <td id=\"T_ffad1_row1_col0\" class=\"data row1 col0\" >1.300000</td>\n",
       "      <td id=\"T_ffad1_row1_col1\" class=\"data row1 col1\" >46205.000000</td>\n",
       "    </tr>\n",
       "    <tr>\n",
       "      <th id=\"T_ffad1_level0_row2\" class=\"row_heading level0 row2\" >2</th>\n",
       "      <td id=\"T_ffad1_row2_col0\" class=\"data row2 col0\" >1.500000</td>\n",
       "      <td id=\"T_ffad1_row2_col1\" class=\"data row2 col1\" >37731.000000</td>\n",
       "    </tr>\n",
       "    <tr>\n",
       "      <th id=\"T_ffad1_level0_row3\" class=\"row_heading level0 row3\" >3</th>\n",
       "      <td id=\"T_ffad1_row3_col0\" class=\"data row3 col0\" >2.000000</td>\n",
       "      <td id=\"T_ffad1_row3_col1\" class=\"data row3 col1\" >43525.000000</td>\n",
       "    </tr>\n",
       "    <tr>\n",
       "      <th id=\"T_ffad1_level0_row4\" class=\"row_heading level0 row4\" >4</th>\n",
       "      <td id=\"T_ffad1_row4_col0\" class=\"data row4 col0\" >2.200000</td>\n",
       "      <td id=\"T_ffad1_row4_col1\" class=\"data row4 col1\" >39891.000000</td>\n",
       "    </tr>\n",
       "  </tbody>\n",
       "</table>\n"
      ],
      "text/plain": [
       "<pandas.io.formats.style.Styler at 0x7dbff55658d0>"
      ]
     },
     "execution_count": 3,
     "metadata": {},
     "output_type": "execute_result"
    }
   ],
   "source": [
    "#To see first 5 rows of the dataset\n",
    "dataset.head().style.background_gradient()"
   ]
  },
  {
   "cell_type": "code",
   "execution_count": 4,
   "id": "9d77b09f",
   "metadata": {
    "execution": {
     "iopub.execute_input": "2024-08-29T18:41:26.317461Z",
     "iopub.status.busy": "2024-08-29T18:41:26.316874Z",
     "iopub.status.idle": "2024-08-29T18:41:26.341647Z",
     "shell.execute_reply": "2024-08-29T18:41:26.340201Z"
    },
    "papermill": {
     "duration": 0.046761,
     "end_time": "2024-08-29T18:41:26.345041",
     "exception": false,
     "start_time": "2024-08-29T18:41:26.298280",
     "status": "completed"
    },
    "tags": []
   },
   "outputs": [
    {
     "name": "stdout",
     "output_type": "stream",
     "text": [
      "<class 'pandas.core.frame.DataFrame'>\n",
      "RangeIndex: 30 entries, 0 to 29\n",
      "Data columns (total 2 columns):\n",
      " #   Column           Non-Null Count  Dtype  \n",
      "---  ------           --------------  -----  \n",
      " 0   YearsExperience  30 non-null     float64\n",
      " 1   Salary           30 non-null     float64\n",
      "dtypes: float64(2)\n",
      "memory usage: 608.0 bytes\n"
     ]
    }
   ],
   "source": [
    "# To see information of dataset\n",
    "dataset.info()"
   ]
  },
  {
   "cell_type": "markdown",
   "id": "c28d6aa7",
   "metadata": {
    "papermill": {
     "duration": 0.014152,
     "end_time": "2024-08-29T18:41:26.373511",
     "exception": false,
     "start_time": "2024-08-29T18:41:26.359359",
     "status": "completed"
    },
    "tags": []
   },
   "source": [
    "Both are numerical column"
   ]
  },
  {
   "cell_type": "code",
   "execution_count": 5,
   "id": "5a553e0e",
   "metadata": {
    "execution": {
     "iopub.execute_input": "2024-08-29T18:41:26.401417Z",
     "iopub.status.busy": "2024-08-29T18:41:26.401031Z",
     "iopub.status.idle": "2024-08-29T18:41:26.410173Z",
     "shell.execute_reply": "2024-08-29T18:41:26.408723Z"
    },
    "papermill": {
     "duration": 0.026285,
     "end_time": "2024-08-29T18:41:26.412755",
     "exception": false,
     "start_time": "2024-08-29T18:41:26.386470",
     "status": "completed"
    },
    "tags": []
   },
   "outputs": [
    {
     "data": {
      "text/plain": [
       "0"
      ]
     },
     "execution_count": 5,
     "metadata": {},
     "output_type": "execute_result"
    }
   ],
   "source": [
    "dataset.isnull().sum().sum()"
   ]
  },
  {
   "cell_type": "markdown",
   "id": "c8119373",
   "metadata": {
    "papermill": {
     "duration": 0.012801,
     "end_time": "2024-08-29T18:41:26.438644",
     "exception": false,
     "start_time": "2024-08-29T18:41:26.425843",
     "status": "completed"
    },
    "tags": []
   },
   "source": [
    "There is no null value in dataset"
   ]
  },
  {
   "cell_type": "markdown",
   "id": "ee950b56",
   "metadata": {
    "papermill": {
     "duration": 0.012581,
     "end_time": "2024-08-29T18:41:26.464337",
     "exception": false,
     "start_time": "2024-08-29T18:41:26.451756",
     "status": "completed"
    },
    "tags": []
   },
   "source": [
    "Statistical analysis of the dataset like no: of observation, mean, standard deviation and interquartile value can be done using the dataset. describe()."
   ]
  },
  {
   "cell_type": "code",
   "execution_count": 6,
   "id": "09980b0b",
   "metadata": {
    "execution": {
     "iopub.execute_input": "2024-08-29T18:41:26.494215Z",
     "iopub.status.busy": "2024-08-29T18:41:26.493804Z",
     "iopub.status.idle": "2024-08-29T18:41:26.516807Z",
     "shell.execute_reply": "2024-08-29T18:41:26.515616Z"
    },
    "papermill": {
     "duration": 0.042198,
     "end_time": "2024-08-29T18:41:26.519494",
     "exception": false,
     "start_time": "2024-08-29T18:41:26.477296",
     "status": "completed"
    },
    "tags": []
   },
   "outputs": [
    {
     "data": {
      "text/html": [
       "<style type=\"text/css\">\n",
       "#T_d0012_row0_col0, #T_d0012_row7_col1 {\n",
       "  background-color: #023858;\n",
       "  color: #f1f1f1;\n",
       "}\n",
       "#T_d0012_row0_col1, #T_d0012_row3_col0 {\n",
       "  background-color: #fff7fb;\n",
       "  color: #000000;\n",
       "}\n",
       "#T_d0012_row1_col0 {\n",
       "  background-color: #e7e3f0;\n",
       "  color: #000000;\n",
       "}\n",
       "#T_d0012_row1_col1 {\n",
       "  background-color: #3991c1;\n",
       "  color: #f1f1f1;\n",
       "}\n",
       "#T_d0012_row2_col0 {\n",
       "  background-color: #f6eff7;\n",
       "  color: #000000;\n",
       "}\n",
       "#T_d0012_row2_col1 {\n",
       "  background-color: #d6d6e9;\n",
       "  color: #000000;\n",
       "}\n",
       "#T_d0012_row3_col1 {\n",
       "  background-color: #bdc8e1;\n",
       "  color: #000000;\n",
       "}\n",
       "#T_d0012_row4_col0 {\n",
       "  background-color: #f4eef6;\n",
       "  color: #000000;\n",
       "}\n",
       "#T_d0012_row4_col1 {\n",
       "  background-color: #83afd3;\n",
       "  color: #f1f1f1;\n",
       "}\n",
       "#T_d0012_row5_col0 {\n",
       "  background-color: #ede7f2;\n",
       "  color: #000000;\n",
       "}\n",
       "#T_d0012_row5_col1 {\n",
       "  background-color: #63a2cb;\n",
       "  color: #f1f1f1;\n",
       "}\n",
       "#T_d0012_row6_col0 {\n",
       "  background-color: #d5d5e8;\n",
       "  color: #000000;\n",
       "}\n",
       "#T_d0012_row6_col1 {\n",
       "  background-color: #04639b;\n",
       "  color: #f1f1f1;\n",
       "}\n",
       "#T_d0012_row7_col0 {\n",
       "  background-color: #b7c5df;\n",
       "  color: #000000;\n",
       "}\n",
       "</style>\n",
       "<table id=\"T_d0012\">\n",
       "  <thead>\n",
       "    <tr>\n",
       "      <th class=\"blank level0\" >&nbsp;</th>\n",
       "      <th id=\"T_d0012_level0_col0\" class=\"col_heading level0 col0\" >YearsExperience</th>\n",
       "      <th id=\"T_d0012_level0_col1\" class=\"col_heading level0 col1\" >Salary</th>\n",
       "    </tr>\n",
       "  </thead>\n",
       "  <tbody>\n",
       "    <tr>\n",
       "      <th id=\"T_d0012_level0_row0\" class=\"row_heading level0 row0\" >count</th>\n",
       "      <td id=\"T_d0012_row0_col0\" class=\"data row0 col0\" >30.000000</td>\n",
       "      <td id=\"T_d0012_row0_col1\" class=\"data row0 col1\" >30.000000</td>\n",
       "    </tr>\n",
       "    <tr>\n",
       "      <th id=\"T_d0012_level0_row1\" class=\"row_heading level0 row1\" >mean</th>\n",
       "      <td id=\"T_d0012_row1_col0\" class=\"data row1 col0\" >5.313333</td>\n",
       "      <td id=\"T_d0012_row1_col1\" class=\"data row1 col1\" >76003.000000</td>\n",
       "    </tr>\n",
       "    <tr>\n",
       "      <th id=\"T_d0012_level0_row2\" class=\"row_heading level0 row2\" >std</th>\n",
       "      <td id=\"T_d0012_row2_col0\" class=\"data row2 col0\" >2.837888</td>\n",
       "      <td id=\"T_d0012_row2_col1\" class=\"data row2 col1\" >27414.429785</td>\n",
       "    </tr>\n",
       "    <tr>\n",
       "      <th id=\"T_d0012_level0_row3\" class=\"row_heading level0 row3\" >min</th>\n",
       "      <td id=\"T_d0012_row3_col0\" class=\"data row3 col0\" >1.100000</td>\n",
       "      <td id=\"T_d0012_row3_col1\" class=\"data row3 col1\" >37731.000000</td>\n",
       "    </tr>\n",
       "    <tr>\n",
       "      <th id=\"T_d0012_level0_row4\" class=\"row_heading level0 row4\" >25%</th>\n",
       "      <td id=\"T_d0012_row4_col0\" class=\"data row4 col0\" >3.200000</td>\n",
       "      <td id=\"T_d0012_row4_col1\" class=\"data row4 col1\" >56720.750000</td>\n",
       "    </tr>\n",
       "    <tr>\n",
       "      <th id=\"T_d0012_level0_row5\" class=\"row_heading level0 row5\" >50%</th>\n",
       "      <td id=\"T_d0012_row5_col0\" class=\"data row5 col0\" >4.700000</td>\n",
       "      <td id=\"T_d0012_row5_col1\" class=\"data row5 col1\" >65237.000000</td>\n",
       "    </tr>\n",
       "    <tr>\n",
       "      <th id=\"T_d0012_level0_row6\" class=\"row_heading level0 row6\" >75%</th>\n",
       "      <td id=\"T_d0012_row6_col0\" class=\"data row6 col0\" >7.700000</td>\n",
       "      <td id=\"T_d0012_row6_col1\" class=\"data row6 col1\" >100544.750000</td>\n",
       "    </tr>\n",
       "    <tr>\n",
       "      <th id=\"T_d0012_level0_row7\" class=\"row_heading level0 row7\" >max</th>\n",
       "      <td id=\"T_d0012_row7_col0\" class=\"data row7 col0\" >10.500000</td>\n",
       "      <td id=\"T_d0012_row7_col1\" class=\"data row7 col1\" >122391.000000</td>\n",
       "    </tr>\n",
       "  </tbody>\n",
       "</table>\n"
      ],
      "text/plain": [
       "<pandas.io.formats.style.Styler at 0x7dbff5567f40>"
      ]
     },
     "execution_count": 6,
     "metadata": {},
     "output_type": "execute_result"
    }
   ],
   "source": [
    "#Statistical Analysis\n",
    "dataset.describe().style.background_gradient()"
   ]
  },
  {
   "cell_type": "markdown",
   "id": "c14797e0",
   "metadata": {
    "papermill": {
     "duration": 0.01419,
     "end_time": "2024-08-29T18:41:26.546966",
     "exception": false,
     "start_time": "2024-08-29T18:41:26.532776",
     "status": "completed"
    },
    "tags": []
   },
   "source": [
    "The relationship between variables can be seen by using sns.pairplot(). For multiple linear regression, it will be very useful, as it shows each feature's relationship with the response."
   ]
  },
  {
   "cell_type": "markdown",
   "id": "ded12c64",
   "metadata": {
    "papermill": {
     "duration": 0.014749,
     "end_time": "2024-08-29T18:41:26.575108",
     "exception": false,
     "start_time": "2024-08-29T18:41:26.560359",
     "status": "completed"
    },
    "tags": []
   },
   "source": [
    "# Heat Map"
   ]
  },
  {
   "cell_type": "code",
   "execution_count": 7,
   "id": "4f29eb90",
   "metadata": {
    "execution": {
     "iopub.execute_input": "2024-08-29T18:41:26.605597Z",
     "iopub.status.busy": "2024-08-29T18:41:26.605234Z",
     "iopub.status.idle": "2024-08-29T18:41:28.707859Z",
     "shell.execute_reply": "2024-08-29T18:41:28.706728Z"
    },
    "papermill": {
     "duration": 2.121586,
     "end_time": "2024-08-29T18:41:28.711016",
     "exception": false,
     "start_time": "2024-08-29T18:41:26.589430",
     "status": "completed"
    },
    "tags": []
   },
   "outputs": [
    {
     "data": {
      "text/html": [
       "        <script type=\"text/javascript\">\n",
       "        window.PlotlyConfig = {MathJaxConfig: 'local'};\n",
       "        if (window.MathJax && window.MathJax.Hub && window.MathJax.Hub.Config) {window.MathJax.Hub.Config({SVG: {font: \"STIX-Web\"}});}\n",
       "        if (typeof require !== 'undefined') {\n",
       "        require.undef(\"plotly\");\n",
       "        requirejs.config({\n",
       "            paths: {\n",
       "                'plotly': ['https://cdn.plot.ly/plotly-2.27.0.min']\n",
       "            }\n",
       "        });\n",
       "        require(['plotly'], function(Plotly) {\n",
       "            window._Plotly = Plotly;\n",
       "        });\n",
       "        }\n",
       "        </script>\n",
       "        "
      ]
     },
     "metadata": {},
     "output_type": "display_data"
    },
    {
     "data": {
      "text/html": [
       "<div>                            <div id=\"78d6e2bf-19ca-4c20-be73-dceaf6d0bd09\" class=\"plotly-graph-div\" style=\"height:525px; width:100%;\"></div>            <script type=\"text/javascript\">                require([\"plotly\"], function(Plotly) {                    window.PLOTLYENV=window.PLOTLYENV || {};                                    if (document.getElementById(\"78d6e2bf-19ca-4c20-be73-dceaf6d0bd09\")) {                    Plotly.newPlot(                        \"78d6e2bf-19ca-4c20-be73-dceaf6d0bd09\",                        [{\"coloraxis\":\"coloraxis\",\"name\":\"0\",\"x\":[\"YearsExperience\",\"Salary\"],\"y\":[\"YearsExperience\",\"Salary\"],\"z\":[[1.0,0.97824161848876],[0.97824161848876,1.0]],\"type\":\"heatmap\",\"xaxis\":\"x\",\"yaxis\":\"y\",\"hovertemplate\":\"x: %{x}\\u003cbr\\u003ey: %{y}\\u003cbr\\u003ecolor: %{z}\\u003cextra\\u003e\\u003c\\u002fextra\\u003e\"}],                        {\"template\":{\"data\":{\"histogram2dcontour\":[{\"type\":\"histogram2dcontour\",\"colorbar\":{\"outlinewidth\":0,\"ticks\":\"\"},\"colorscale\":[[0.0,\"#0d0887\"],[0.1111111111111111,\"#46039f\"],[0.2222222222222222,\"#7201a8\"],[0.3333333333333333,\"#9c179e\"],[0.4444444444444444,\"#bd3786\"],[0.5555555555555556,\"#d8576b\"],[0.6666666666666666,\"#ed7953\"],[0.7777777777777778,\"#fb9f3a\"],[0.8888888888888888,\"#fdca26\"],[1.0,\"#f0f921\"]]}],\"choropleth\":[{\"type\":\"choropleth\",\"colorbar\":{\"outlinewidth\":0,\"ticks\":\"\"}}],\"histogram2d\":[{\"type\":\"histogram2d\",\"colorbar\":{\"outlinewidth\":0,\"ticks\":\"\"},\"colorscale\":[[0.0,\"#0d0887\"],[0.1111111111111111,\"#46039f\"],[0.2222222222222222,\"#7201a8\"],[0.3333333333333333,\"#9c179e\"],[0.4444444444444444,\"#bd3786\"],[0.5555555555555556,\"#d8576b\"],[0.6666666666666666,\"#ed7953\"],[0.7777777777777778,\"#fb9f3a\"],[0.8888888888888888,\"#fdca26\"],[1.0,\"#f0f921\"]]}],\"heatmap\":[{\"type\":\"heatmap\",\"colorbar\":{\"outlinewidth\":0,\"ticks\":\"\"},\"colorscale\":[[0.0,\"#0d0887\"],[0.1111111111111111,\"#46039f\"],[0.2222222222222222,\"#7201a8\"],[0.3333333333333333,\"#9c179e\"],[0.4444444444444444,\"#bd3786\"],[0.5555555555555556,\"#d8576b\"],[0.6666666666666666,\"#ed7953\"],[0.7777777777777778,\"#fb9f3a\"],[0.8888888888888888,\"#fdca26\"],[1.0,\"#f0f921\"]]}],\"heatmapgl\":[{\"type\":\"heatmapgl\",\"colorbar\":{\"outlinewidth\":0,\"ticks\":\"\"},\"colorscale\":[[0.0,\"#0d0887\"],[0.1111111111111111,\"#46039f\"],[0.2222222222222222,\"#7201a8\"],[0.3333333333333333,\"#9c179e\"],[0.4444444444444444,\"#bd3786\"],[0.5555555555555556,\"#d8576b\"],[0.6666666666666666,\"#ed7953\"],[0.7777777777777778,\"#fb9f3a\"],[0.8888888888888888,\"#fdca26\"],[1.0,\"#f0f921\"]]}],\"contourcarpet\":[{\"type\":\"contourcarpet\",\"colorbar\":{\"outlinewidth\":0,\"ticks\":\"\"}}],\"contour\":[{\"type\":\"contour\",\"colorbar\":{\"outlinewidth\":0,\"ticks\":\"\"},\"colorscale\":[[0.0,\"#0d0887\"],[0.1111111111111111,\"#46039f\"],[0.2222222222222222,\"#7201a8\"],[0.3333333333333333,\"#9c179e\"],[0.4444444444444444,\"#bd3786\"],[0.5555555555555556,\"#d8576b\"],[0.6666666666666666,\"#ed7953\"],[0.7777777777777778,\"#fb9f3a\"],[0.8888888888888888,\"#fdca26\"],[1.0,\"#f0f921\"]]}],\"surface\":[{\"type\":\"surface\",\"colorbar\":{\"outlinewidth\":0,\"ticks\":\"\"},\"colorscale\":[[0.0,\"#0d0887\"],[0.1111111111111111,\"#46039f\"],[0.2222222222222222,\"#7201a8\"],[0.3333333333333333,\"#9c179e\"],[0.4444444444444444,\"#bd3786\"],[0.5555555555555556,\"#d8576b\"],[0.6666666666666666,\"#ed7953\"],[0.7777777777777778,\"#fb9f3a\"],[0.8888888888888888,\"#fdca26\"],[1.0,\"#f0f921\"]]}],\"mesh3d\":[{\"type\":\"mesh3d\",\"colorbar\":{\"outlinewidth\":0,\"ticks\":\"\"}}],\"scatter\":[{\"fillpattern\":{\"fillmode\":\"overlay\",\"size\":10,\"solidity\":0.2},\"type\":\"scatter\"}],\"parcoords\":[{\"type\":\"parcoords\",\"line\":{\"colorbar\":{\"outlinewidth\":0,\"ticks\":\"\"}}}],\"scatterpolargl\":[{\"type\":\"scatterpolargl\",\"marker\":{\"colorbar\":{\"outlinewidth\":0,\"ticks\":\"\"}}}],\"bar\":[{\"error_x\":{\"color\":\"#2a3f5f\"},\"error_y\":{\"color\":\"#2a3f5f\"},\"marker\":{\"line\":{\"color\":\"#E5ECF6\",\"width\":0.5},\"pattern\":{\"fillmode\":\"overlay\",\"size\":10,\"solidity\":0.2}},\"type\":\"bar\"}],\"scattergeo\":[{\"type\":\"scattergeo\",\"marker\":{\"colorbar\":{\"outlinewidth\":0,\"ticks\":\"\"}}}],\"scatterpolar\":[{\"type\":\"scatterpolar\",\"marker\":{\"colorbar\":{\"outlinewidth\":0,\"ticks\":\"\"}}}],\"histogram\":[{\"marker\":{\"pattern\":{\"fillmode\":\"overlay\",\"size\":10,\"solidity\":0.2}},\"type\":\"histogram\"}],\"scattergl\":[{\"type\":\"scattergl\",\"marker\":{\"colorbar\":{\"outlinewidth\":0,\"ticks\":\"\"}}}],\"scatter3d\":[{\"type\":\"scatter3d\",\"line\":{\"colorbar\":{\"outlinewidth\":0,\"ticks\":\"\"}},\"marker\":{\"colorbar\":{\"outlinewidth\":0,\"ticks\":\"\"}}}],\"scattermapbox\":[{\"type\":\"scattermapbox\",\"marker\":{\"colorbar\":{\"outlinewidth\":0,\"ticks\":\"\"}}}],\"scatterternary\":[{\"type\":\"scatterternary\",\"marker\":{\"colorbar\":{\"outlinewidth\":0,\"ticks\":\"\"}}}],\"scattercarpet\":[{\"type\":\"scattercarpet\",\"marker\":{\"colorbar\":{\"outlinewidth\":0,\"ticks\":\"\"}}}],\"carpet\":[{\"aaxis\":{\"endlinecolor\":\"#2a3f5f\",\"gridcolor\":\"white\",\"linecolor\":\"white\",\"minorgridcolor\":\"white\",\"startlinecolor\":\"#2a3f5f\"},\"baxis\":{\"endlinecolor\":\"#2a3f5f\",\"gridcolor\":\"white\",\"linecolor\":\"white\",\"minorgridcolor\":\"white\",\"startlinecolor\":\"#2a3f5f\"},\"type\":\"carpet\"}],\"table\":[{\"cells\":{\"fill\":{\"color\":\"#EBF0F8\"},\"line\":{\"color\":\"white\"}},\"header\":{\"fill\":{\"color\":\"#C8D4E3\"},\"line\":{\"color\":\"white\"}},\"type\":\"table\"}],\"barpolar\":[{\"marker\":{\"line\":{\"color\":\"#E5ECF6\",\"width\":0.5},\"pattern\":{\"fillmode\":\"overlay\",\"size\":10,\"solidity\":0.2}},\"type\":\"barpolar\"}],\"pie\":[{\"automargin\":true,\"type\":\"pie\"}]},\"layout\":{\"autotypenumbers\":\"strict\",\"colorway\":[\"#636efa\",\"#EF553B\",\"#00cc96\",\"#ab63fa\",\"#FFA15A\",\"#19d3f3\",\"#FF6692\",\"#B6E880\",\"#FF97FF\",\"#FECB52\"],\"font\":{\"color\":\"#2a3f5f\"},\"hovermode\":\"closest\",\"hoverlabel\":{\"align\":\"left\"},\"paper_bgcolor\":\"white\",\"plot_bgcolor\":\"#E5ECF6\",\"polar\":{\"bgcolor\":\"#E5ECF6\",\"angularaxis\":{\"gridcolor\":\"white\",\"linecolor\":\"white\",\"ticks\":\"\"},\"radialaxis\":{\"gridcolor\":\"white\",\"linecolor\":\"white\",\"ticks\":\"\"}},\"ternary\":{\"bgcolor\":\"#E5ECF6\",\"aaxis\":{\"gridcolor\":\"white\",\"linecolor\":\"white\",\"ticks\":\"\"},\"baxis\":{\"gridcolor\":\"white\",\"linecolor\":\"white\",\"ticks\":\"\"},\"caxis\":{\"gridcolor\":\"white\",\"linecolor\":\"white\",\"ticks\":\"\"}},\"coloraxis\":{\"colorbar\":{\"outlinewidth\":0,\"ticks\":\"\"}},\"colorscale\":{\"sequential\":[[0.0,\"#0d0887\"],[0.1111111111111111,\"#46039f\"],[0.2222222222222222,\"#7201a8\"],[0.3333333333333333,\"#9c179e\"],[0.4444444444444444,\"#bd3786\"],[0.5555555555555556,\"#d8576b\"],[0.6666666666666666,\"#ed7953\"],[0.7777777777777778,\"#fb9f3a\"],[0.8888888888888888,\"#fdca26\"],[1.0,\"#f0f921\"]],\"sequentialminus\":[[0.0,\"#0d0887\"],[0.1111111111111111,\"#46039f\"],[0.2222222222222222,\"#7201a8\"],[0.3333333333333333,\"#9c179e\"],[0.4444444444444444,\"#bd3786\"],[0.5555555555555556,\"#d8576b\"],[0.6666666666666666,\"#ed7953\"],[0.7777777777777778,\"#fb9f3a\"],[0.8888888888888888,\"#fdca26\"],[1.0,\"#f0f921\"]],\"diverging\":[[0,\"#8e0152\"],[0.1,\"#c51b7d\"],[0.2,\"#de77ae\"],[0.3,\"#f1b6da\"],[0.4,\"#fde0ef\"],[0.5,\"#f7f7f7\"],[0.6,\"#e6f5d0\"],[0.7,\"#b8e186\"],[0.8,\"#7fbc41\"],[0.9,\"#4d9221\"],[1,\"#276419\"]]},\"xaxis\":{\"gridcolor\":\"white\",\"linecolor\":\"white\",\"ticks\":\"\",\"title\":{\"standoff\":15},\"zerolinecolor\":\"white\",\"automargin\":true,\"zerolinewidth\":2},\"yaxis\":{\"gridcolor\":\"white\",\"linecolor\":\"white\",\"ticks\":\"\",\"title\":{\"standoff\":15},\"zerolinecolor\":\"white\",\"automargin\":true,\"zerolinewidth\":2},\"scene\":{\"xaxis\":{\"backgroundcolor\":\"#E5ECF6\",\"gridcolor\":\"white\",\"linecolor\":\"white\",\"showbackground\":true,\"ticks\":\"\",\"zerolinecolor\":\"white\",\"gridwidth\":2},\"yaxis\":{\"backgroundcolor\":\"#E5ECF6\",\"gridcolor\":\"white\",\"linecolor\":\"white\",\"showbackground\":true,\"ticks\":\"\",\"zerolinecolor\":\"white\",\"gridwidth\":2},\"zaxis\":{\"backgroundcolor\":\"#E5ECF6\",\"gridcolor\":\"white\",\"linecolor\":\"white\",\"showbackground\":true,\"ticks\":\"\",\"zerolinecolor\":\"white\",\"gridwidth\":2}},\"shapedefaults\":{\"line\":{\"color\":\"#2a3f5f\"}},\"annotationdefaults\":{\"arrowcolor\":\"#2a3f5f\",\"arrowhead\":0,\"arrowwidth\":1},\"geo\":{\"bgcolor\":\"white\",\"landcolor\":\"#E5ECF6\",\"subunitcolor\":\"white\",\"showland\":true,\"showlakes\":true,\"lakecolor\":\"white\"},\"title\":{\"x\":0.05},\"mapbox\":{\"style\":\"light\"}}},\"xaxis\":{\"anchor\":\"y\",\"domain\":[0.0,1.0],\"scaleanchor\":\"y\",\"constrain\":\"domain\"},\"yaxis\":{\"anchor\":\"x\",\"domain\":[0.0,1.0],\"autorange\":\"reversed\",\"constrain\":\"domain\"},\"coloraxis\":{\"colorscale\":[[0.0,\"#0d0887\"],[0.1111111111111111,\"#46039f\"],[0.2222222222222222,\"#7201a8\"],[0.3333333333333333,\"#9c179e\"],[0.4444444444444444,\"#bd3786\"],[0.5555555555555556,\"#d8576b\"],[0.6666666666666666,\"#ed7953\"],[0.7777777777777778,\"#fb9f3a\"],[0.8888888888888888,\"#fdca26\"],[1.0,\"#f0f921\"]]},\"margin\":{\"t\":60}},                        {\"responsive\": true}                    ).then(function(){\n",
       "                            \n",
       "var gd = document.getElementById('78d6e2bf-19ca-4c20-be73-dceaf6d0bd09');\n",
       "var x = new MutationObserver(function (mutations, observer) {{\n",
       "        var display = window.getComputedStyle(gd).display;\n",
       "        if (!display || display === 'none') {{\n",
       "            console.log([gd, 'removed!']);\n",
       "            Plotly.purge(gd);\n",
       "            observer.disconnect();\n",
       "        }}\n",
       "}});\n",
       "\n",
       "// Listen for the removal of the full notebook cells\n",
       "var notebookContainer = gd.closest('#notebook-container');\n",
       "if (notebookContainer) {{\n",
       "    x.observe(notebookContainer, {childList: true});\n",
       "}}\n",
       "\n",
       "// Listen for the clearing of the current output cell\n",
       "var outputEl = gd.closest('.output');\n",
       "if (outputEl) {{\n",
       "    x.observe(outputEl, {childList: true});\n",
       "}}\n",
       "\n",
       "                        })                };                });            </script>        </div>"
      ]
     },
     "metadata": {},
     "output_type": "display_data"
    }
   ],
   "source": [
    "fig = px.imshow(dataset.corr())\n",
    "fig.show()"
   ]
  },
  {
   "cell_type": "markdown",
   "id": "e3833d25",
   "metadata": {
    "papermill": {
     "duration": 0.014643,
     "end_time": "2024-08-29T18:41:28.741016",
     "exception": false,
     "start_time": "2024-08-29T18:41:28.726373",
     "status": "completed"
    },
    "tags": []
   },
   "source": [
    "# Visualization"
   ]
  },
  {
   "cell_type": "markdown",
   "id": "361d2900",
   "metadata": {
    "papermill": {
     "duration": 0.01431,
     "end_time": "2024-08-29T18:41:28.770546",
     "exception": false,
     "start_time": "2024-08-29T18:41:28.756236",
     "status": "completed"
    },
    "tags": []
   },
   "source": [
    "## Scatter Plot"
   ]
  },
  {
   "cell_type": "code",
   "execution_count": 8,
   "id": "6598ecf3",
   "metadata": {
    "execution": {
     "iopub.execute_input": "2024-08-29T18:41:28.801220Z",
     "iopub.status.busy": "2024-08-29T18:41:28.800852Z",
     "iopub.status.idle": "2024-08-29T18:41:28.838126Z",
     "shell.execute_reply": "2024-08-29T18:41:28.836850Z"
    },
    "papermill": {
     "duration": 0.055322,
     "end_time": "2024-08-29T18:41:28.840688",
     "exception": false,
     "start_time": "2024-08-29T18:41:28.785366",
     "status": "completed"
    },
    "tags": []
   },
   "outputs": [
    {
     "data": {
      "text/html": [
       "<div>                            <div id=\"b2e0fbc0-5c6b-4860-97d7-4dc6ce347fe5\" class=\"plotly-graph-div\" style=\"height:525px; width:100%;\"></div>            <script type=\"text/javascript\">                require([\"plotly\"], function(Plotly) {                    window.PLOTLYENV=window.PLOTLYENV || {};                                    if (document.getElementById(\"b2e0fbc0-5c6b-4860-97d7-4dc6ce347fe5\")) {                    Plotly.newPlot(                        \"b2e0fbc0-5c6b-4860-97d7-4dc6ce347fe5\",                        [{\"mode\":\"markers\",\"x\":[1.1,1.3,1.5,2.0,2.2,2.9,3.0,3.2,3.2,3.7,3.9,4.0,4.0,4.1,4.5,4.9,5.1,5.3,5.9,6.0,6.8,7.1,7.9,8.2,8.7,9.0,9.5,9.6,10.3,10.5],\"y\":[39343.0,46205.0,37731.0,43525.0,39891.0,56642.0,60150.0,54445.0,64445.0,57189.0,63218.0,55794.0,56957.0,57081.0,61111.0,67938.0,66029.0,83088.0,81363.0,93940.0,91738.0,98273.0,101302.0,113812.0,109431.0,105582.0,116969.0,112635.0,122391.0,121872.0],\"type\":\"scatter\"}],                        {\"template\":{\"data\":{\"barpolar\":[{\"marker\":{\"line\":{\"color\":\"#E5ECF6\",\"width\":0.5},\"pattern\":{\"fillmode\":\"overlay\",\"size\":10,\"solidity\":0.2}},\"type\":\"barpolar\"}],\"bar\":[{\"error_x\":{\"color\":\"#2a3f5f\"},\"error_y\":{\"color\":\"#2a3f5f\"},\"marker\":{\"line\":{\"color\":\"#E5ECF6\",\"width\":0.5},\"pattern\":{\"fillmode\":\"overlay\",\"size\":10,\"solidity\":0.2}},\"type\":\"bar\"}],\"carpet\":[{\"aaxis\":{\"endlinecolor\":\"#2a3f5f\",\"gridcolor\":\"white\",\"linecolor\":\"white\",\"minorgridcolor\":\"white\",\"startlinecolor\":\"#2a3f5f\"},\"baxis\":{\"endlinecolor\":\"#2a3f5f\",\"gridcolor\":\"white\",\"linecolor\":\"white\",\"minorgridcolor\":\"white\",\"startlinecolor\":\"#2a3f5f\"},\"type\":\"carpet\"}],\"choropleth\":[{\"colorbar\":{\"outlinewidth\":0,\"ticks\":\"\"},\"type\":\"choropleth\"}],\"contourcarpet\":[{\"colorbar\":{\"outlinewidth\":0,\"ticks\":\"\"},\"type\":\"contourcarpet\"}],\"contour\":[{\"colorbar\":{\"outlinewidth\":0,\"ticks\":\"\"},\"colorscale\":[[0.0,\"#0d0887\"],[0.1111111111111111,\"#46039f\"],[0.2222222222222222,\"#7201a8\"],[0.3333333333333333,\"#9c179e\"],[0.4444444444444444,\"#bd3786\"],[0.5555555555555556,\"#d8576b\"],[0.6666666666666666,\"#ed7953\"],[0.7777777777777778,\"#fb9f3a\"],[0.8888888888888888,\"#fdca26\"],[1.0,\"#f0f921\"]],\"type\":\"contour\"}],\"heatmapgl\":[{\"colorbar\":{\"outlinewidth\":0,\"ticks\":\"\"},\"colorscale\":[[0.0,\"#0d0887\"],[0.1111111111111111,\"#46039f\"],[0.2222222222222222,\"#7201a8\"],[0.3333333333333333,\"#9c179e\"],[0.4444444444444444,\"#bd3786\"],[0.5555555555555556,\"#d8576b\"],[0.6666666666666666,\"#ed7953\"],[0.7777777777777778,\"#fb9f3a\"],[0.8888888888888888,\"#fdca26\"],[1.0,\"#f0f921\"]],\"type\":\"heatmapgl\"}],\"heatmap\":[{\"colorbar\":{\"outlinewidth\":0,\"ticks\":\"\"},\"colorscale\":[[0.0,\"#0d0887\"],[0.1111111111111111,\"#46039f\"],[0.2222222222222222,\"#7201a8\"],[0.3333333333333333,\"#9c179e\"],[0.4444444444444444,\"#bd3786\"],[0.5555555555555556,\"#d8576b\"],[0.6666666666666666,\"#ed7953\"],[0.7777777777777778,\"#fb9f3a\"],[0.8888888888888888,\"#fdca26\"],[1.0,\"#f0f921\"]],\"type\":\"heatmap\"}],\"histogram2dcontour\":[{\"colorbar\":{\"outlinewidth\":0,\"ticks\":\"\"},\"colorscale\":[[0.0,\"#0d0887\"],[0.1111111111111111,\"#46039f\"],[0.2222222222222222,\"#7201a8\"],[0.3333333333333333,\"#9c179e\"],[0.4444444444444444,\"#bd3786\"],[0.5555555555555556,\"#d8576b\"],[0.6666666666666666,\"#ed7953\"],[0.7777777777777778,\"#fb9f3a\"],[0.8888888888888888,\"#fdca26\"],[1.0,\"#f0f921\"]],\"type\":\"histogram2dcontour\"}],\"histogram2d\":[{\"colorbar\":{\"outlinewidth\":0,\"ticks\":\"\"},\"colorscale\":[[0.0,\"#0d0887\"],[0.1111111111111111,\"#46039f\"],[0.2222222222222222,\"#7201a8\"],[0.3333333333333333,\"#9c179e\"],[0.4444444444444444,\"#bd3786\"],[0.5555555555555556,\"#d8576b\"],[0.6666666666666666,\"#ed7953\"],[0.7777777777777778,\"#fb9f3a\"],[0.8888888888888888,\"#fdca26\"],[1.0,\"#f0f921\"]],\"type\":\"histogram2d\"}],\"histogram\":[{\"marker\":{\"pattern\":{\"fillmode\":\"overlay\",\"size\":10,\"solidity\":0.2}},\"type\":\"histogram\"}],\"mesh3d\":[{\"colorbar\":{\"outlinewidth\":0,\"ticks\":\"\"},\"type\":\"mesh3d\"}],\"parcoords\":[{\"line\":{\"colorbar\":{\"outlinewidth\":0,\"ticks\":\"\"}},\"type\":\"parcoords\"}],\"pie\":[{\"automargin\":true,\"type\":\"pie\"}],\"scatter3d\":[{\"line\":{\"colorbar\":{\"outlinewidth\":0,\"ticks\":\"\"}},\"marker\":{\"colorbar\":{\"outlinewidth\":0,\"ticks\":\"\"}},\"type\":\"scatter3d\"}],\"scattercarpet\":[{\"marker\":{\"colorbar\":{\"outlinewidth\":0,\"ticks\":\"\"}},\"type\":\"scattercarpet\"}],\"scattergeo\":[{\"marker\":{\"colorbar\":{\"outlinewidth\":0,\"ticks\":\"\"}},\"type\":\"scattergeo\"}],\"scattergl\":[{\"marker\":{\"colorbar\":{\"outlinewidth\":0,\"ticks\":\"\"}},\"type\":\"scattergl\"}],\"scattermapbox\":[{\"marker\":{\"colorbar\":{\"outlinewidth\":0,\"ticks\":\"\"}},\"type\":\"scattermapbox\"}],\"scatterpolargl\":[{\"marker\":{\"colorbar\":{\"outlinewidth\":0,\"ticks\":\"\"}},\"type\":\"scatterpolargl\"}],\"scatterpolar\":[{\"marker\":{\"colorbar\":{\"outlinewidth\":0,\"ticks\":\"\"}},\"type\":\"scatterpolar\"}],\"scatter\":[{\"fillpattern\":{\"fillmode\":\"overlay\",\"size\":10,\"solidity\":0.2},\"type\":\"scatter\"}],\"scatterternary\":[{\"marker\":{\"colorbar\":{\"outlinewidth\":0,\"ticks\":\"\"}},\"type\":\"scatterternary\"}],\"surface\":[{\"colorbar\":{\"outlinewidth\":0,\"ticks\":\"\"},\"colorscale\":[[0.0,\"#0d0887\"],[0.1111111111111111,\"#46039f\"],[0.2222222222222222,\"#7201a8\"],[0.3333333333333333,\"#9c179e\"],[0.4444444444444444,\"#bd3786\"],[0.5555555555555556,\"#d8576b\"],[0.6666666666666666,\"#ed7953\"],[0.7777777777777778,\"#fb9f3a\"],[0.8888888888888888,\"#fdca26\"],[1.0,\"#f0f921\"]],\"type\":\"surface\"}],\"table\":[{\"cells\":{\"fill\":{\"color\":\"#EBF0F8\"},\"line\":{\"color\":\"white\"}},\"header\":{\"fill\":{\"color\":\"#C8D4E3\"},\"line\":{\"color\":\"white\"}},\"type\":\"table\"}]},\"layout\":{\"annotationdefaults\":{\"arrowcolor\":\"#2a3f5f\",\"arrowhead\":0,\"arrowwidth\":1},\"autotypenumbers\":\"strict\",\"coloraxis\":{\"colorbar\":{\"outlinewidth\":0,\"ticks\":\"\"}},\"colorscale\":{\"diverging\":[[0,\"#8e0152\"],[0.1,\"#c51b7d\"],[0.2,\"#de77ae\"],[0.3,\"#f1b6da\"],[0.4,\"#fde0ef\"],[0.5,\"#f7f7f7\"],[0.6,\"#e6f5d0\"],[0.7,\"#b8e186\"],[0.8,\"#7fbc41\"],[0.9,\"#4d9221\"],[1,\"#276419\"]],\"sequential\":[[0.0,\"#0d0887\"],[0.1111111111111111,\"#46039f\"],[0.2222222222222222,\"#7201a8\"],[0.3333333333333333,\"#9c179e\"],[0.4444444444444444,\"#bd3786\"],[0.5555555555555556,\"#d8576b\"],[0.6666666666666666,\"#ed7953\"],[0.7777777777777778,\"#fb9f3a\"],[0.8888888888888888,\"#fdca26\"],[1.0,\"#f0f921\"]],\"sequentialminus\":[[0.0,\"#0d0887\"],[0.1111111111111111,\"#46039f\"],[0.2222222222222222,\"#7201a8\"],[0.3333333333333333,\"#9c179e\"],[0.4444444444444444,\"#bd3786\"],[0.5555555555555556,\"#d8576b\"],[0.6666666666666666,\"#ed7953\"],[0.7777777777777778,\"#fb9f3a\"],[0.8888888888888888,\"#fdca26\"],[1.0,\"#f0f921\"]]},\"colorway\":[\"#636efa\",\"#EF553B\",\"#00cc96\",\"#ab63fa\",\"#FFA15A\",\"#19d3f3\",\"#FF6692\",\"#B6E880\",\"#FF97FF\",\"#FECB52\"],\"font\":{\"color\":\"#2a3f5f\"},\"geo\":{\"bgcolor\":\"white\",\"lakecolor\":\"white\",\"landcolor\":\"#E5ECF6\",\"showlakes\":true,\"showland\":true,\"subunitcolor\":\"white\"},\"hoverlabel\":{\"align\":\"left\"},\"hovermode\":\"closest\",\"mapbox\":{\"style\":\"light\"},\"paper_bgcolor\":\"white\",\"plot_bgcolor\":\"#E5ECF6\",\"polar\":{\"angularaxis\":{\"gridcolor\":\"white\",\"linecolor\":\"white\",\"ticks\":\"\"},\"bgcolor\":\"#E5ECF6\",\"radialaxis\":{\"gridcolor\":\"white\",\"linecolor\":\"white\",\"ticks\":\"\"}},\"scene\":{\"xaxis\":{\"backgroundcolor\":\"#E5ECF6\",\"gridcolor\":\"white\",\"gridwidth\":2,\"linecolor\":\"white\",\"showbackground\":true,\"ticks\":\"\",\"zerolinecolor\":\"white\"},\"yaxis\":{\"backgroundcolor\":\"#E5ECF6\",\"gridcolor\":\"white\",\"gridwidth\":2,\"linecolor\":\"white\",\"showbackground\":true,\"ticks\":\"\",\"zerolinecolor\":\"white\"},\"zaxis\":{\"backgroundcolor\":\"#E5ECF6\",\"gridcolor\":\"white\",\"gridwidth\":2,\"linecolor\":\"white\",\"showbackground\":true,\"ticks\":\"\",\"zerolinecolor\":\"white\"}},\"shapedefaults\":{\"line\":{\"color\":\"#2a3f5f\"}},\"ternary\":{\"aaxis\":{\"gridcolor\":\"white\",\"linecolor\":\"white\",\"ticks\":\"\"},\"baxis\":{\"gridcolor\":\"white\",\"linecolor\":\"white\",\"ticks\":\"\"},\"bgcolor\":\"#E5ECF6\",\"caxis\":{\"gridcolor\":\"white\",\"linecolor\":\"white\",\"ticks\":\"\"}},\"title\":{\"x\":0.05},\"xaxis\":{\"automargin\":true,\"gridcolor\":\"white\",\"linecolor\":\"white\",\"ticks\":\"\",\"title\":{\"standoff\":15},\"zerolinecolor\":\"white\",\"zerolinewidth\":2},\"yaxis\":{\"automargin\":true,\"gridcolor\":\"white\",\"linecolor\":\"white\",\"ticks\":\"\",\"title\":{\"standoff\":15},\"zerolinecolor\":\"white\",\"zerolinewidth\":2}}}},                        {\"responsive\": true}                    ).then(function(){\n",
       "                            \n",
       "var gd = document.getElementById('b2e0fbc0-5c6b-4860-97d7-4dc6ce347fe5');\n",
       "var x = new MutationObserver(function (mutations, observer) {{\n",
       "        var display = window.getComputedStyle(gd).display;\n",
       "        if (!display || display === 'none') {{\n",
       "            console.log([gd, 'removed!']);\n",
       "            Plotly.purge(gd);\n",
       "            observer.disconnect();\n",
       "        }}\n",
       "}});\n",
       "\n",
       "// Listen for the removal of the full notebook cells\n",
       "var notebookContainer = gd.closest('#notebook-container');\n",
       "if (notebookContainer) {{\n",
       "    x.observe(notebookContainer, {childList: true});\n",
       "}}\n",
       "\n",
       "// Listen for the clearing of the current output cell\n",
       "var outputEl = gd.closest('.output');\n",
       "if (outputEl) {{\n",
       "    x.observe(outputEl, {childList: true});\n",
       "}}\n",
       "\n",
       "                        })                };                });            </script>        </div>"
      ]
     },
     "metadata": {},
     "output_type": "display_data"
    }
   ],
   "source": [
    "scatter = [go.Scatter(x = dataset['YearsExperience'],\n",
    "                      y = dataset['Salary'],\n",
    "                      mode ='markers')] \n",
    "\n",
    "fig = go.Figure(scatter)\n",
    "\n",
    "iplot(fig)"
   ]
  },
  {
   "cell_type": "markdown",
   "id": "40bcd672",
   "metadata": {
    "papermill": {
     "duration": 0.013584,
     "end_time": "2024-08-29T18:41:28.868147",
     "exception": false,
     "start_time": "2024-08-29T18:41:28.854563",
     "status": "completed"
    },
    "tags": []
   },
   "source": [
    "shows linear relation between the salary and year of experiance"
   ]
  },
  {
   "cell_type": "markdown",
   "id": "d8669351",
   "metadata": {
    "papermill": {
     "duration": 0.071922,
     "end_time": "2024-08-29T18:41:28.954311",
     "exception": false,
     "start_time": "2024-08-29T18:41:28.882389",
     "status": "completed"
    },
    "tags": []
   },
   "source": [
    "## histogram"
   ]
  },
  {
   "cell_type": "code",
   "execution_count": 9,
   "id": "2fd3c882",
   "metadata": {
    "execution": {
     "iopub.execute_input": "2024-08-29T18:41:28.984265Z",
     "iopub.status.busy": "2024-08-29T18:41:28.983909Z",
     "iopub.status.idle": "2024-08-29T18:41:29.029590Z",
     "shell.execute_reply": "2024-08-29T18:41:29.028505Z"
    },
    "papermill": {
     "duration": 0.063816,
     "end_time": "2024-08-29T18:41:29.032166",
     "exception": false,
     "start_time": "2024-08-29T18:41:28.968350",
     "status": "completed"
    },
    "tags": []
   },
   "outputs": [
    {
     "data": {
      "text/html": [
       "<div>                            <div id=\"dc35ab63-2f02-4ef7-a556-7b21d9dca848\" class=\"plotly-graph-div\" style=\"height:525px; width:100%;\"></div>            <script type=\"text/javascript\">                require([\"plotly\"], function(Plotly) {                    window.PLOTLYENV=window.PLOTLYENV || {};                                    if (document.getElementById(\"dc35ab63-2f02-4ef7-a556-7b21d9dca848\")) {                    Plotly.newPlot(                        \"dc35ab63-2f02-4ef7-a556-7b21d9dca848\",                        [{\"marker\":{\"color\":\"#AFE400\",\"line\":{\"color\":\"black\",\"width\":2}},\"x\":[1.1,1.3,1.5,2.0,2.2,2.9,3.0,3.2,3.2,3.7,3.9,4.0,4.0,4.1,4.5,4.9,5.1,5.3,5.9,6.0,6.8,7.1,7.9,8.2,8.7,9.0,9.5,9.6,10.3,10.5],\"type\":\"histogram\"}],                        {\"template\":{\"data\":{\"barpolar\":[{\"marker\":{\"line\":{\"color\":\"#E5ECF6\",\"width\":0.5},\"pattern\":{\"fillmode\":\"overlay\",\"size\":10,\"solidity\":0.2}},\"type\":\"barpolar\"}],\"bar\":[{\"error_x\":{\"color\":\"#2a3f5f\"},\"error_y\":{\"color\":\"#2a3f5f\"},\"marker\":{\"line\":{\"color\":\"#E5ECF6\",\"width\":0.5},\"pattern\":{\"fillmode\":\"overlay\",\"size\":10,\"solidity\":0.2}},\"type\":\"bar\"}],\"carpet\":[{\"aaxis\":{\"endlinecolor\":\"#2a3f5f\",\"gridcolor\":\"white\",\"linecolor\":\"white\",\"minorgridcolor\":\"white\",\"startlinecolor\":\"#2a3f5f\"},\"baxis\":{\"endlinecolor\":\"#2a3f5f\",\"gridcolor\":\"white\",\"linecolor\":\"white\",\"minorgridcolor\":\"white\",\"startlinecolor\":\"#2a3f5f\"},\"type\":\"carpet\"}],\"choropleth\":[{\"colorbar\":{\"outlinewidth\":0,\"ticks\":\"\"},\"type\":\"choropleth\"}],\"contourcarpet\":[{\"colorbar\":{\"outlinewidth\":0,\"ticks\":\"\"},\"type\":\"contourcarpet\"}],\"contour\":[{\"colorbar\":{\"outlinewidth\":0,\"ticks\":\"\"},\"colorscale\":[[0.0,\"#0d0887\"],[0.1111111111111111,\"#46039f\"],[0.2222222222222222,\"#7201a8\"],[0.3333333333333333,\"#9c179e\"],[0.4444444444444444,\"#bd3786\"],[0.5555555555555556,\"#d8576b\"],[0.6666666666666666,\"#ed7953\"],[0.7777777777777778,\"#fb9f3a\"],[0.8888888888888888,\"#fdca26\"],[1.0,\"#f0f921\"]],\"type\":\"contour\"}],\"heatmapgl\":[{\"colorbar\":{\"outlinewidth\":0,\"ticks\":\"\"},\"colorscale\":[[0.0,\"#0d0887\"],[0.1111111111111111,\"#46039f\"],[0.2222222222222222,\"#7201a8\"],[0.3333333333333333,\"#9c179e\"],[0.4444444444444444,\"#bd3786\"],[0.5555555555555556,\"#d8576b\"],[0.6666666666666666,\"#ed7953\"],[0.7777777777777778,\"#fb9f3a\"],[0.8888888888888888,\"#fdca26\"],[1.0,\"#f0f921\"]],\"type\":\"heatmapgl\"}],\"heatmap\":[{\"colorbar\":{\"outlinewidth\":0,\"ticks\":\"\"},\"colorscale\":[[0.0,\"#0d0887\"],[0.1111111111111111,\"#46039f\"],[0.2222222222222222,\"#7201a8\"],[0.3333333333333333,\"#9c179e\"],[0.4444444444444444,\"#bd3786\"],[0.5555555555555556,\"#d8576b\"],[0.6666666666666666,\"#ed7953\"],[0.7777777777777778,\"#fb9f3a\"],[0.8888888888888888,\"#fdca26\"],[1.0,\"#f0f921\"]],\"type\":\"heatmap\"}],\"histogram2dcontour\":[{\"colorbar\":{\"outlinewidth\":0,\"ticks\":\"\"},\"colorscale\":[[0.0,\"#0d0887\"],[0.1111111111111111,\"#46039f\"],[0.2222222222222222,\"#7201a8\"],[0.3333333333333333,\"#9c179e\"],[0.4444444444444444,\"#bd3786\"],[0.5555555555555556,\"#d8576b\"],[0.6666666666666666,\"#ed7953\"],[0.7777777777777778,\"#fb9f3a\"],[0.8888888888888888,\"#fdca26\"],[1.0,\"#f0f921\"]],\"type\":\"histogram2dcontour\"}],\"histogram2d\":[{\"colorbar\":{\"outlinewidth\":0,\"ticks\":\"\"},\"colorscale\":[[0.0,\"#0d0887\"],[0.1111111111111111,\"#46039f\"],[0.2222222222222222,\"#7201a8\"],[0.3333333333333333,\"#9c179e\"],[0.4444444444444444,\"#bd3786\"],[0.5555555555555556,\"#d8576b\"],[0.6666666666666666,\"#ed7953\"],[0.7777777777777778,\"#fb9f3a\"],[0.8888888888888888,\"#fdca26\"],[1.0,\"#f0f921\"]],\"type\":\"histogram2d\"}],\"histogram\":[{\"marker\":{\"pattern\":{\"fillmode\":\"overlay\",\"size\":10,\"solidity\":0.2}},\"type\":\"histogram\"}],\"mesh3d\":[{\"colorbar\":{\"outlinewidth\":0,\"ticks\":\"\"},\"type\":\"mesh3d\"}],\"parcoords\":[{\"line\":{\"colorbar\":{\"outlinewidth\":0,\"ticks\":\"\"}},\"type\":\"parcoords\"}],\"pie\":[{\"automargin\":true,\"type\":\"pie\"}],\"scatter3d\":[{\"line\":{\"colorbar\":{\"outlinewidth\":0,\"ticks\":\"\"}},\"marker\":{\"colorbar\":{\"outlinewidth\":0,\"ticks\":\"\"}},\"type\":\"scatter3d\"}],\"scattercarpet\":[{\"marker\":{\"colorbar\":{\"outlinewidth\":0,\"ticks\":\"\"}},\"type\":\"scattercarpet\"}],\"scattergeo\":[{\"marker\":{\"colorbar\":{\"outlinewidth\":0,\"ticks\":\"\"}},\"type\":\"scattergeo\"}],\"scattergl\":[{\"marker\":{\"colorbar\":{\"outlinewidth\":0,\"ticks\":\"\"}},\"type\":\"scattergl\"}],\"scattermapbox\":[{\"marker\":{\"colorbar\":{\"outlinewidth\":0,\"ticks\":\"\"}},\"type\":\"scattermapbox\"}],\"scatterpolargl\":[{\"marker\":{\"colorbar\":{\"outlinewidth\":0,\"ticks\":\"\"}},\"type\":\"scatterpolargl\"}],\"scatterpolar\":[{\"marker\":{\"colorbar\":{\"outlinewidth\":0,\"ticks\":\"\"}},\"type\":\"scatterpolar\"}],\"scatter\":[{\"fillpattern\":{\"fillmode\":\"overlay\",\"size\":10,\"solidity\":0.2},\"type\":\"scatter\"}],\"scatterternary\":[{\"marker\":{\"colorbar\":{\"outlinewidth\":0,\"ticks\":\"\"}},\"type\":\"scatterternary\"}],\"surface\":[{\"colorbar\":{\"outlinewidth\":0,\"ticks\":\"\"},\"colorscale\":[[0.0,\"#0d0887\"],[0.1111111111111111,\"#46039f\"],[0.2222222222222222,\"#7201a8\"],[0.3333333333333333,\"#9c179e\"],[0.4444444444444444,\"#bd3786\"],[0.5555555555555556,\"#d8576b\"],[0.6666666666666666,\"#ed7953\"],[0.7777777777777778,\"#fb9f3a\"],[0.8888888888888888,\"#fdca26\"],[1.0,\"#f0f921\"]],\"type\":\"surface\"}],\"table\":[{\"cells\":{\"fill\":{\"color\":\"#EBF0F8\"},\"line\":{\"color\":\"white\"}},\"header\":{\"fill\":{\"color\":\"#C8D4E3\"},\"line\":{\"color\":\"white\"}},\"type\":\"table\"}]},\"layout\":{\"annotationdefaults\":{\"arrowcolor\":\"#2a3f5f\",\"arrowhead\":0,\"arrowwidth\":1},\"autotypenumbers\":\"strict\",\"coloraxis\":{\"colorbar\":{\"outlinewidth\":0,\"ticks\":\"\"}},\"colorscale\":{\"diverging\":[[0,\"#8e0152\"],[0.1,\"#c51b7d\"],[0.2,\"#de77ae\"],[0.3,\"#f1b6da\"],[0.4,\"#fde0ef\"],[0.5,\"#f7f7f7\"],[0.6,\"#e6f5d0\"],[0.7,\"#b8e186\"],[0.8,\"#7fbc41\"],[0.9,\"#4d9221\"],[1,\"#276419\"]],\"sequential\":[[0.0,\"#0d0887\"],[0.1111111111111111,\"#46039f\"],[0.2222222222222222,\"#7201a8\"],[0.3333333333333333,\"#9c179e\"],[0.4444444444444444,\"#bd3786\"],[0.5555555555555556,\"#d8576b\"],[0.6666666666666666,\"#ed7953\"],[0.7777777777777778,\"#fb9f3a\"],[0.8888888888888888,\"#fdca26\"],[1.0,\"#f0f921\"]],\"sequentialminus\":[[0.0,\"#0d0887\"],[0.1111111111111111,\"#46039f\"],[0.2222222222222222,\"#7201a8\"],[0.3333333333333333,\"#9c179e\"],[0.4444444444444444,\"#bd3786\"],[0.5555555555555556,\"#d8576b\"],[0.6666666666666666,\"#ed7953\"],[0.7777777777777778,\"#fb9f3a\"],[0.8888888888888888,\"#fdca26\"],[1.0,\"#f0f921\"]]},\"colorway\":[\"#636efa\",\"#EF553B\",\"#00cc96\",\"#ab63fa\",\"#FFA15A\",\"#19d3f3\",\"#FF6692\",\"#B6E880\",\"#FF97FF\",\"#FECB52\"],\"font\":{\"color\":\"#2a3f5f\"},\"geo\":{\"bgcolor\":\"white\",\"lakecolor\":\"white\",\"landcolor\":\"#E5ECF6\",\"showlakes\":true,\"showland\":true,\"subunitcolor\":\"white\"},\"hoverlabel\":{\"align\":\"left\"},\"hovermode\":\"closest\",\"mapbox\":{\"style\":\"light\"},\"paper_bgcolor\":\"white\",\"plot_bgcolor\":\"#E5ECF6\",\"polar\":{\"angularaxis\":{\"gridcolor\":\"white\",\"linecolor\":\"white\",\"ticks\":\"\"},\"bgcolor\":\"#E5ECF6\",\"radialaxis\":{\"gridcolor\":\"white\",\"linecolor\":\"white\",\"ticks\":\"\"}},\"scene\":{\"xaxis\":{\"backgroundcolor\":\"#E5ECF6\",\"gridcolor\":\"white\",\"gridwidth\":2,\"linecolor\":\"white\",\"showbackground\":true,\"ticks\":\"\",\"zerolinecolor\":\"white\"},\"yaxis\":{\"backgroundcolor\":\"#E5ECF6\",\"gridcolor\":\"white\",\"gridwidth\":2,\"linecolor\":\"white\",\"showbackground\":true,\"ticks\":\"\",\"zerolinecolor\":\"white\"},\"zaxis\":{\"backgroundcolor\":\"#E5ECF6\",\"gridcolor\":\"white\",\"gridwidth\":2,\"linecolor\":\"white\",\"showbackground\":true,\"ticks\":\"\",\"zerolinecolor\":\"white\"}},\"shapedefaults\":{\"line\":{\"color\":\"#2a3f5f\"}},\"ternary\":{\"aaxis\":{\"gridcolor\":\"white\",\"linecolor\":\"white\",\"ticks\":\"\"},\"baxis\":{\"gridcolor\":\"white\",\"linecolor\":\"white\",\"ticks\":\"\"},\"bgcolor\":\"#E5ECF6\",\"caxis\":{\"gridcolor\":\"white\",\"linecolor\":\"white\",\"ticks\":\"\"}},\"title\":{\"x\":0.05},\"xaxis\":{\"automargin\":true,\"gridcolor\":\"white\",\"linecolor\":\"white\",\"ticks\":\"\",\"title\":{\"standoff\":15},\"zerolinecolor\":\"white\",\"zerolinewidth\":2},\"yaxis\":{\"automargin\":true,\"gridcolor\":\"white\",\"linecolor\":\"white\",\"ticks\":\"\",\"title\":{\"standoff\":15},\"zerolinecolor\":\"white\",\"zerolinewidth\":2}}}},                        {\"responsive\": true}                    ).then(function(){\n",
       "                            \n",
       "var gd = document.getElementById('dc35ab63-2f02-4ef7-a556-7b21d9dca848');\n",
       "var x = new MutationObserver(function (mutations, observer) {{\n",
       "        var display = window.getComputedStyle(gd).display;\n",
       "        if (!display || display === 'none') {{\n",
       "            console.log([gd, 'removed!']);\n",
       "            Plotly.purge(gd);\n",
       "            observer.disconnect();\n",
       "        }}\n",
       "}});\n",
       "\n",
       "// Listen for the removal of the full notebook cells\n",
       "var notebookContainer = gd.closest('#notebook-container');\n",
       "if (notebookContainer) {{\n",
       "    x.observe(notebookContainer, {childList: true});\n",
       "}}\n",
       "\n",
       "// Listen for the clearing of the current output cell\n",
       "var outputEl = gd.closest('.output');\n",
       "if (outputEl) {{\n",
       "    x.observe(outputEl, {childList: true});\n",
       "}}\n",
       "\n",
       "                        })                };                });            </script>        </div>"
      ]
     },
     "metadata": {},
     "output_type": "display_data"
    }
   ],
   "source": [
    "hist = [go.Histogram(x = dataset['YearsExperience'],\\\n",
    "                     marker=dict(color ='#AFE400',line = dict(color='black',width=2)))]\n",
    "\n",
    "\n",
    "fig = go.Figure(data = hist)\n",
    "\n",
    "iplot(fig)"
   ]
  },
  {
   "cell_type": "code",
   "execution_count": 10,
   "id": "28966a79",
   "metadata": {
    "execution": {
     "iopub.execute_input": "2024-08-29T18:41:29.063084Z",
     "iopub.status.busy": "2024-08-29T18:41:29.062693Z",
     "iopub.status.idle": "2024-08-29T18:41:29.095448Z",
     "shell.execute_reply": "2024-08-29T18:41:29.094300Z"
    },
    "papermill": {
     "duration": 0.051347,
     "end_time": "2024-08-29T18:41:29.097863",
     "exception": false,
     "start_time": "2024-08-29T18:41:29.046516",
     "status": "completed"
    },
    "tags": []
   },
   "outputs": [
    {
     "data": {
      "text/html": [
       "<div>                            <div id=\"1d22bd55-5ac6-4796-972c-4d85dd1afc06\" class=\"plotly-graph-div\" style=\"height:525px; width:100%;\"></div>            <script type=\"text/javascript\">                require([\"plotly\"], function(Plotly) {                    window.PLOTLYENV=window.PLOTLYENV || {};                                    if (document.getElementById(\"1d22bd55-5ac6-4796-972c-4d85dd1afc06\")) {                    Plotly.newPlot(                        \"1d22bd55-5ac6-4796-972c-4d85dd1afc06\",                        [{\"marker\":{\"color\":\"#0FE400\",\"line\":{\"color\":\"black\",\"width\":2}},\"x\":[39343.0,46205.0,37731.0,43525.0,39891.0,56642.0,60150.0,54445.0,64445.0,57189.0,63218.0,55794.0,56957.0,57081.0,61111.0,67938.0,66029.0,83088.0,81363.0,93940.0,91738.0,98273.0,101302.0,113812.0,109431.0,105582.0,116969.0,112635.0,122391.0,121872.0],\"type\":\"histogram\"}],                        {\"template\":{\"data\":{\"barpolar\":[{\"marker\":{\"line\":{\"color\":\"#E5ECF6\",\"width\":0.5},\"pattern\":{\"fillmode\":\"overlay\",\"size\":10,\"solidity\":0.2}},\"type\":\"barpolar\"}],\"bar\":[{\"error_x\":{\"color\":\"#2a3f5f\"},\"error_y\":{\"color\":\"#2a3f5f\"},\"marker\":{\"line\":{\"color\":\"#E5ECF6\",\"width\":0.5},\"pattern\":{\"fillmode\":\"overlay\",\"size\":10,\"solidity\":0.2}},\"type\":\"bar\"}],\"carpet\":[{\"aaxis\":{\"endlinecolor\":\"#2a3f5f\",\"gridcolor\":\"white\",\"linecolor\":\"white\",\"minorgridcolor\":\"white\",\"startlinecolor\":\"#2a3f5f\"},\"baxis\":{\"endlinecolor\":\"#2a3f5f\",\"gridcolor\":\"white\",\"linecolor\":\"white\",\"minorgridcolor\":\"white\",\"startlinecolor\":\"#2a3f5f\"},\"type\":\"carpet\"}],\"choropleth\":[{\"colorbar\":{\"outlinewidth\":0,\"ticks\":\"\"},\"type\":\"choropleth\"}],\"contourcarpet\":[{\"colorbar\":{\"outlinewidth\":0,\"ticks\":\"\"},\"type\":\"contourcarpet\"}],\"contour\":[{\"colorbar\":{\"outlinewidth\":0,\"ticks\":\"\"},\"colorscale\":[[0.0,\"#0d0887\"],[0.1111111111111111,\"#46039f\"],[0.2222222222222222,\"#7201a8\"],[0.3333333333333333,\"#9c179e\"],[0.4444444444444444,\"#bd3786\"],[0.5555555555555556,\"#d8576b\"],[0.6666666666666666,\"#ed7953\"],[0.7777777777777778,\"#fb9f3a\"],[0.8888888888888888,\"#fdca26\"],[1.0,\"#f0f921\"]],\"type\":\"contour\"}],\"heatmapgl\":[{\"colorbar\":{\"outlinewidth\":0,\"ticks\":\"\"},\"colorscale\":[[0.0,\"#0d0887\"],[0.1111111111111111,\"#46039f\"],[0.2222222222222222,\"#7201a8\"],[0.3333333333333333,\"#9c179e\"],[0.4444444444444444,\"#bd3786\"],[0.5555555555555556,\"#d8576b\"],[0.6666666666666666,\"#ed7953\"],[0.7777777777777778,\"#fb9f3a\"],[0.8888888888888888,\"#fdca26\"],[1.0,\"#f0f921\"]],\"type\":\"heatmapgl\"}],\"heatmap\":[{\"colorbar\":{\"outlinewidth\":0,\"ticks\":\"\"},\"colorscale\":[[0.0,\"#0d0887\"],[0.1111111111111111,\"#46039f\"],[0.2222222222222222,\"#7201a8\"],[0.3333333333333333,\"#9c179e\"],[0.4444444444444444,\"#bd3786\"],[0.5555555555555556,\"#d8576b\"],[0.6666666666666666,\"#ed7953\"],[0.7777777777777778,\"#fb9f3a\"],[0.8888888888888888,\"#fdca26\"],[1.0,\"#f0f921\"]],\"type\":\"heatmap\"}],\"histogram2dcontour\":[{\"colorbar\":{\"outlinewidth\":0,\"ticks\":\"\"},\"colorscale\":[[0.0,\"#0d0887\"],[0.1111111111111111,\"#46039f\"],[0.2222222222222222,\"#7201a8\"],[0.3333333333333333,\"#9c179e\"],[0.4444444444444444,\"#bd3786\"],[0.5555555555555556,\"#d8576b\"],[0.6666666666666666,\"#ed7953\"],[0.7777777777777778,\"#fb9f3a\"],[0.8888888888888888,\"#fdca26\"],[1.0,\"#f0f921\"]],\"type\":\"histogram2dcontour\"}],\"histogram2d\":[{\"colorbar\":{\"outlinewidth\":0,\"ticks\":\"\"},\"colorscale\":[[0.0,\"#0d0887\"],[0.1111111111111111,\"#46039f\"],[0.2222222222222222,\"#7201a8\"],[0.3333333333333333,\"#9c179e\"],[0.4444444444444444,\"#bd3786\"],[0.5555555555555556,\"#d8576b\"],[0.6666666666666666,\"#ed7953\"],[0.7777777777777778,\"#fb9f3a\"],[0.8888888888888888,\"#fdca26\"],[1.0,\"#f0f921\"]],\"type\":\"histogram2d\"}],\"histogram\":[{\"marker\":{\"pattern\":{\"fillmode\":\"overlay\",\"size\":10,\"solidity\":0.2}},\"type\":\"histogram\"}],\"mesh3d\":[{\"colorbar\":{\"outlinewidth\":0,\"ticks\":\"\"},\"type\":\"mesh3d\"}],\"parcoords\":[{\"line\":{\"colorbar\":{\"outlinewidth\":0,\"ticks\":\"\"}},\"type\":\"parcoords\"}],\"pie\":[{\"automargin\":true,\"type\":\"pie\"}],\"scatter3d\":[{\"line\":{\"colorbar\":{\"outlinewidth\":0,\"ticks\":\"\"}},\"marker\":{\"colorbar\":{\"outlinewidth\":0,\"ticks\":\"\"}},\"type\":\"scatter3d\"}],\"scattercarpet\":[{\"marker\":{\"colorbar\":{\"outlinewidth\":0,\"ticks\":\"\"}},\"type\":\"scattercarpet\"}],\"scattergeo\":[{\"marker\":{\"colorbar\":{\"outlinewidth\":0,\"ticks\":\"\"}},\"type\":\"scattergeo\"}],\"scattergl\":[{\"marker\":{\"colorbar\":{\"outlinewidth\":0,\"ticks\":\"\"}},\"type\":\"scattergl\"}],\"scattermapbox\":[{\"marker\":{\"colorbar\":{\"outlinewidth\":0,\"ticks\":\"\"}},\"type\":\"scattermapbox\"}],\"scatterpolargl\":[{\"marker\":{\"colorbar\":{\"outlinewidth\":0,\"ticks\":\"\"}},\"type\":\"scatterpolargl\"}],\"scatterpolar\":[{\"marker\":{\"colorbar\":{\"outlinewidth\":0,\"ticks\":\"\"}},\"type\":\"scatterpolar\"}],\"scatter\":[{\"fillpattern\":{\"fillmode\":\"overlay\",\"size\":10,\"solidity\":0.2},\"type\":\"scatter\"}],\"scatterternary\":[{\"marker\":{\"colorbar\":{\"outlinewidth\":0,\"ticks\":\"\"}},\"type\":\"scatterternary\"}],\"surface\":[{\"colorbar\":{\"outlinewidth\":0,\"ticks\":\"\"},\"colorscale\":[[0.0,\"#0d0887\"],[0.1111111111111111,\"#46039f\"],[0.2222222222222222,\"#7201a8\"],[0.3333333333333333,\"#9c179e\"],[0.4444444444444444,\"#bd3786\"],[0.5555555555555556,\"#d8576b\"],[0.6666666666666666,\"#ed7953\"],[0.7777777777777778,\"#fb9f3a\"],[0.8888888888888888,\"#fdca26\"],[1.0,\"#f0f921\"]],\"type\":\"surface\"}],\"table\":[{\"cells\":{\"fill\":{\"color\":\"#EBF0F8\"},\"line\":{\"color\":\"white\"}},\"header\":{\"fill\":{\"color\":\"#C8D4E3\"},\"line\":{\"color\":\"white\"}},\"type\":\"table\"}]},\"layout\":{\"annotationdefaults\":{\"arrowcolor\":\"#2a3f5f\",\"arrowhead\":0,\"arrowwidth\":1},\"autotypenumbers\":\"strict\",\"coloraxis\":{\"colorbar\":{\"outlinewidth\":0,\"ticks\":\"\"}},\"colorscale\":{\"diverging\":[[0,\"#8e0152\"],[0.1,\"#c51b7d\"],[0.2,\"#de77ae\"],[0.3,\"#f1b6da\"],[0.4,\"#fde0ef\"],[0.5,\"#f7f7f7\"],[0.6,\"#e6f5d0\"],[0.7,\"#b8e186\"],[0.8,\"#7fbc41\"],[0.9,\"#4d9221\"],[1,\"#276419\"]],\"sequential\":[[0.0,\"#0d0887\"],[0.1111111111111111,\"#46039f\"],[0.2222222222222222,\"#7201a8\"],[0.3333333333333333,\"#9c179e\"],[0.4444444444444444,\"#bd3786\"],[0.5555555555555556,\"#d8576b\"],[0.6666666666666666,\"#ed7953\"],[0.7777777777777778,\"#fb9f3a\"],[0.8888888888888888,\"#fdca26\"],[1.0,\"#f0f921\"]],\"sequentialminus\":[[0.0,\"#0d0887\"],[0.1111111111111111,\"#46039f\"],[0.2222222222222222,\"#7201a8\"],[0.3333333333333333,\"#9c179e\"],[0.4444444444444444,\"#bd3786\"],[0.5555555555555556,\"#d8576b\"],[0.6666666666666666,\"#ed7953\"],[0.7777777777777778,\"#fb9f3a\"],[0.8888888888888888,\"#fdca26\"],[1.0,\"#f0f921\"]]},\"colorway\":[\"#636efa\",\"#EF553B\",\"#00cc96\",\"#ab63fa\",\"#FFA15A\",\"#19d3f3\",\"#FF6692\",\"#B6E880\",\"#FF97FF\",\"#FECB52\"],\"font\":{\"color\":\"#2a3f5f\"},\"geo\":{\"bgcolor\":\"white\",\"lakecolor\":\"white\",\"landcolor\":\"#E5ECF6\",\"showlakes\":true,\"showland\":true,\"subunitcolor\":\"white\"},\"hoverlabel\":{\"align\":\"left\"},\"hovermode\":\"closest\",\"mapbox\":{\"style\":\"light\"},\"paper_bgcolor\":\"white\",\"plot_bgcolor\":\"#E5ECF6\",\"polar\":{\"angularaxis\":{\"gridcolor\":\"white\",\"linecolor\":\"white\",\"ticks\":\"\"},\"bgcolor\":\"#E5ECF6\",\"radialaxis\":{\"gridcolor\":\"white\",\"linecolor\":\"white\",\"ticks\":\"\"}},\"scene\":{\"xaxis\":{\"backgroundcolor\":\"#E5ECF6\",\"gridcolor\":\"white\",\"gridwidth\":2,\"linecolor\":\"white\",\"showbackground\":true,\"ticks\":\"\",\"zerolinecolor\":\"white\"},\"yaxis\":{\"backgroundcolor\":\"#E5ECF6\",\"gridcolor\":\"white\",\"gridwidth\":2,\"linecolor\":\"white\",\"showbackground\":true,\"ticks\":\"\",\"zerolinecolor\":\"white\"},\"zaxis\":{\"backgroundcolor\":\"#E5ECF6\",\"gridcolor\":\"white\",\"gridwidth\":2,\"linecolor\":\"white\",\"showbackground\":true,\"ticks\":\"\",\"zerolinecolor\":\"white\"}},\"shapedefaults\":{\"line\":{\"color\":\"#2a3f5f\"}},\"ternary\":{\"aaxis\":{\"gridcolor\":\"white\",\"linecolor\":\"white\",\"ticks\":\"\"},\"baxis\":{\"gridcolor\":\"white\",\"linecolor\":\"white\",\"ticks\":\"\"},\"bgcolor\":\"#E5ECF6\",\"caxis\":{\"gridcolor\":\"white\",\"linecolor\":\"white\",\"ticks\":\"\"}},\"title\":{\"x\":0.05},\"xaxis\":{\"automargin\":true,\"gridcolor\":\"white\",\"linecolor\":\"white\",\"ticks\":\"\",\"title\":{\"standoff\":15},\"zerolinecolor\":\"white\",\"zerolinewidth\":2},\"yaxis\":{\"automargin\":true,\"gridcolor\":\"white\",\"linecolor\":\"white\",\"ticks\":\"\",\"title\":{\"standoff\":15},\"zerolinecolor\":\"white\",\"zerolinewidth\":2}}}},                        {\"responsive\": true}                    ).then(function(){\n",
       "                            \n",
       "var gd = document.getElementById('1d22bd55-5ac6-4796-972c-4d85dd1afc06');\n",
       "var x = new MutationObserver(function (mutations, observer) {{\n",
       "        var display = window.getComputedStyle(gd).display;\n",
       "        if (!display || display === 'none') {{\n",
       "            console.log([gd, 'removed!']);\n",
       "            Plotly.purge(gd);\n",
       "            observer.disconnect();\n",
       "        }}\n",
       "}});\n",
       "\n",
       "// Listen for the removal of the full notebook cells\n",
       "var notebookContainer = gd.closest('#notebook-container');\n",
       "if (notebookContainer) {{\n",
       "    x.observe(notebookContainer, {childList: true});\n",
       "}}\n",
       "\n",
       "// Listen for the clearing of the current output cell\n",
       "var outputEl = gd.closest('.output');\n",
       "if (outputEl) {{\n",
       "    x.observe(outputEl, {childList: true});\n",
       "}}\n",
       "\n",
       "                        })                };                });            </script>        </div>"
      ]
     },
     "metadata": {},
     "output_type": "display_data"
    }
   ],
   "source": [
    "hist = [go.Histogram(x = dataset['Salary'],\\\n",
    "                     marker=dict(color ='#0FE400',line = dict(color='black',width=2)))]\n",
    "\n",
    "fig = go.Figure(data = hist)\n",
    "\n",
    "iplot(fig)"
   ]
  },
  {
   "cell_type": "markdown",
   "id": "62a8df5b",
   "metadata": {
    "papermill": {
     "duration": 0.014608,
     "end_time": "2024-08-29T18:41:29.127518",
     "exception": false,
     "start_time": "2024-08-29T18:41:29.112910",
     "status": "completed"
    },
    "tags": []
   },
   "source": [
    "# Assigning dependent variable to y and independent variable to X."
   ]
  },
  {
   "cell_type": "code",
   "execution_count": 11,
   "id": "4993734a",
   "metadata": {
    "execution": {
     "iopub.execute_input": "2024-08-29T18:41:29.159211Z",
     "iopub.status.busy": "2024-08-29T18:41:29.158841Z",
     "iopub.status.idle": "2024-08-29T18:41:29.164865Z",
     "shell.execute_reply": "2024-08-29T18:41:29.163699Z"
    },
    "papermill": {
     "duration": 0.024426,
     "end_time": "2024-08-29T18:41:29.167370",
     "exception": false,
     "start_time": "2024-08-29T18:41:29.142944",
     "status": "completed"
    },
    "tags": []
   },
   "outputs": [],
   "source": [
    "#Assiging values in X & Y\n",
    "X = dataset.iloc[:, :-1].values\n",
    "y = dataset.iloc[:, -1].values"
   ]
  },
  {
   "cell_type": "code",
   "execution_count": 12,
   "id": "048caa76",
   "metadata": {
    "execution": {
     "iopub.execute_input": "2024-08-29T18:41:29.198547Z",
     "iopub.status.busy": "2024-08-29T18:41:29.198191Z",
     "iopub.status.idle": "2024-08-29T18:41:29.204534Z",
     "shell.execute_reply": "2024-08-29T18:41:29.203339Z"
    },
    "papermill": {
     "duration": 0.024883,
     "end_time": "2024-08-29T18:41:29.207304",
     "exception": false,
     "start_time": "2024-08-29T18:41:29.182421",
     "status": "completed"
    },
    "tags": []
   },
   "outputs": [
    {
     "name": "stdout",
     "output_type": "stream",
     "text": [
      "[[ 1.1]\n",
      " [ 1.3]\n",
      " [ 1.5]\n",
      " [ 2. ]\n",
      " [ 2.2]\n",
      " [ 2.9]\n",
      " [ 3. ]\n",
      " [ 3.2]\n",
      " [ 3.2]\n",
      " [ 3.7]\n",
      " [ 3.9]\n",
      " [ 4. ]\n",
      " [ 4. ]\n",
      " [ 4.1]\n",
      " [ 4.5]\n",
      " [ 4.9]\n",
      " [ 5.1]\n",
      " [ 5.3]\n",
      " [ 5.9]\n",
      " [ 6. ]\n",
      " [ 6.8]\n",
      " [ 7.1]\n",
      " [ 7.9]\n",
      " [ 8.2]\n",
      " [ 8.7]\n",
      " [ 9. ]\n",
      " [ 9.5]\n",
      " [ 9.6]\n",
      " [10.3]\n",
      " [10.5]]\n"
     ]
    }
   ],
   "source": [
    "print(X)"
   ]
  },
  {
   "cell_type": "code",
   "execution_count": 13,
   "id": "66f4fb95",
   "metadata": {
    "execution": {
     "iopub.execute_input": "2024-08-29T18:41:29.238427Z",
     "iopub.status.busy": "2024-08-29T18:41:29.238059Z",
     "iopub.status.idle": "2024-08-29T18:41:29.243986Z",
     "shell.execute_reply": "2024-08-29T18:41:29.242803Z"
    },
    "papermill": {
     "duration": 0.024101,
     "end_time": "2024-08-29T18:41:29.246398",
     "exception": false,
     "start_time": "2024-08-29T18:41:29.222297",
     "status": "completed"
    },
    "tags": []
   },
   "outputs": [
    {
     "name": "stdout",
     "output_type": "stream",
     "text": [
      "[ 39343.  46205.  37731.  43525.  39891.  56642.  60150.  54445.  64445.\n",
      "  57189.  63218.  55794.  56957.  57081.  61111.  67938.  66029.  83088.\n",
      "  81363.  93940.  91738.  98273. 101302. 113812. 109431. 105582. 116969.\n",
      " 112635. 122391. 121872.]\n"
     ]
    }
   ],
   "source": [
    "print(y)"
   ]
  },
  {
   "cell_type": "markdown",
   "id": "a2a45a7d",
   "metadata": {
    "papermill": {
     "duration": 0.014942,
     "end_time": "2024-08-29T18:41:29.275850",
     "exception": false,
     "start_time": "2024-08-29T18:41:29.260908",
     "status": "completed"
    },
    "tags": []
   },
   "source": [
    "The dataset has to be split into a training set and a test set analysis. This can be done by the function train_test_split function from the Model_selection module of the Scikit-learn library.\n"
   ]
  },
  {
   "cell_type": "markdown",
   "id": "0ec57362",
   "metadata": {
    "papermill": {
     "duration": 0.015038,
     "end_time": "2024-08-29T18:41:29.306086",
     "exception": false,
     "start_time": "2024-08-29T18:41:29.291048",
     "status": "completed"
    },
    "tags": []
   },
   "source": [
    "# Spliting Dataset"
   ]
  },
  {
   "cell_type": "code",
   "execution_count": 14,
   "id": "8c030211",
   "metadata": {
    "execution": {
     "iopub.execute_input": "2024-08-29T18:41:29.337102Z",
     "iopub.status.busy": "2024-08-29T18:41:29.336712Z",
     "iopub.status.idle": "2024-08-29T18:41:29.657178Z",
     "shell.execute_reply": "2024-08-29T18:41:29.656025Z"
    },
    "papermill": {
     "duration": 0.339375,
     "end_time": "2024-08-29T18:41:29.660248",
     "exception": false,
     "start_time": "2024-08-29T18:41:29.320873",
     "status": "completed"
    },
    "tags": []
   },
   "outputs": [],
   "source": [
    "#Splitting testdata into X_train,X_test,y_train,y_test\n",
    "from sklearn.model_selection import train_test_split\n",
    "X_train,X_test,y_train,y_test = train_test_split(X,y,test_size=.33,random_state=2)"
   ]
  },
  {
   "cell_type": "markdown",
   "id": "5053bfb8",
   "metadata": {
    "papermill": {
     "duration": 0.014241,
     "end_time": "2024-08-29T18:41:29.689323",
     "exception": false,
     "start_time": "2024-08-29T18:41:29.675082",
     "status": "completed"
    },
    "tags": []
   },
   "source": [
    "Now the data set will be divided into X_train,X_test,y_train,y_test based on the test_size we have provided as input.\n",
    "\n",
    "Here dataset has 30 observations and test_size is taken as 33% of the total observation. This indicates the test set should have 33% * 30 =9.9 ~10 observations and the training set should have 20 observations. Random_state is assigned to some value so that the dataset is split randomly."
   ]
  },
  {
   "cell_type": "code",
   "execution_count": 15,
   "id": "71ae0b83",
   "metadata": {
    "execution": {
     "iopub.execute_input": "2024-08-29T18:41:29.720177Z",
     "iopub.status.busy": "2024-08-29T18:41:29.719757Z",
     "iopub.status.idle": "2024-08-29T18:41:29.726253Z",
     "shell.execute_reply": "2024-08-29T18:41:29.724908Z"
    },
    "papermill": {
     "duration": 0.025511,
     "end_time": "2024-08-29T18:41:29.729295",
     "exception": false,
     "start_time": "2024-08-29T18:41:29.703784",
     "status": "completed"
    },
    "tags": []
   },
   "outputs": [
    {
     "name": "stdout",
     "output_type": "stream",
     "text": [
      "[[ 2.9]\n",
      " [ 9.6]\n",
      " [ 4. ]\n",
      " [ 2.2]\n",
      " [ 3.9]\n",
      " [ 5.1]\n",
      " [10.3]\n",
      " [ 9. ]\n",
      " [ 5.3]\n",
      " [ 1.5]\n",
      " [ 3.2]\n",
      " [ 9.5]\n",
      " [ 8.7]\n",
      " [ 5.9]\n",
      " [ 4. ]\n",
      " [ 7.9]\n",
      " [10.5]\n",
      " [ 4.1]\n",
      " [ 4.9]\n",
      " [ 3.2]]\n"
     ]
    }
   ],
   "source": [
    "print(X_train)"
   ]
  },
  {
   "cell_type": "code",
   "execution_count": 16,
   "id": "a0530adf",
   "metadata": {
    "execution": {
     "iopub.execute_input": "2024-08-29T18:41:29.760695Z",
     "iopub.status.busy": "2024-08-29T18:41:29.760308Z",
     "iopub.status.idle": "2024-08-29T18:41:29.766606Z",
     "shell.execute_reply": "2024-08-29T18:41:29.764908Z"
    },
    "papermill": {
     "duration": 0.025631,
     "end_time": "2024-08-29T18:41:29.769765",
     "exception": false,
     "start_time": "2024-08-29T18:41:29.744134",
     "status": "completed"
    },
    "tags": []
   },
   "outputs": [
    {
     "name": "stdout",
     "output_type": "stream",
     "text": [
      "[[1.3]\n",
      " [1.1]\n",
      " [4.5]\n",
      " [3.7]\n",
      " [7.1]\n",
      " [6. ]\n",
      " [8.2]\n",
      " [3. ]\n",
      " [2. ]\n",
      " [6.8]]\n"
     ]
    }
   ],
   "source": [
    "print(X_test)"
   ]
  },
  {
   "cell_type": "code",
   "execution_count": 17,
   "id": "b931fff4",
   "metadata": {
    "execution": {
     "iopub.execute_input": "2024-08-29T18:41:29.804006Z",
     "iopub.status.busy": "2024-08-29T18:41:29.803554Z",
     "iopub.status.idle": "2024-08-29T18:41:29.810187Z",
     "shell.execute_reply": "2024-08-29T18:41:29.808881Z"
    },
    "papermill": {
     "duration": 0.027593,
     "end_time": "2024-08-29T18:41:29.812947",
     "exception": false,
     "start_time": "2024-08-29T18:41:29.785354",
     "status": "completed"
    },
    "tags": []
   },
   "outputs": [
    {
     "name": "stdout",
     "output_type": "stream",
     "text": [
      "[ 56642. 112635.  56957.  39891.  63218.  66029. 122391. 105582.  83088.\n",
      "  37731.  54445. 116969. 109431.  81363.  55794. 101302. 121872.  57081.\n",
      "  67938.  64445.]\n"
     ]
    }
   ],
   "source": [
    "print(y_train)"
   ]
  },
  {
   "cell_type": "code",
   "execution_count": 18,
   "id": "e1bc24a9",
   "metadata": {
    "execution": {
     "iopub.execute_input": "2024-08-29T18:41:29.844836Z",
     "iopub.status.busy": "2024-08-29T18:41:29.844180Z",
     "iopub.status.idle": "2024-08-29T18:41:29.850195Z",
     "shell.execute_reply": "2024-08-29T18:41:29.848939Z"
    },
    "papermill": {
     "duration": 0.025419,
     "end_time": "2024-08-29T18:41:29.853226",
     "exception": false,
     "start_time": "2024-08-29T18:41:29.827807",
     "status": "completed"
    },
    "tags": []
   },
   "outputs": [
    {
     "name": "stdout",
     "output_type": "stream",
     "text": [
      "[ 46205.  39343.  61111.  57189.  98273.  93940. 113812.  60150.  43525.\n",
      "  91738.]\n"
     ]
    }
   ],
   "source": [
    "print (y_test)"
   ]
  },
  {
   "cell_type": "markdown",
   "id": "19e2bde0",
   "metadata": {
    "papermill": {
     "duration": 0.014577,
     "end_time": "2024-08-29T18:41:29.883501",
     "exception": false,
     "start_time": "2024-08-29T18:41:29.868924",
     "status": "completed"
    },
    "tags": []
   },
   "source": [
    "random_state is provided as input to divide the test set and the training set randomly. If we use random_state as 47, then the dataset will be divided in a different random way."
   ]
  },
  {
   "cell_type": "markdown",
   "id": "5fc12dab",
   "metadata": {
    "papermill": {
     "duration": 0.020749,
     "end_time": "2024-08-29T18:41:29.919113",
     "exception": false,
     "start_time": "2024-08-29T18:41:29.898364",
     "status": "completed"
    },
    "tags": []
   },
   "source": [
    "# Linear Regression"
   ]
  },
  {
   "cell_type": "markdown",
   "id": "546d7960",
   "metadata": {
    "papermill": {
     "duration": 0.014393,
     "end_time": "2024-08-29T18:41:29.950163",
     "exception": false,
     "start_time": "2024-08-29T18:41:29.935770",
     "status": "completed"
    },
    "tags": []
   },
   "source": [
    "To perform linear regression, LinearRegression class is imported from the module linear_model of the Scikit-learn library. The simple regression model built will be an instance of class LinearRegression."
   ]
  },
  {
   "cell_type": "code",
   "execution_count": 19,
   "id": "24d5105d",
   "metadata": {
    "execution": {
     "iopub.execute_input": "2024-08-29T18:41:29.981725Z",
     "iopub.status.busy": "2024-08-29T18:41:29.981349Z",
     "iopub.status.idle": "2024-08-29T18:41:30.121017Z",
     "shell.execute_reply": "2024-08-29T18:41:30.119862Z"
    },
    "papermill": {
     "duration": 0.158143,
     "end_time": "2024-08-29T18:41:30.123424",
     "exception": false,
     "start_time": "2024-08-29T18:41:29.965281",
     "status": "completed"
    },
    "tags": []
   },
   "outputs": [
    {
     "data": {
      "text/html": [
       "<style>#sk-container-id-1 {color: black;background-color: white;}#sk-container-id-1 pre{padding: 0;}#sk-container-id-1 div.sk-toggleable {background-color: white;}#sk-container-id-1 label.sk-toggleable__label {cursor: pointer;display: block;width: 100%;margin-bottom: 0;padding: 0.3em;box-sizing: border-box;text-align: center;}#sk-container-id-1 label.sk-toggleable__label-arrow:before {content: \"▸\";float: left;margin-right: 0.25em;color: #696969;}#sk-container-id-1 label.sk-toggleable__label-arrow:hover:before {color: black;}#sk-container-id-1 div.sk-estimator:hover label.sk-toggleable__label-arrow:before {color: black;}#sk-container-id-1 div.sk-toggleable__content {max-height: 0;max-width: 0;overflow: hidden;text-align: left;background-color: #f0f8ff;}#sk-container-id-1 div.sk-toggleable__content pre {margin: 0.2em;color: black;border-radius: 0.25em;background-color: #f0f8ff;}#sk-container-id-1 input.sk-toggleable__control:checked~div.sk-toggleable__content {max-height: 200px;max-width: 100%;overflow: auto;}#sk-container-id-1 input.sk-toggleable__control:checked~label.sk-toggleable__label-arrow:before {content: \"▾\";}#sk-container-id-1 div.sk-estimator input.sk-toggleable__control:checked~label.sk-toggleable__label {background-color: #d4ebff;}#sk-container-id-1 div.sk-label input.sk-toggleable__control:checked~label.sk-toggleable__label {background-color: #d4ebff;}#sk-container-id-1 input.sk-hidden--visually {border: 0;clip: rect(1px 1px 1px 1px);clip: rect(1px, 1px, 1px, 1px);height: 1px;margin: -1px;overflow: hidden;padding: 0;position: absolute;width: 1px;}#sk-container-id-1 div.sk-estimator {font-family: monospace;background-color: #f0f8ff;border: 1px dotted black;border-radius: 0.25em;box-sizing: border-box;margin-bottom: 0.5em;}#sk-container-id-1 div.sk-estimator:hover {background-color: #d4ebff;}#sk-container-id-1 div.sk-parallel-item::after {content: \"\";width: 100%;border-bottom: 1px solid gray;flex-grow: 1;}#sk-container-id-1 div.sk-label:hover label.sk-toggleable__label {background-color: #d4ebff;}#sk-container-id-1 div.sk-serial::before {content: \"\";position: absolute;border-left: 1px solid gray;box-sizing: border-box;top: 0;bottom: 0;left: 50%;z-index: 0;}#sk-container-id-1 div.sk-serial {display: flex;flex-direction: column;align-items: center;background-color: white;padding-right: 0.2em;padding-left: 0.2em;position: relative;}#sk-container-id-1 div.sk-item {position: relative;z-index: 1;}#sk-container-id-1 div.sk-parallel {display: flex;align-items: stretch;justify-content: center;background-color: white;position: relative;}#sk-container-id-1 div.sk-item::before, #sk-container-id-1 div.sk-parallel-item::before {content: \"\";position: absolute;border-left: 1px solid gray;box-sizing: border-box;top: 0;bottom: 0;left: 50%;z-index: -1;}#sk-container-id-1 div.sk-parallel-item {display: flex;flex-direction: column;z-index: 1;position: relative;background-color: white;}#sk-container-id-1 div.sk-parallel-item:first-child::after {align-self: flex-end;width: 50%;}#sk-container-id-1 div.sk-parallel-item:last-child::after {align-self: flex-start;width: 50%;}#sk-container-id-1 div.sk-parallel-item:only-child::after {width: 0;}#sk-container-id-1 div.sk-dashed-wrapped {border: 1px dashed gray;margin: 0 0.4em 0.5em 0.4em;box-sizing: border-box;padding-bottom: 0.4em;background-color: white;}#sk-container-id-1 div.sk-label label {font-family: monospace;font-weight: bold;display: inline-block;line-height: 1.2em;}#sk-container-id-1 div.sk-label-container {text-align: center;}#sk-container-id-1 div.sk-container {/* jupyter's `normalize.less` sets `[hidden] { display: none; }` but bootstrap.min.css set `[hidden] { display: none !important; }` so we also need the `!important` here to be able to override the default hidden behavior on the sphinx rendered scikit-learn.org. See: https://github.com/scikit-learn/scikit-learn/issues/21755 */display: inline-block !important;position: relative;}#sk-container-id-1 div.sk-text-repr-fallback {display: none;}</style><div id=\"sk-container-id-1\" class=\"sk-top-container\"><div class=\"sk-text-repr-fallback\"><pre>LinearRegression()</pre><b>In a Jupyter environment, please rerun this cell to show the HTML representation or trust the notebook. <br />On GitHub, the HTML representation is unable to render, please try loading this page with nbviewer.org.</b></div><div class=\"sk-container\" hidden><div class=\"sk-item\"><div class=\"sk-estimator sk-toggleable\"><input class=\"sk-toggleable__control sk-hidden--visually\" id=\"sk-estimator-id-1\" type=\"checkbox\" checked><label for=\"sk-estimator-id-1\" class=\"sk-toggleable__label sk-toggleable__label-arrow\">LinearRegression</label><div class=\"sk-toggleable__content\"><pre>LinearRegression()</pre></div></div></div></div></div>"
      ],
      "text/plain": [
       "LinearRegression()"
      ]
     },
     "execution_count": 19,
     "metadata": {},
     "output_type": "execute_result"
    }
   ],
   "source": [
    "from sklearn.linear_model import LinearRegression\n",
    "lr = LinearRegression()\n",
    "lr.fit(X_train, y_train)"
   ]
  },
  {
   "cell_type": "raw",
   "id": "37789dd5",
   "metadata": {
    "papermill": {
     "duration": 0.015387,
     "end_time": "2024-08-29T18:41:30.153994",
     "exception": false,
     "start_time": "2024-08-29T18:41:30.138607",
     "status": "completed"
    },
    "tags": []
   },
   "source": [
    "There is no need to assign lr.fit(X_train, y_train) to a variable as the fitting is done on the instance itself. Also here we will be only fitting the training set because the test set we will be used to validate the model.\n",
    "Our test set has 10 observations and for each observation, we have to predict the salary. So the input for predict method will be the year of experience of the test set and we have to compare the predicted salary with its real salary."
   ]
  },
  {
   "cell_type": "markdown",
   "id": "b9be9dd3",
   "metadata": {
    "papermill": {
     "duration": 0.014633,
     "end_time": "2024-08-29T18:41:30.183946",
     "exception": false,
     "start_time": "2024-08-29T18:41:30.169313",
     "status": "completed"
    },
    "tags": []
   },
   "source": [
    "# Predict"
   ]
  },
  {
   "cell_type": "code",
   "execution_count": 20,
   "id": "a21cbaa1",
   "metadata": {
    "execution": {
     "iopub.execute_input": "2024-08-29T18:41:30.215934Z",
     "iopub.status.busy": "2024-08-29T18:41:30.215463Z",
     "iopub.status.idle": "2024-08-29T18:41:30.221100Z",
     "shell.execute_reply": "2024-08-29T18:41:30.219746Z"
    },
    "papermill": {
     "duration": 0.024626,
     "end_time": "2024-08-29T18:41:30.223657",
     "exception": false,
     "start_time": "2024-08-29T18:41:30.199031",
     "status": "completed"
    },
    "tags": []
   },
   "outputs": [],
   "source": [
    "#Prediciting Y from Linear regression Model\n",
    "y_pred = lr.predict(X_test)"
   ]
  },
  {
   "cell_type": "markdown",
   "id": "c4b4d255",
   "metadata": {
    "papermill": {
     "duration": 0.014826,
     "end_time": "2024-08-29T18:41:30.254107",
     "exception": false,
     "start_time": "2024-08-29T18:41:30.239281",
     "status": "completed"
    },
    "tags": []
   },
   "source": [
    "Traning data is visualized with X_train and y_train, the red mark indicates the data point and the blue line indicates the regression line or best fit line."
   ]
  },
  {
   "cell_type": "markdown",
   "id": "00b08f8d",
   "metadata": {
    "papermill": {
     "duration": 0.014724,
     "end_time": "2024-08-29T18:41:30.284047",
     "exception": false,
     "start_time": "2024-08-29T18:41:30.269323",
     "status": "completed"
    },
    "tags": []
   },
   "source": [
    "# ScatterPlot"
   ]
  },
  {
   "cell_type": "code",
   "execution_count": 21,
   "id": "2dee6cee",
   "metadata": {
    "execution": {
     "iopub.execute_input": "2024-08-29T18:41:30.316675Z",
     "iopub.status.busy": "2024-08-29T18:41:30.316149Z",
     "iopub.status.idle": "2024-08-29T18:41:30.332226Z",
     "shell.execute_reply": "2024-08-29T18:41:30.331111Z"
    },
    "papermill": {
     "duration": 0.035503,
     "end_time": "2024-08-29T18:41:30.334715",
     "exception": false,
     "start_time": "2024-08-29T18:41:30.299212",
     "status": "completed"
    },
    "tags": []
   },
   "outputs": [
    {
     "data": {
      "text/html": [
       "<div>                            <div id=\"0cc3511f-cf75-46a1-93ac-89ca812ce524\" class=\"plotly-graph-div\" style=\"height:525px; width:100%;\"></div>            <script type=\"text/javascript\">                require([\"plotly\"], function(Plotly) {                    window.PLOTLYENV=window.PLOTLYENV || {};                                    if (document.getElementById(\"0cc3511f-cf75-46a1-93ac-89ca812ce524\")) {                    Plotly.newPlot(                        \"0cc3511f-cf75-46a1-93ac-89ca812ce524\",                        [{\"mode\":\"markers\",\"name\":\"train\",\"x\":[2.9,9.6,4.0,2.2,3.9,5.1,10.3,9.0,5.3,1.5,3.2,9.5,8.7,5.9,4.0,7.9,10.5,4.1,4.9,3.2],\"y\":[56642.0,112635.0,56957.0,39891.0,63218.0,66029.0,122391.0,105582.0,83088.0,37731.0,54445.0,116969.0,109431.0,81363.0,55794.0,101302.0,121872.0,57081.0,67938.0,64445.0],\"type\":\"scatter\"},{\"mode\":\"markers\",\"name\":\"test\",\"x\":[1.3,1.1,4.5,3.7,7.1,6.0,8.2,3.0,2.0,6.8],\"y\":[46205.0,39343.0,61111.0,57189.0,98273.0,93940.0,113812.0,60150.0,43525.0,91738.0],\"type\":\"scatter\"},{\"name\":\"prediction\",\"x\":[1.1,1.194949494949495,1.2898989898989899,1.384848484848485,1.47979797979798,1.5747474747474748,1.66969696969697,1.7646464646464648,1.8595959595959597,1.9545454545454546,2.0494949494949495,2.144444444444445,2.2393939393939393,2.3343434343434346,2.4292929292929295,2.5242424242424244,2.6191919191919193,2.714141414141414,2.809090909090909,2.904040404040404,2.9989898989898993,3.0939393939393938,3.188888888888889,3.283838383838384,3.378787878787879,3.473737373737374,3.5686868686868687,3.6636363636363636,3.758585858585859,3.853535353535354,3.9484848484848487,4.043434343434344,4.138383838383838,4.233333333333333,4.328282828282829,4.423232323232323,4.518181818181818,4.613131313131314,4.708080808080808,4.803030303030303,4.897979797979798,4.992929292929293,5.087878787878788,5.182828282828282,5.277777777777779,5.372727272727273,5.4676767676767675,5.562626262626262,5.657575757575758,5.752525252525253,5.847474747474747,5.942424242424243,6.037373737373738,6.132323232323232,6.227272727272727,6.322222222222223,6.417171717171717,6.512121212121212,6.607070707070708,6.702020202020202,6.796969696969697,6.891919191919191,6.986868686868688,7.081818181818182,7.1767676767676765,7.271717171717173,7.366666666666667,7.461616161616162,7.556565656565656,7.651515151515152,7.746464646464647,7.841414141414141,7.936363636363636,8.031313131313132,8.126262626262626,8.22121212121212,8.316161616161617,8.411111111111111,8.506060606060606,8.6010101010101,8.695959595959597,8.790909090909091,8.885858585858585,8.980808080808082,9.075757575757576,9.17070707070707,9.265656565656565,9.36060606060606,9.455555555555556,9.55050505050505,9.645454545454545,9.74040404040404,9.835353535353535,9.93030303030303,10.025252525252524,10.12020202020202,10.215151515151515,10.31010101010101,10.405050505050506,10.5],\"y\":[34172.05273296563,35075.30205502318,35978.55137708073,36881.800699138286,37785.050021195835,38688.299343253384,39591.54866531094,40494.79798736849,41398.04730942604,42301.296631483594,43204.545953541136,44107.79527559869,45011.04459765624,45914.2939197138,46817.543241771345,47720.7925638289,48624.04188588644,49527.291207944,50430.54053000155,51333.7898520591,52237.03917411665,53140.288496174195,54043.53781823175,54946.78714028931,55850.036462346856,56753.285784404405,57656.53510646195,58559.78442851951,59463.03375057706,60366.283072634615,61269.53239469216,62172.78171674971,63076.03103880726,63979.28036086482,64882.529682922366,65785.77900497991,66689.02832703746,67592.27764909502,68495.52697115258,69398.77629321012,70302.02561526767,71205.27493732523,72108.52425938277,73011.77358144033,73915.02290349788,74818.27222555543,75721.52154761297,76624.77086967052,77528.02019172808,78431.26951378564,79334.51883584318,80237.76815790075,81141.01747995829,82044.26680201583,82947.51612407339,83850.76544613094,84754.0147681885,85657.26409024603,86560.5134123036,87463.76273436114,88367.0120564187,89270.26137847624,90173.5107005338,91076.76002259135,91980.00934464889,92883.25866670646,93786.507988764,94689.75731082154,95593.0066328791,96496.25595493666,97399.5052769942,98302.75459905175,99206.0039211093,100109.25324316687,101012.50256522441,101915.75188728195,102819.00120933952,103722.25053139706,104625.4998534546,105528.74917551216,106431.99849756972,107335.24781962727,108238.49714168481,109141.74646374237,110044.99578579993,110948.24510785747,111851.49442991501,112754.74375197256,113657.99307403012,114561.24239608766,115464.49171814522,116367.74104020277,117270.99036226033,118174.23968431787,119077.48900637541,119980.73832843298,120883.98765049053,121787.23697254807,122690.48629460564,123593.73561666318],\"type\":\"scatter\"}],                        {\"template\":{\"data\":{\"histogram2dcontour\":[{\"type\":\"histogram2dcontour\",\"colorbar\":{\"outlinewidth\":0,\"ticks\":\"\"},\"colorscale\":[[0.0,\"#0d0887\"],[0.1111111111111111,\"#46039f\"],[0.2222222222222222,\"#7201a8\"],[0.3333333333333333,\"#9c179e\"],[0.4444444444444444,\"#bd3786\"],[0.5555555555555556,\"#d8576b\"],[0.6666666666666666,\"#ed7953\"],[0.7777777777777778,\"#fb9f3a\"],[0.8888888888888888,\"#fdca26\"],[1.0,\"#f0f921\"]]}],\"choropleth\":[{\"type\":\"choropleth\",\"colorbar\":{\"outlinewidth\":0,\"ticks\":\"\"}}],\"histogram2d\":[{\"type\":\"histogram2d\",\"colorbar\":{\"outlinewidth\":0,\"ticks\":\"\"},\"colorscale\":[[0.0,\"#0d0887\"],[0.1111111111111111,\"#46039f\"],[0.2222222222222222,\"#7201a8\"],[0.3333333333333333,\"#9c179e\"],[0.4444444444444444,\"#bd3786\"],[0.5555555555555556,\"#d8576b\"],[0.6666666666666666,\"#ed7953\"],[0.7777777777777778,\"#fb9f3a\"],[0.8888888888888888,\"#fdca26\"],[1.0,\"#f0f921\"]]}],\"heatmap\":[{\"type\":\"heatmap\",\"colorbar\":{\"outlinewidth\":0,\"ticks\":\"\"},\"colorscale\":[[0.0,\"#0d0887\"],[0.1111111111111111,\"#46039f\"],[0.2222222222222222,\"#7201a8\"],[0.3333333333333333,\"#9c179e\"],[0.4444444444444444,\"#bd3786\"],[0.5555555555555556,\"#d8576b\"],[0.6666666666666666,\"#ed7953\"],[0.7777777777777778,\"#fb9f3a\"],[0.8888888888888888,\"#fdca26\"],[1.0,\"#f0f921\"]]}],\"heatmapgl\":[{\"type\":\"heatmapgl\",\"colorbar\":{\"outlinewidth\":0,\"ticks\":\"\"},\"colorscale\":[[0.0,\"#0d0887\"],[0.1111111111111111,\"#46039f\"],[0.2222222222222222,\"#7201a8\"],[0.3333333333333333,\"#9c179e\"],[0.4444444444444444,\"#bd3786\"],[0.5555555555555556,\"#d8576b\"],[0.6666666666666666,\"#ed7953\"],[0.7777777777777778,\"#fb9f3a\"],[0.8888888888888888,\"#fdca26\"],[1.0,\"#f0f921\"]]}],\"contourcarpet\":[{\"type\":\"contourcarpet\",\"colorbar\":{\"outlinewidth\":0,\"ticks\":\"\"}}],\"contour\":[{\"type\":\"contour\",\"colorbar\":{\"outlinewidth\":0,\"ticks\":\"\"},\"colorscale\":[[0.0,\"#0d0887\"],[0.1111111111111111,\"#46039f\"],[0.2222222222222222,\"#7201a8\"],[0.3333333333333333,\"#9c179e\"],[0.4444444444444444,\"#bd3786\"],[0.5555555555555556,\"#d8576b\"],[0.6666666666666666,\"#ed7953\"],[0.7777777777777778,\"#fb9f3a\"],[0.8888888888888888,\"#fdca26\"],[1.0,\"#f0f921\"]]}],\"surface\":[{\"type\":\"surface\",\"colorbar\":{\"outlinewidth\":0,\"ticks\":\"\"},\"colorscale\":[[0.0,\"#0d0887\"],[0.1111111111111111,\"#46039f\"],[0.2222222222222222,\"#7201a8\"],[0.3333333333333333,\"#9c179e\"],[0.4444444444444444,\"#bd3786\"],[0.5555555555555556,\"#d8576b\"],[0.6666666666666666,\"#ed7953\"],[0.7777777777777778,\"#fb9f3a\"],[0.8888888888888888,\"#fdca26\"],[1.0,\"#f0f921\"]]}],\"mesh3d\":[{\"type\":\"mesh3d\",\"colorbar\":{\"outlinewidth\":0,\"ticks\":\"\"}}],\"scatter\":[{\"fillpattern\":{\"fillmode\":\"overlay\",\"size\":10,\"solidity\":0.2},\"type\":\"scatter\"}],\"parcoords\":[{\"type\":\"parcoords\",\"line\":{\"colorbar\":{\"outlinewidth\":0,\"ticks\":\"\"}}}],\"scatterpolargl\":[{\"type\":\"scatterpolargl\",\"marker\":{\"colorbar\":{\"outlinewidth\":0,\"ticks\":\"\"}}}],\"bar\":[{\"error_x\":{\"color\":\"#2a3f5f\"},\"error_y\":{\"color\":\"#2a3f5f\"},\"marker\":{\"line\":{\"color\":\"#E5ECF6\",\"width\":0.5},\"pattern\":{\"fillmode\":\"overlay\",\"size\":10,\"solidity\":0.2}},\"type\":\"bar\"}],\"scattergeo\":[{\"type\":\"scattergeo\",\"marker\":{\"colorbar\":{\"outlinewidth\":0,\"ticks\":\"\"}}}],\"scatterpolar\":[{\"type\":\"scatterpolar\",\"marker\":{\"colorbar\":{\"outlinewidth\":0,\"ticks\":\"\"}}}],\"histogram\":[{\"marker\":{\"pattern\":{\"fillmode\":\"overlay\",\"size\":10,\"solidity\":0.2}},\"type\":\"histogram\"}],\"scattergl\":[{\"type\":\"scattergl\",\"marker\":{\"colorbar\":{\"outlinewidth\":0,\"ticks\":\"\"}}}],\"scatter3d\":[{\"type\":\"scatter3d\",\"line\":{\"colorbar\":{\"outlinewidth\":0,\"ticks\":\"\"}},\"marker\":{\"colorbar\":{\"outlinewidth\":0,\"ticks\":\"\"}}}],\"scattermapbox\":[{\"type\":\"scattermapbox\",\"marker\":{\"colorbar\":{\"outlinewidth\":0,\"ticks\":\"\"}}}],\"scatterternary\":[{\"type\":\"scatterternary\",\"marker\":{\"colorbar\":{\"outlinewidth\":0,\"ticks\":\"\"}}}],\"scattercarpet\":[{\"type\":\"scattercarpet\",\"marker\":{\"colorbar\":{\"outlinewidth\":0,\"ticks\":\"\"}}}],\"carpet\":[{\"aaxis\":{\"endlinecolor\":\"#2a3f5f\",\"gridcolor\":\"white\",\"linecolor\":\"white\",\"minorgridcolor\":\"white\",\"startlinecolor\":\"#2a3f5f\"},\"baxis\":{\"endlinecolor\":\"#2a3f5f\",\"gridcolor\":\"white\",\"linecolor\":\"white\",\"minorgridcolor\":\"white\",\"startlinecolor\":\"#2a3f5f\"},\"type\":\"carpet\"}],\"table\":[{\"cells\":{\"fill\":{\"color\":\"#EBF0F8\"},\"line\":{\"color\":\"white\"}},\"header\":{\"fill\":{\"color\":\"#C8D4E3\"},\"line\":{\"color\":\"white\"}},\"type\":\"table\"}],\"barpolar\":[{\"marker\":{\"line\":{\"color\":\"#E5ECF6\",\"width\":0.5},\"pattern\":{\"fillmode\":\"overlay\",\"size\":10,\"solidity\":0.2}},\"type\":\"barpolar\"}],\"pie\":[{\"automargin\":true,\"type\":\"pie\"}]},\"layout\":{\"autotypenumbers\":\"strict\",\"colorway\":[\"#636efa\",\"#EF553B\",\"#00cc96\",\"#ab63fa\",\"#FFA15A\",\"#19d3f3\",\"#FF6692\",\"#B6E880\",\"#FF97FF\",\"#FECB52\"],\"font\":{\"color\":\"#2a3f5f\"},\"hovermode\":\"closest\",\"hoverlabel\":{\"align\":\"left\"},\"paper_bgcolor\":\"white\",\"plot_bgcolor\":\"#E5ECF6\",\"polar\":{\"bgcolor\":\"#E5ECF6\",\"angularaxis\":{\"gridcolor\":\"white\",\"linecolor\":\"white\",\"ticks\":\"\"},\"radialaxis\":{\"gridcolor\":\"white\",\"linecolor\":\"white\",\"ticks\":\"\"}},\"ternary\":{\"bgcolor\":\"#E5ECF6\",\"aaxis\":{\"gridcolor\":\"white\",\"linecolor\":\"white\",\"ticks\":\"\"},\"baxis\":{\"gridcolor\":\"white\",\"linecolor\":\"white\",\"ticks\":\"\"},\"caxis\":{\"gridcolor\":\"white\",\"linecolor\":\"white\",\"ticks\":\"\"}},\"coloraxis\":{\"colorbar\":{\"outlinewidth\":0,\"ticks\":\"\"}},\"colorscale\":{\"sequential\":[[0.0,\"#0d0887\"],[0.1111111111111111,\"#46039f\"],[0.2222222222222222,\"#7201a8\"],[0.3333333333333333,\"#9c179e\"],[0.4444444444444444,\"#bd3786\"],[0.5555555555555556,\"#d8576b\"],[0.6666666666666666,\"#ed7953\"],[0.7777777777777778,\"#fb9f3a\"],[0.8888888888888888,\"#fdca26\"],[1.0,\"#f0f921\"]],\"sequentialminus\":[[0.0,\"#0d0887\"],[0.1111111111111111,\"#46039f\"],[0.2222222222222222,\"#7201a8\"],[0.3333333333333333,\"#9c179e\"],[0.4444444444444444,\"#bd3786\"],[0.5555555555555556,\"#d8576b\"],[0.6666666666666666,\"#ed7953\"],[0.7777777777777778,\"#fb9f3a\"],[0.8888888888888888,\"#fdca26\"],[1.0,\"#f0f921\"]],\"diverging\":[[0,\"#8e0152\"],[0.1,\"#c51b7d\"],[0.2,\"#de77ae\"],[0.3,\"#f1b6da\"],[0.4,\"#fde0ef\"],[0.5,\"#f7f7f7\"],[0.6,\"#e6f5d0\"],[0.7,\"#b8e186\"],[0.8,\"#7fbc41\"],[0.9,\"#4d9221\"],[1,\"#276419\"]]},\"xaxis\":{\"gridcolor\":\"white\",\"linecolor\":\"white\",\"ticks\":\"\",\"title\":{\"standoff\":15},\"zerolinecolor\":\"white\",\"automargin\":true,\"zerolinewidth\":2},\"yaxis\":{\"gridcolor\":\"white\",\"linecolor\":\"white\",\"ticks\":\"\",\"title\":{\"standoff\":15},\"zerolinecolor\":\"white\",\"automargin\":true,\"zerolinewidth\":2},\"scene\":{\"xaxis\":{\"backgroundcolor\":\"#E5ECF6\",\"gridcolor\":\"white\",\"linecolor\":\"white\",\"showbackground\":true,\"ticks\":\"\",\"zerolinecolor\":\"white\",\"gridwidth\":2},\"yaxis\":{\"backgroundcolor\":\"#E5ECF6\",\"gridcolor\":\"white\",\"linecolor\":\"white\",\"showbackground\":true,\"ticks\":\"\",\"zerolinecolor\":\"white\",\"gridwidth\":2},\"zaxis\":{\"backgroundcolor\":\"#E5ECF6\",\"gridcolor\":\"white\",\"linecolor\":\"white\",\"showbackground\":true,\"ticks\":\"\",\"zerolinecolor\":\"white\",\"gridwidth\":2}},\"shapedefaults\":{\"line\":{\"color\":\"#2a3f5f\"}},\"annotationdefaults\":{\"arrowcolor\":\"#2a3f5f\",\"arrowhead\":0,\"arrowwidth\":1},\"geo\":{\"bgcolor\":\"white\",\"landcolor\":\"#E5ECF6\",\"subunitcolor\":\"white\",\"showland\":true,\"showlakes\":true,\"lakecolor\":\"white\"},\"title\":{\"x\":0.05},\"mapbox\":{\"style\":\"light\"}}}},                        {\"responsive\": true}                    ).then(function(){\n",
       "                            \n",
       "var gd = document.getElementById('0cc3511f-cf75-46a1-93ac-89ca812ce524');\n",
       "var x = new MutationObserver(function (mutations, observer) {{\n",
       "        var display = window.getComputedStyle(gd).display;\n",
       "        if (!display || display === 'none') {{\n",
       "            console.log([gd, 'removed!']);\n",
       "            Plotly.purge(gd);\n",
       "            observer.disconnect();\n",
       "        }}\n",
       "}});\n",
       "\n",
       "// Listen for the removal of the full notebook cells\n",
       "var notebookContainer = gd.closest('#notebook-container');\n",
       "if (notebookContainer) {{\n",
       "    x.observe(notebookContainer, {childList: true});\n",
       "}}\n",
       "\n",
       "// Listen for the clearing of the current output cell\n",
       "var outputEl = gd.closest('.output');\n",
       "if (outputEl) {{\n",
       "    x.observe(outputEl, {childList: true});\n",
       "}}\n",
       "\n",
       "                        })                };                });            </script>        </div>"
      ]
     },
     "metadata": {},
     "output_type": "display_data"
    }
   ],
   "source": [
    "x_range = np.linspace(X.min(), X.max(), 100)\n",
    "y_range = lr.predict(x_range.reshape(-1, 1))\n",
    "\n",
    "fig = go.Figure([\n",
    "        go.Scatter(x=X_train.squeeze(), y=y_train, \n",
    "                   name='train', mode='markers'),\n",
    "        go.Scatter(x=X_test.squeeze(), y=y_test, \n",
    "                   name='test', mode='markers'),\n",
    "        go.Scatter(x=x_range, y=y_range, \n",
    "                   name='prediction')\n",
    "    ])\n",
    "\n",
    "fig.show()"
   ]
  },
  {
   "cell_type": "markdown",
   "id": "0451f062",
   "metadata": {
    "papermill": {
     "duration": 0.015108,
     "end_time": "2024-08-29T18:41:30.365240",
     "exception": false,
     "start_time": "2024-08-29T18:41:30.350132",
     "status": "completed"
    },
    "tags": []
   },
   "source": [
    "# Coefficient and Intercept "
   ]
  },
  {
   "cell_type": "markdown",
   "id": "64fc8c81",
   "metadata": {
    "papermill": {
     "duration": 0.015407,
     "end_time": "2024-08-29T18:41:30.396760",
     "exception": false,
     "start_time": "2024-08-29T18:41:30.381353",
     "status": "completed"
    },
    "tags": []
   },
   "source": [
    "To find the linear regression equation, coefficient and intercept are to be calculated which can be done with the below equation."
   ]
  },
  {
   "cell_type": "code",
   "execution_count": 22,
   "id": "ad1f5e33",
   "metadata": {
    "execution": {
     "iopub.execute_input": "2024-08-29T18:41:30.430278Z",
     "iopub.status.busy": "2024-08-29T18:41:30.429887Z",
     "iopub.status.idle": "2024-08-29T18:41:30.435137Z",
     "shell.execute_reply": "2024-08-29T18:41:30.433909Z"
    },
    "papermill": {
     "duration": 0.024476,
     "end_time": "2024-08-29T18:41:30.437573",
     "exception": false,
     "start_time": "2024-08-29T18:41:30.413097",
     "status": "completed"
    },
    "tags": []
   },
   "outputs": [],
   "source": [
    "#Assigning Coefficient (slope) to b\n",
    "b = lr.coef_"
   ]
  },
  {
   "cell_type": "code",
   "execution_count": 23,
   "id": "b33b708e",
   "metadata": {
    "execution": {
     "iopub.execute_input": "2024-08-29T18:41:30.470182Z",
     "iopub.status.busy": "2024-08-29T18:41:30.469762Z",
     "iopub.status.idle": "2024-08-29T18:41:30.476435Z",
     "shell.execute_reply": "2024-08-29T18:41:30.475119Z"
    },
    "papermill": {
     "duration": 0.025866,
     "end_time": "2024-08-29T18:41:30.478834",
     "exception": false,
     "start_time": "2024-08-29T18:41:30.452968",
     "status": "completed"
    },
    "tags": []
   },
   "outputs": [
    {
     "name": "stdout",
     "output_type": "stream",
     "text": [
      "Coefficient  : [9512.94498763]\n"
     ]
    }
   ],
   "source": [
    "print(\"Coefficient  :\" , b)"
   ]
  },
  {
   "cell_type": "code",
   "execution_count": 24,
   "id": "b10709a9",
   "metadata": {
    "execution": {
     "iopub.execute_input": "2024-08-29T18:41:30.514744Z",
     "iopub.status.busy": "2024-08-29T18:41:30.514350Z",
     "iopub.status.idle": "2024-08-29T18:41:30.519465Z",
     "shell.execute_reply": "2024-08-29T18:41:30.518200Z"
    },
    "papermill": {
     "duration": 0.027488,
     "end_time": "2024-08-29T18:41:30.521932",
     "exception": false,
     "start_time": "2024-08-29T18:41:30.494444",
     "status": "completed"
    },
    "tags": []
   },
   "outputs": [],
   "source": [
    "#Assigning Y-intercept to a\n",
    "a = lr.intercept_"
   ]
  },
  {
   "cell_type": "code",
   "execution_count": 25,
   "id": "1dba2433",
   "metadata": {
    "execution": {
     "iopub.execute_input": "2024-08-29T18:41:30.556288Z",
     "iopub.status.busy": "2024-08-29T18:41:30.555889Z",
     "iopub.status.idle": "2024-08-29T18:41:30.561996Z",
     "shell.execute_reply": "2024-08-29T18:41:30.560652Z"
    },
    "papermill": {
     "duration": 0.026556,
     "end_time": "2024-08-29T18:41:30.564268",
     "exception": false,
     "start_time": "2024-08-29T18:41:30.537712",
     "status": "completed"
    },
    "tags": []
   },
   "outputs": [
    {
     "name": "stdout",
     "output_type": "stream",
     "text": [
      "Intercept :  23707.81324657549\n"
     ]
    }
   ],
   "source": [
    "print(\"Intercept : \", a)"
   ]
  },
  {
   "cell_type": "markdown",
   "id": "4e7e548e",
   "metadata": {
    "papermill": {
     "duration": 0.016307,
     "end_time": "2024-08-29T18:41:30.597006",
     "exception": false,
     "start_time": "2024-08-29T18:41:30.580699",
     "status": "completed"
    },
    "tags": []
   },
   "source": [
    "# Predicting Unknown Values"
   ]
  },
  {
   "cell_type": "markdown",
   "id": "ec04d7ce",
   "metadata": {
    "papermill": {
     "duration": 0.015214,
     "end_time": "2024-08-29T18:41:30.628315",
     "exception": false,
     "start_time": "2024-08-29T18:41:30.613101",
     "status": "completed"
    },
    "tags": []
   },
   "source": [
    "For this model, the linear regression equation will be:\n",
    "\n",
    "Predicted Salary=Coefficient × (years of experience) + Intercept \n",
    "\n",
    "For Years of Experience 11, predicted salary can be calculated as:\n",
    "\n",
    "_ × (11) + _ = _\n",
    "\n",
    "y(11) can be predicted with the model as below.\n"
   ]
  },
  {
   "cell_type": "code",
   "execution_count": 26,
   "id": "dbb508ca",
   "metadata": {
    "execution": {
     "iopub.execute_input": "2024-08-29T18:41:30.661639Z",
     "iopub.status.busy": "2024-08-29T18:41:30.661249Z",
     "iopub.status.idle": "2024-08-29T18:41:30.666969Z",
     "shell.execute_reply": "2024-08-29T18:41:30.665863Z"
    },
    "papermill": {
     "duration": 0.025505,
     "end_time": "2024-08-29T18:41:30.669895",
     "exception": false,
     "start_time": "2024-08-29T18:41:30.644390",
     "status": "completed"
    },
    "tags": []
   },
   "outputs": [
    {
     "name": "stdout",
     "output_type": "stream",
     "text": [
      "[128350.20811048]\n"
     ]
    }
   ],
   "source": [
    "# y_pred=9426.03876907×(years of experience)+25324.33537924433\n",
    "#y_predict(11)\n",
    "print(lr.predict([[11]]))"
   ]
  },
  {
   "attachments": {
    "image.png": {
     "image/png": "[encoded data removed]"
    }
   },
   "cell_type": "markdown",
   "id": "d4d29c3e",
   "metadata": {
    "papermill": {
     "duration": 0.01568,
     "end_time": "2024-08-29T18:41:30.701645",
     "exception": false,
     "start_time": "2024-08-29T18:41:30.685965",
     "status": "completed"
    },
    "tags": []
   },
   "source": [
    "Mean Squared Error (MSE) is one of the regression evaluation metrics. It is calculated as the average squared difference between the predicted values and the real value. The mathematical equation for MSE is as:\n",
    "![image.png](attachment:image.png)"
   ]
  },
  {
   "cell_type": "markdown",
   "id": "b6420a21",
   "metadata": {
    "papermill": {
     "duration": 0.015539,
     "end_time": "2024-08-29T18:41:30.733134",
     "exception": false,
     "start_time": "2024-08-29T18:41:30.717595",
     "status": "completed"
    },
    "tags": []
   },
   "source": [
    "MSE can be calculated from the metrics module of Scikit-learn library."
   ]
  },
  {
   "cell_type": "markdown",
   "id": "1641f463",
   "metadata": {
    "papermill": {
     "duration": 0.015565,
     "end_time": "2024-08-29T18:41:30.765279",
     "exception": false,
     "start_time": "2024-08-29T18:41:30.749714",
     "status": "completed"
    },
    "tags": []
   },
   "source": [
    "# Evaluation"
   ]
  },
  {
   "cell_type": "code",
   "execution_count": 27,
   "id": "fb22d5bf",
   "metadata": {
    "execution": {
     "iopub.execute_input": "2024-08-29T18:41:30.798224Z",
     "iopub.status.busy": "2024-08-29T18:41:30.797798Z",
     "iopub.status.idle": "2024-08-29T18:41:30.803232Z",
     "shell.execute_reply": "2024-08-29T18:41:30.802036Z"
    },
    "papermill": {
     "duration": 0.024918,
     "end_time": "2024-08-29T18:41:30.805857",
     "exception": false,
     "start_time": "2024-08-29T18:41:30.780939",
     "status": "completed"
    },
    "tags": []
   },
   "outputs": [],
   "source": [
    "#Mean Squared Error (MSE)\n",
    "from sklearn import metrics"
   ]
  },
  {
   "cell_type": "code",
   "execution_count": 28,
   "id": "5997319b",
   "metadata": {
    "execution": {
     "iopub.execute_input": "2024-08-29T18:41:30.839704Z",
     "iopub.status.busy": "2024-08-29T18:41:30.839337Z",
     "iopub.status.idle": "2024-08-29T18:41:30.847155Z",
     "shell.execute_reply": "2024-08-29T18:41:30.845575Z"
    },
    "papermill": {
     "duration": 0.027878,
     "end_time": "2024-08-29T18:41:30.849748",
     "exception": false,
     "start_time": "2024-08-29T18:41:30.821870",
     "status": "completed"
    },
    "tags": []
   },
   "outputs": [
    {
     "name": "stdout",
     "output_type": "stream",
     "text": [
      "Mean Squared Error (MSE)  :  60451409.832681164\n"
     ]
    }
   ],
   "source": [
    "print('Mean Squared Error (MSE)  : ', metrics.mean_squared_error(y_test, y_pred))"
   ]
  },
  {
   "cell_type": "code",
   "execution_count": 29,
   "id": "de592d8c",
   "metadata": {
    "execution": {
     "iopub.execute_input": "2024-08-29T18:41:30.884592Z",
     "iopub.status.busy": "2024-08-29T18:41:30.884215Z",
     "iopub.status.idle": "2024-08-29T18:41:32.598671Z",
     "shell.execute_reply": "2024-08-29T18:41:32.597583Z"
    },
    "papermill": {
     "duration": 1.734739,
     "end_time": "2024-08-29T18:41:32.601322",
     "exception": false,
     "start_time": "2024-08-29T18:41:30.866583",
     "status": "completed"
    },
    "tags": []
   },
   "outputs": [],
   "source": [
    "import statsmodels.api as sm"
   ]
  },
  {
   "cell_type": "markdown",
   "id": "5838466e",
   "metadata": {
    "papermill": {
     "duration": 0.015742,
     "end_time": "2024-08-29T18:41:32.633295",
     "exception": false,
     "start_time": "2024-08-29T18:41:32.617553",
     "status": "completed"
    },
    "tags": []
   },
   "source": [
    "Ordinary Least-Squares (OLS) estimator module can be called from statsmodels.api to get regression summary."
   ]
  },
  {
   "cell_type": "code",
   "execution_count": 30,
   "id": "ffe11e22",
   "metadata": {
    "execution": {
     "iopub.execute_input": "2024-08-29T18:41:32.667685Z",
     "iopub.status.busy": "2024-08-29T18:41:32.667072Z",
     "iopub.status.idle": "2024-08-29T18:41:32.716903Z",
     "shell.execute_reply": "2024-08-29T18:41:32.715800Z"
    },
    "papermill": {
     "duration": 0.069537,
     "end_time": "2024-08-29T18:41:32.719427",
     "exception": false,
     "start_time": "2024-08-29T18:41:32.649890",
     "status": "completed"
    },
    "tags": []
   },
   "outputs": [
    {
     "data": {
      "text/html": [
       "<table class=\"simpletable\">\n",
       "<caption>OLS Regression Results</caption>\n",
       "<tr>\n",
       "  <th>Dep. Variable:</th>            <td>y</td>        <th>  R-squared:         </th> <td>   0.972</td>\n",
       "</tr>\n",
       "<tr>\n",
       "  <th>Model:</th>                   <td>OLS</td>       <th>  Adj. R-squared:    </th> <td>   0.970</td>\n",
       "</tr>\n",
       "<tr>\n",
       "  <th>Method:</th>             <td>Least Squares</td>  <th>  F-statistic:       </th> <td>   616.8</td>\n",
       "</tr>\n",
       "<tr>\n",
       "  <th>Date:</th>             <td>Thu, 29 Aug 2024</td> <th>  Prob (F-statistic):</th> <td>2.23e-15</td>\n",
       "</tr>\n",
       "<tr>\n",
       "  <th>Time:</th>                 <td>18:41:32</td>     <th>  Log-Likelihood:    </th> <td> -197.13</td>\n",
       "</tr>\n",
       "<tr>\n",
       "  <th>No. Observations:</th>      <td>    20</td>      <th>  AIC:               </th> <td>   398.3</td>\n",
       "</tr>\n",
       "<tr>\n",
       "  <th>Df Residuals:</th>          <td>    18</td>      <th>  BIC:               </th> <td>   400.3</td>\n",
       "</tr>\n",
       "<tr>\n",
       "  <th>Df Model:</th>              <td>     1</td>      <th>                     </th>     <td> </td>   \n",
       "</tr>\n",
       "<tr>\n",
       "  <th>Covariance Type:</th>      <td>nonrobust</td>    <th>                     </th>     <td> </td>   \n",
       "</tr>\n",
       "</table>\n",
       "<table class=\"simpletable\">\n",
       "<tr>\n",
       "    <td></td>       <th>coef</th>     <th>std err</th>      <th>t</th>      <th>P>|t|</th>  <th>[0.025</th>    <th>0.975]</th>  \n",
       "</tr>\n",
       "<tr>\n",
       "  <th>const</th> <td> 2.371e+04</td> <td> 2468.760</td> <td>    9.603</td> <td> 0.000</td> <td> 1.85e+04</td> <td> 2.89e+04</td>\n",
       "</tr>\n",
       "<tr>\n",
       "  <th>x1</th>    <td> 9512.9450</td> <td>  383.048</td> <td>   24.835</td> <td> 0.000</td> <td> 8708.190</td> <td> 1.03e+04</td>\n",
       "</tr>\n",
       "</table>\n",
       "<table class=\"simpletable\">\n",
       "<tr>\n",
       "  <th>Omnibus:</th>       <td> 1.535</td> <th>  Durbin-Watson:     </th> <td>   1.980</td>\n",
       "</tr>\n",
       "<tr>\n",
       "  <th>Prob(Omnibus):</th> <td> 0.464</td> <th>  Jarque-Bera (JB):  </th> <td>   1.193</td>\n",
       "</tr>\n",
       "<tr>\n",
       "  <th>Skew:</th>          <td> 0.567</td> <th>  Prob(JB):          </th> <td>   0.551</td>\n",
       "</tr>\n",
       "<tr>\n",
       "  <th>Kurtosis:</th>      <td> 2.616</td> <th>  Cond. No.          </th> <td>    14.9</td>\n",
       "</tr>\n",
       "</table><br/><br/>Notes:<br/>[1] Standard Errors assume that the covariance matrix of the errors is correctly specified."
      ],
      "text/latex": [
       "\\begin{center}\n",
       "\\begin{tabular}{lclc}\n",
       "\\toprule\n",
       "\\textbf{Dep. Variable:}    &        y         & \\textbf{  R-squared:         } &     0.972   \\\\\n",
       "\\textbf{Model:}            &       OLS        & \\textbf{  Adj. R-squared:    } &     0.970   \\\\\n",
       "\\textbf{Method:}           &  Least Squares   & \\textbf{  F-statistic:       } &     616.8   \\\\\n",
       "\\textbf{Date:}             & Thu, 29 Aug 2024 & \\textbf{  Prob (F-statistic):} &  2.23e-15   \\\\\n",
       "\\textbf{Time:}             &     18:41:32     & \\textbf{  Log-Likelihood:    } &   -197.13   \\\\\n",
       "\\textbf{No. Observations:} &          20      & \\textbf{  AIC:               } &     398.3   \\\\\n",
       "\\textbf{Df Residuals:}     &          18      & \\textbf{  BIC:               } &     400.3   \\\\\n",
       "\\textbf{Df Model:}         &           1      & \\textbf{                     } &             \\\\\n",
       "\\textbf{Covariance Type:}  &    nonrobust     & \\textbf{                     } &             \\\\\n",
       "\\bottomrule\n",
       "\\end{tabular}\n",
       "\\begin{tabular}{lcccccc}\n",
       "               & \\textbf{coef} & \\textbf{std err} & \\textbf{t} & \\textbf{P$> |$t$|$} & \\textbf{[0.025} & \\textbf{0.975]}  \\\\\n",
       "\\midrule\n",
       "\\textbf{const} &    2.371e+04  &     2468.760     &     9.603  &         0.000        &     1.85e+04    &     2.89e+04     \\\\\n",
       "\\textbf{x1}    &    9512.9450  &      383.048     &    24.835  &         0.000        &     8708.190    &     1.03e+04     \\\\\n",
       "\\bottomrule\n",
       "\\end{tabular}\n",
       "\\begin{tabular}{lclc}\n",
       "\\textbf{Omnibus:}       &  1.535 & \\textbf{  Durbin-Watson:     } &    1.980  \\\\\n",
       "\\textbf{Prob(Omnibus):} &  0.464 & \\textbf{  Jarque-Bera (JB):  } &    1.193  \\\\\n",
       "\\textbf{Skew:}          &  0.567 & \\textbf{  Prob(JB):          } &    0.551  \\\\\n",
       "\\textbf{Kurtosis:}      &  2.616 & \\textbf{  Cond. No.          } &     14.9  \\\\\n",
       "\\bottomrule\n",
       "\\end{tabular}\n",
       "%\\caption{OLS Regression Results}\n",
       "\\end{center}\n",
       "\n",
       "Notes: \\newline\n",
       " [1] Standard Errors assume that the covariance matrix of the errors is correctly specified."
      ],
      "text/plain": [
       "<class 'statsmodels.iolib.summary.Summary'>\n",
       "\"\"\"\n",
       "                            OLS Regression Results                            \n",
       "==============================================================================\n",
       "Dep. Variable:                      y   R-squared:                       0.972\n",
       "Model:                            OLS   Adj. R-squared:                  0.970\n",
       "Method:                 Least Squares   F-statistic:                     616.8\n",
       "Date:                Thu, 29 Aug 2024   Prob (F-statistic):           2.23e-15\n",
       "Time:                        18:41:32   Log-Likelihood:                -197.13\n",
       "No. Observations:                  20   AIC:                             398.3\n",
       "Df Residuals:                      18   BIC:                             400.3\n",
       "Df Model:                           1                                         \n",
       "Covariance Type:            nonrobust                                         \n",
       "==============================================================================\n",
       "                 coef    std err          t      P>|t|      [0.025      0.975]\n",
       "------------------------------------------------------------------------------\n",
       "const       2.371e+04   2468.760      9.603      0.000    1.85e+04    2.89e+04\n",
       "x1          9512.9450    383.048     24.835      0.000    8708.190    1.03e+04\n",
       "==============================================================================\n",
       "Omnibus:                        1.535   Durbin-Watson:                   1.980\n",
       "Prob(Omnibus):                  0.464   Jarque-Bera (JB):                1.193\n",
       "Skew:                           0.567   Prob(JB):                        0.551\n",
       "Kurtosis:                       2.616   Cond. No.                         14.9\n",
       "==============================================================================\n",
       "\n",
       "Notes:\n",
       "[1] Standard Errors assume that the covariance matrix of the errors is correctly specified.\n",
       "\"\"\""
      ]
     },
     "execution_count": 30,
     "metadata": {},
     "output_type": "execute_result"
    }
   ],
   "source": [
    "X_stat = sm.add_constant(X_train)\n",
    "regsummary = sm.OLS(y_train, X_stat).fit()\n",
    "regsummary.summary()"
   ]
  },
  {
   "cell_type": "markdown",
   "id": "868e5ffd",
   "metadata": {
    "papermill": {
     "duration": 0.016973,
     "end_time": "2024-08-29T18:41:32.752773",
     "exception": false,
     "start_time": "2024-08-29T18:41:32.735800",
     "status": "completed"
    },
    "tags": []
   },
   "source": [
    "R-Square or Adj-R-Square value can be obtained as below."
   ]
  },
  {
   "cell_type": "code",
   "execution_count": 31,
   "id": "e816f4c2",
   "metadata": {
    "execution": {
     "iopub.execute_input": "2024-08-29T18:41:32.787459Z",
     "iopub.status.busy": "2024-08-29T18:41:32.787041Z",
     "iopub.status.idle": "2024-08-29T18:41:32.793584Z",
     "shell.execute_reply": "2024-08-29T18:41:32.792125Z"
    },
    "papermill": {
     "duration": 0.027451,
     "end_time": "2024-08-29T18:41:32.796408",
     "exception": false,
     "start_time": "2024-08-29T18:41:32.768957",
     "status": "completed"
    },
    "tags": []
   },
   "outputs": [
    {
     "name": "stdout",
     "output_type": "stream",
     "text": [
      "Adjusted R-Square :  0.9700678765774073\n",
      "R-Square :  0.9716432514943859\n"
     ]
    }
   ],
   "source": [
    "print(\"Adjusted R-Square : \",regsummary.rsquared_adj)\n",
    "print(\"R-Square : \",regsummary.rsquared)"
   ]
  },
  {
   "cell_type": "markdown",
   "id": "aa02519f",
   "metadata": {
    "papermill": {
     "duration": 0.016366,
     "end_time": "2024-08-29T18:41:32.829152",
     "exception": false,
     "start_time": "2024-08-29T18:41:32.812786",
     "status": "completed"
    },
    "tags": []
   },
   "source": [
    "If only interested to find the R-Square value, r2_score can be imported from the metrics module of the Scikit-learn library."
   ]
  },
  {
   "cell_type": "code",
   "execution_count": 32,
   "id": "72e13bfa",
   "metadata": {
    "execution": {
     "iopub.execute_input": "2024-08-29T18:41:32.863528Z",
     "iopub.status.busy": "2024-08-29T18:41:32.863134Z",
     "iopub.status.idle": "2024-08-29T18:41:32.868152Z",
     "shell.execute_reply": "2024-08-29T18:41:32.867105Z"
    },
    "papermill": {
     "duration": 0.025609,
     "end_time": "2024-08-29T18:41:32.870850",
     "exception": false,
     "start_time": "2024-08-29T18:41:32.845241",
     "status": "completed"
    },
    "tags": []
   },
   "outputs": [],
   "source": [
    "from sklearn.metrics import r2_score"
   ]
  },
  {
   "cell_type": "code",
   "execution_count": 33,
   "id": "8f537cf0",
   "metadata": {
    "execution": {
     "iopub.execute_input": "2024-08-29T18:41:32.905532Z",
     "iopub.status.busy": "2024-08-29T18:41:32.905131Z",
     "iopub.status.idle": "2024-08-29T18:41:32.913858Z",
     "shell.execute_reply": "2024-08-29T18:41:32.912875Z"
    },
    "papermill": {
     "duration": 0.029409,
     "end_time": "2024-08-29T18:41:32.916555",
     "exception": false,
     "start_time": "2024-08-29T18:41:32.887146",
     "status": "completed"
    },
    "tags": []
   },
   "outputs": [
    {
     "data": {
      "text/plain": [
       "0.9716432514943859"
      ]
     },
     "execution_count": 33,
     "metadata": {},
     "output_type": "execute_result"
    }
   ],
   "source": [
    "r2_score(y_train, lr.predict(X_train))"
   ]
  }
 ],
 "metadata": {
  "kaggle": {
   "accelerator": "none",
   "dataSources": [
    {
     "datasetId": 5549628,
     "sourceId": 9181678,
     "sourceType": "datasetVersion"
    }
   ],
   "dockerImageVersionId": 30746,
   "isGpuEnabled": false,
   "isInternetEnabled": true,
   "language": "python",
   "sourceType": "notebook"
  },
  "kernelspec": {
   "display_name": "Python 3",
   "language": "python",
   "name": "python3"
  },
  "language_info": {
   "codemirror_mode": {
    "name": "ipython",
    "version": 3
   },
   "file_extension": ".py",
   "mimetype": "text/x-python",
   "name": "python",
   "nbconvert_exporter": "python",
   "pygments_lexer": "ipython3",
   "version": "3.10.13"
  },
  "papermill": {
   "default_parameters": {},
   "duration": 14.917766,
   "end_time": "2024-08-29T18:41:33.756339",
   "environment_variables": {},
   "exception": null,
   "input_path": "__notebook__.ipynb",
   "output_path": "__notebook__.ipynb",
   "parameters": {},
   "start_time": "2024-08-29T18:41:18.838573",
   "version": "2.2.2"
  }
 },
 "nbformat": 4,
 "nbformat_minor": 5
}
